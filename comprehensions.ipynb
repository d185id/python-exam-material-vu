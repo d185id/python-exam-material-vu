{
 "cells": [
  {
   "cell_type": "markdown",
   "id": "b6b8e26b-9dcd-4795-b6f6-e2901a664756",
   "metadata": {},
   "source": [
    "# Comprehensions"
   ]
  },
  {
   "cell_type": "markdown",
   "id": "da837e53-7984-480f-82d0-8a1f9cc46aba",
   "metadata": {},
   "source": [
    "**In this notebook, we cover the following subjects:**\n",
    "- Why Comprehensions?;\n",
    "- List Comprehension;\n",
    "- Set and Dictionary Comprehension;\n",
    "- Nested Comprehensions.\n",
    "___________________________________________________________________________________________________________________________"
   ]
  },
  {
   "cell_type": "code",
   "execution_count": null,
   "id": "07f3ffc5-6a15-43e5-ad27-b25a3b04a8b0",
   "metadata": {
    "tags": []
   },
   "outputs": [],
   "source": [
    "# To enable type hints for lists, dicts, tuples, and sets we need to import the following:\n",
    "from typing import List, Dict, Tuple, Set"
   ]
  },
  {
   "cell_type": "markdown",
   "id": "303bb9a3-2cbc-45fa-a32c-be508d3159f3",
   "metadata": {
    "tags": []
   },
   "source": [
    "## <span style=\"color:#4169E1\">Why Comprehensions?</span>\n",
    "\n",
    "When you're creating sequences, like lists or sets, it can be tedious and repetitive. Luckily, [comprehensions][comp] can make that process a lot easier.\n",
    "\n",
    "A **comprehension** is an *expression* that constructs a *data structure* based on some *iterable*. In this notebook, we will cover the three main types of comprehensions: list, dictionary, and set comprehensions. Examples make comprehensions much clearer, so let's dive into the first one.\n",
    "\n",
    "[comp]:https://programming-pybook.github.io/introProgramming/chapters/comprehensions_generators.html#comprehensions"
   ]
  },
  {
   "cell_type": "markdown",
   "id": "197f8e69-eb64-49f3-bbba-73b87188826c",
   "metadata": {
    "tags": []
   },
   "source": [
    "## <span style=\"color:#4169E1\">List Comprehension</span>\n",
    "\n",
    "Imagine you're given the task of creating a list with all the squares of the numbers 0 through 9. Most probably ou would solve this task using a traditional loop in the following way:"
   ]
  },
  {
   "cell_type": "code",
   "execution_count": null,
   "id": "114cb6fc-d572-47b4-badd-0a96d5f66c19",
   "metadata": {
    "tags": []
   },
   "outputs": [],
   "source": [
    "squared_numbers: List[int] = []\n",
    "for number in range(10):\n",
    "    squared_numbers.append(number ** 2)\n",
    "\n",
    "print(squared_numbers)"
   ]
  },
  {
   "cell_type": "markdown",
   "id": "97a412c1-04de-4807-a5a5-dd7d263bf8c4",
   "metadata": {},
   "source": [
    "This looks like a successful execution, doesn't it? However, you can do this in a more compact way using comprehensions. The syntax for list comprehensions is as follows:\n",
    "\n",
    "```python\n",
    "list_comprehension = [expression for item in iterable]\n",
    "```\n",
    "Now, if we apply this to our task, it looks like this:"
   ]
  },
  {
   "cell_type": "code",
   "execution_count": null,
   "id": "21b1fb99-eebc-41ba-a702-e35984666f7d",
   "metadata": {
    "tags": []
   },
   "outputs": [],
   "source": [
    "squared_numbers: List[int] = [number ** 2 for number in range(10)]\n",
    "\n",
    "print(squared_numbers)"
   ]
  },
  {
   "cell_type": "markdown",
   "id": "16e62309-6135-4ca6-be2b-1f3621cd3198",
   "metadata": {},
   "source": [
    "See? The same result is achieved in an easier way that also requires less effort. The code snippets can each be linked to the components of the comprehension:\n",
    "\n",
    "- **Expression:** `number ** 2` – This is where the magic happens. It’s the operation you want to apply to each element in the iterable.\n",
    "- **Item:** `number` – This is your placeholder, representing each element that you take from the sequence to process.\n",
    "- **Iterable:** `range(10)` – This is the original sequence you’re iterating over, one by one, to apply the operation."
   ]
  },
  {
   "cell_type": "markdown",
   "id": "6425a729-c981-41ec-8143-037825f78545",
   "metadata": {},
   "source": [
    "```{note}\n",
    "A list comprehension is easily recognized by the <b>square brackets</b> <code>[]</code>, which indicate that you're creating a list.\n",
    "```"
   ]
  },
  {
   "cell_type": "markdown",
   "id": "8ba03e23-7f98-42c5-b3fb-3e334945b019",
   "metadata": {},
   "source": [
    "#### <span style=\"color:#B22222\">Selective Inclusion in a Comprehension</span>\n",
    "\n",
    "You can also selectively include items in your list by adding an `if` clause. This adjusts the syntax we used earlier like this:\n",
    "```python\n",
    "list_comprehension = [expression for item in iterable if condition]\n",
    "```\n",
    "For example, we can adjust our previous task by specifying that we only want to store the squares of the odd numbers in the list."
   ]
  },
  {
   "cell_type": "code",
   "execution_count": null,
   "id": "84949bb2-deca-4e9f-a06b-57d7396f08df",
   "metadata": {
    "tags": []
   },
   "outputs": [],
   "source": [
    "odd_squares: List[int] = [number ** 2 for number in range(10) if number % 2 != 0]\n",
    "\n",
    "print(odd_squares)"
   ]
  },
  {
   "cell_type": "markdown",
   "id": "c0128930-e893-430b-a99f-7b196f56f891",
   "metadata": {},
   "source": [
    "```{admonition} What is limiting about using <code> if</code> alone in list comprehensions, and how can this be resolved?\r\n",
    ":class: tip, dropdown\r\n",
    "    Using <cod e>if</code> alone in a list comprehension only filters elements, excluding those that don’t meet the condition. To handle both cases—elements that meet the condition and those that don’t—you can use a <b>conditional expression</b>. This allows you to apply different operations or transformations to each case within a single list comprehension.\r\n"
   ]
  },
  {
   "cell_type": "markdown",
   "id": "36ce25ee-411d-472c-aaac-4120bac1b444",
   "metadata": {},
   "source": [
    "#### <span style=\"color:#B22222\">Conditional Expression within a Comprehension</span>\n"
   ]
  },
  {
   "cell_type": "markdown",
   "id": "9c0c6d27-c5b1-42a8-b976-f55007356532",
   "metadata": {},
   "source": [
    "Sometimes, we want to distinguish between elements or apply different operations in a sequence rather than just filtering. For this, we use a **conditional expression** in a list comprehension. This lets us choose between two expressions based on a condition. The syntax is:\n",
    "\n",
    "```python\n",
    "[true_expression if condition else false_expression for item in iterable]\n",
    "```\n",
    "\n",
    "Here, `true_expression if condition else false_expression` represents the **conditional expression**. It determines which expression to use depending on whether the condition is `True` or `False`. Let's break it down:\n",
    "\n",
    "- **true_expression**: If the condition evaluates to `True`, this is the expression used.\n",
    "- **condition**: This is the condition that decides which expression to use.\n",
    "- **false_expression**: This is the expression used when the condition evaluates to `False`.\n",
    "\n",
    "Let's look at an example. Imagine, your task is to create a new list from a list of integers where each number is squared if it’s even, and 0 if it’s odd."
   ]
  },
  {
   "cell_type": "code",
   "execution_count": null,
   "id": "88a18185-2f18-4558-84f1-da711cd96ba2",
   "metadata": {
    "tags": []
   },
   "outputs": [],
   "source": [
    "# Original list of integers\n",
    "numbers: List[int] = [12, 45, 7, 23, 89, 34, 56, 78, 9, 67]\n",
    "print(\"Original list:\", numbers)\n",
    "\n",
    "# List comprehension to square even numbers and replace odd numbers with 0\n",
    "squared_evens_or_zero: List[int] = [number ** 2 if number % 2 == 0 else 0 for number in numbers]\n",
    "print(\"Squared evens or zero:\", squared_evens_or_zero)"
   ]
  },
  {
   "cell_type": "markdown",
   "id": "9b213427-9495-4246-b528-e332f6c373f2",
   "metadata": {},
   "source": [
    "```{note}\n",
    "Remember that an expression is a combination of values, variables, and operators, but a value by itself is also considered an expression.\n",
    "```"
   ]
  },
  {
   "cell_type": "markdown",
   "id": "77799b8b-c02e-43a1-9114-8e4918428c08",
   "metadata": {},
   "source": [
    "In this example, we apply an *operation* when a number is even (condition evaluates to `True`) and replace it with a specific *value*, namely 0, when the condition is `False`. We can also choose a different *operation* for the `False` condition. For instance, instead of replacing each odd number with 0, we could triple it if it’s odd."
   ]
  },
  {
   "cell_type": "code",
   "execution_count": null,
   "id": "69a6df2a-88ee-4b95-8efa-c9138d321e87",
   "metadata": {
    "tags": []
   },
   "outputs": [],
   "source": [
    "# List of integers\n",
    "numbers: List[int] = [12, 45, 7, 23, 89, 34, 56, 78, 9, 67]\n",
    "print(\"Original list:\", numbers)\n",
    "\n",
    "# List comprehension to square even numbers and triple odd numbers\n",
    "squared_evens_or_triple_odds: List[int] = [number ** 2 if number % 2 == 0 else number * 3 for number in numbers]\n",
    "print(\"Squared evens or tripled odds:\", squared_evens_or_triple_odds)"
   ]
  },
  {
   "cell_type": "markdown",
   "id": "df09e480-2f77-48d7-9d2f-45498fd98663",
   "metadata": {
    "tags": []
   },
   "source": [
    "## <span style=\"color:#4169E1\">Set and Dictionary Comprehension</span>\n"
   ]
  },
  {
   "cell_type": "markdown",
   "id": "541cc53d-06cb-4269-ac39-5ba4eab227ed",
   "metadata": {},
   "source": [
    "#### <span style=\"color:#B22222\">Set Comprehension</span>\n"
   ]
  },
  {
   "cell_type": "markdown",
   "id": "e2c38dbb-780f-4e9c-9903-57400df354c5",
   "metadata": {},
   "source": [
    "**Set comprehension** mirrors list comprehension but produces a set instead. The syntax is nearly identical, with the main difference being that sets use curly braces `{}`:\n",
    "\n",
    "```python\n",
    "set_comprehension = {expression for item in iterable if condition}\n",
    "```\n",
    "\n",
    "Let’s look at an example. Imagine we have a list of words, and we want to create a set that contains all the words longer than three characters, converted to uppercase."
   ]
  },
  {
   "cell_type": "code",
   "execution_count": null,
   "id": "2c58ff3a-eaf1-4edf-931f-503c2c777e8b",
   "metadata": {
    "tags": []
   },
   "outputs": [],
   "source": [
    "plants = [\"rose\", \"lily\", \"sunflower\", \"oak\", \"fern\", \"cactus\"]\n",
    "\n",
    "uppercase_plants = {plant.upper() for plant in plants if len(plant) > 3}\n",
    "\n",
    "print(uppercase_plants)"
   ]
  },
  {
   "cell_type": "markdown",
   "id": "99ef822e-ac76-4cb2-8e9e-15bef8395e86",
   "metadata": {},
   "source": [
    "#### <span style=\"color:#B22222\">Dictionary Comprehension</span>\n"
   ]
  },
  {
   "cell_type": "markdown",
   "id": "9165335e-c7f6-497a-a483-36166a29b5b0",
   "metadata": {},
   "source": [
    "Just like list and set comprehensions, dictionary comprehensions are easiest to understand through an example. The syntax is as follows:\n",
    "\n",
    "```python\n",
    "dict_comprehension = {key_expression: value_expression for item in iterable}\n",
    "```\n",
    "Let's jump straight to an example. For instance, if you want to create a dictionary where the keys are numbers from 1 to 5 and the values are their squares, you can achieve this with a dictionary comprehension:"
   ]
  },
  {
   "cell_type": "code",
   "execution_count": null,
   "id": "e58e7612-3e64-4b33-91ac-240fc819f417",
   "metadata": {
    "tags": []
   },
   "outputs": [],
   "source": [
    "# Dictionary of numbers and their squares\n",
    "squares_dict: Dict[int, int] = {x: x ** 2 for x in range(1, 6)}\n",
    "\n",
    "print(squares_dict)"
   ]
  },
  {
   "cell_type": "markdown",
   "id": "d1e7211c-cdeb-4711-9e57-1e3e61f0cc03",
   "metadata": {},
   "source": [
    "As can be seen, the main difference between list and set comprehensions and dictionary comprehensions is how elements are defined. In dictionary comprehensions, you specify both a key and a value, with each being defined by an expression."
   ]
  },
  {
   "cell_type": "markdown",
   "id": "79654851-0701-4d1f-9705-21a25d076993",
   "metadata": {},
   "source": [
    "```{note}\n",
    "<b>Conditional expressions</b> and <b>selective inclusion</b> can also be used in dictionary and set comprehensions.\n",
    "```"
   ]
  },
  {
   "cell_type": "markdown",
   "id": "ed77ea26-29d3-45fd-b060-9efa31521729",
   "metadata": {
    "tags": []
   },
   "source": [
    "## <span style=\"color:#4169E1\">Nested Comprehensions</span>\n"
   ]
  },
  {
   "cell_type": "markdown",
   "id": "bf5c01c7-4a1c-4d89-aeca-189592dc7c00",
   "metadata": {},
   "source": [
    "If you need to select items after transforming them, you can use a **nested comprehension**. In this approach, the *inner comprehension* is evaluated first, and the result is then used by the *outer comprehension*. The syntax for nested list comprehensions is:\n",
    "\n",
    "```python\n",
    "nested_list_comprehension = [[expression for item in inner_iterable] for item in outer_iterable]\n",
    "```\n",
    "\n",
    "Here, the inner comprehension processes items from `inner_iterable`, and the outer comprehension uses the resulting lists to construct the final structure.\n",
    "\n",
    "For instance, let's say you want to create a 3x3 matrix represented as a list of lists where each element is the product (multiplication) of its row and column indices (using 1 as the starting index):"
   ]
  },
  {
   "cell_type": "code",
   "execution_count": null,
   "id": "56f21bf2-a6eb-49ef-a433-f2168ce0a23f",
   "metadata": {
    "tags": []
   },
   "outputs": [],
   "source": [
    "matrix: List[List[int]] = [[x * y for y in range(1,4)] for x in range(1,4)]\n",
    "\n",
    "print(matrix)"
   ]
  },
  {
   "cell_type": "markdown",
   "id": "8fa739f3-df1d-4f06-94fb-0d15653860f3",
   "metadata": {},
   "source": [
    "In this example, you have a nested comprehension. The outer comprehension constructs the rows of the matrix, and the inner comprehension `[i * j for j in range(1, 4)]` generates the elements within each row by computing the products of `i` and `j`.\n",
    "\n",
    "Note: a matrix looks as follows:\n",
    "\n",
    "                                    | 1  2  3 |\n",
    "                                    | 4  5  6 |\n",
    "                                    | 7  8  9 |\n",
    "\n",
    "Which can be represented in Python as follows:\n",
    "\n",
    "```python\n",
    "                                matrix = [\n",
    "                                    [1, 2, 3],\n",
    "                                    [4, 5, 6],\n",
    "                                    [7, 8, 9]\n",
    "                                ]\n",
    "```"
   ]
  },
  {
   "cell_type": "markdown",
   "id": "a35058d1-f29f-498c-a3e2-329ebc3beebb",
   "metadata": {},
   "source": [
    "```{note}\n",
    "You can use <b>nested comprehensions</b> with <b>sets</b> and <b>dictionaries</b> just as you would with lists.\n",
    "```"
   ]
  },
  {
   "cell_type": "markdown",
   "id": "168a6845-c42c-4aa5-8c49-83c39251cbf3",
   "metadata": {
    "tags": []
   },
   "source": [
    "## <span style=\"color:#3CB371\">Exercises</span>"
   ]
  },
  {
   "cell_type": "markdown",
   "id": "b36cc6c8-ac76-4369-85bb-f03263e55eca",
   "metadata": {},
   "source": [
    "Let's practice! Mind that each exercise is designed with multiple levels to help you progressively build your skills. <span style=\"color:darkorange;\"><strong>Level 1</strong></span> is the foundational level, designed to be straightforward so that everyone can successfully complete it. In <span style=\"color:darkorange;\"><strong>Level 2</strong></span>, we step it up a notch, expecting you to use more complex concepts or combine them in new ways. Finally, in <span style=\"color:darkorange;\"><strong>Level 3</strong></span>, we get closest to exam level questions, but we may use some concepts that are not covered in this notebook. However, in programming, you often encounter situations where you’re unsure how to proceed. Fortunately, you can often solve these problems by starting to work on them and figuring things out as you go. Practicing this skill is extremely helpful, so we highly recommend completing these exercises.\n",
    "\n",
    "For each of the exercises, make sure to add a `docstring` and `type hints`, and **do not** import any libraries unless specified otherwise.\n",
    "<br>"
   ]
  },
  {
   "cell_type": "markdown",
   "id": "b6989e0e-c3b4-4588-ae65-d464ada0526a",
   "metadata": {
    "tags": []
   },
   "source": [
    "### Exercise 1\n",
    "\n",
    "Let's practise with comprehensions! Imagine you’re the coach of a new football team and need to get to know your players. You have stats showing each player’s goal-scoring record throughout their career.\n",
    "\n",
    "<span style=\"color:darkorange;\"><strong>Level 1</strong>:</span> Your task is to create a function called `average_goals()`. This function should accept a list of dictionaries. Each dictionary represents a player and contains their name and a list of integers showing the number of goals scored each season. You need to calculate the average number of goals scored by each player over their entire career and store this in a new dictionary. In this dictionary, each key will be a player’s name, and the value will be their average number of goals per season, rounded to one decimal place. Use **comprehensions** to create the resulting dictionary.\n",
    "**Print** the result **outside** the function in a clear and readable format.\n",
    "\n",
    "\n",
    "**Example input**: you pass this argument to the parameter in the function call.\n",
    "\n",
    "```python\n",
    "players: List[Dict[str, List[int]]] = [\n",
    "    {'name': 'Vivianne Miedema', 'goals': [23, 20, 22, 17, 25]},\n",
    "    {'name': 'Ellen White', 'goals': [15, 12, 11, 14, 16]},\n",
    "    {'name': 'Marta', 'goals': [10, 8, 9, 12, 11]},\n",
    "    {'name': 'Alexandra Popp', 'goals': [14, 10, 12, 9, 13]}\n",
    "]\n",
    "```\n",
    "\n",
    "**Example return value**:\n",
    "```Python\n",
    "{\n",
    "    'Vivianne Miedema': 21.4,\n",
    "    'Ellen White': 13.6,\n",
    "    'Marta': 10.0,\n",
    "    'Alexandra Popp': 11.6\n",
    "}\n",
    "```\n",
    "\n",
    "**Example output**:\n",
    "```\n",
    "Vivianne Miedema: 21.4\n",
    "Ellen White: 13.6\n",
    "Marta: 10.0\n",
    "Alexandra Popp: 11.6\n",
    "```"
   ]
  },
  {
   "cell_type": "code",
   "execution_count": null,
   "id": "563b4e63-a35a-443d-a69f-a2a4c0f69ccb",
   "metadata": {
    "tags": []
   },
   "outputs": [],
   "source": [
    "# TODO."
   ]
  },
  {
   "cell_type": "markdown",
   "id": "67116256-9463-4785-a18e-7f847473719a",
   "metadata": {},
   "source": [
    "<span style=\"color:darkorange;\"><strong>Level 2</strong>:</span> As a football analytics intern, you are tasked with calculating the areas of junior league football pitches, represented by **squares of prime dimensions** from **2** to **19**. Create a list comprehension `prime_square_areas` that captures these areas.\n",
    "\n",
    "**Example input**:\n",
    "```python\n",
    "range(2,20)\n",
    "```\n",
    "\n",
    "**Example output**:\n",
    "```python\n",
    "[4, 9, 25, 49, 121, 169, 289, 361]\n",
    "```"
   ]
  },
  {
   "cell_type": "code",
   "execution_count": null,
   "id": "e9b51e2e-8d21-4cce-b272-8c5c89b1bd9f",
   "metadata": {},
   "outputs": [],
   "source": [
    "# TODO"
   ]
  },
  {
   "cell_type": "markdown",
   "id": "114f7f1f-b3cd-478e-bf05-84a7a6073c26",
   "metadata": {},
   "source": [
    "<span style=\"color:darkorange;\"><strong>Level 3</strong>:</span> Advance your pitch area analysis by generating a list of unique pitch areas, ensuring that **no** two pitches have the same **remainder** when **divided by 10**. Use a list comprehension named `unique_remainder_areas` to derive the areas from prime dimensions between 2 and 19 (computed in level 2), Moreover, filter them to keep only the **first** occurrence of each unique remainder.\n",
    "\n",
    "**Example:** If the areas calculated are `[4, 9, 25, 49, 121, 169]`, the remainders when divided by 10 are `[4, 9, 5, 9, 1, 9]`. The unique first occurrences are `[4, 9, 5, 1]`, corresponding to areas `[4, 9, 25, 121]`.\n",
    "\n",
    "**Example input**:\n",
    "```python\n",
    "range(2,20)\n",
    "```\n",
    "\n",
    "**Example output**:\n",
    "```python\n",
    "[4, 9, 25, 121\n",
    "```"
   ]
  },
  {
   "cell_type": "markdown",
   "id": "99b469e7-1a65-48dd-9fae-3402e22f0deb",
   "metadata": {},
   "source": [
    "### Exercise 2\n",
    "\n",
    "<span style=\"color:darkorange;\"><strong>Level 1</strong>:</span> You are tasked with managing Christmas gifts for children. Each gift has a certain value (in dollars) based on the **number of candies in a box**, `cubed`. Create a set comprehension named `gift_values` that calculates the value of each gift box, where the number of candies ranges from 1 to 10.\n",
    "\n",
    "**Example input**: \n",
    "```python\n",
    "range(1, 11)\n",
    "```\n",
    "\n",
    "**Example output**:\n",
    "```\n",
    "{1, 8, 27, 64, 125, 216, 343, 512, 729, 1000}\n",
    "```"
   ]
  },
  {
   "cell_type": "code",
   "execution_count": null,
   "id": "fe669b86-0d41-40f8-bcea-00299ccac343",
   "metadata": {},
   "outputs": [],
   "source": [
    "# TODO"
   ]
  },
  {
   "cell_type": "markdown",
   "id": "59383406-f235-4609-9804-1a132e37b03a",
   "metadata": {},
   "source": [
    "<span style=\"color:darkorange;\"><strong>Level 2</strong>:</span> Santa's elves have created a list of children's names along with the number of candies each child wishes for in their gift. Create a **dictionary comprehension** named `wishlist_dict` that maps each child's name to their desired number of candies, but **only include** those children who want **more than 5** candies.\n",
    "\n",
    "**Example input**: \n",
    "```python\n",
    "wishlist: Dict[str, int] = {'Alice': 4, 'Bob': 6, 'Charlie': 9, 'Daisy': 3, 'Ethan': 8}\n",
    "```\n",
    "\n",
    "**Example output**:\n",
    "```\n",
    "{'Bob': 6, 'Charlie': 9, 'Ethan': 8}\n",
    "```"
   ]
  },
  {
   "cell_type": "code",
   "execution_count": null,
   "id": "3bd27f76-475e-496d-995e-8721b64ea17f",
   "metadata": {},
   "outputs": [],
   "source": [
    "# TODO"
   ]
  },
  {
   "cell_type": "markdown",
   "id": "2fd3bae6-5baf-4321-8ea7-eef9a85728a1",
   "metadata": {},
   "source": [
    "<span style=\"color:darkorange;\"><strong>Level 3</strong>:</span> Santa is decorating the Christmas tree and wants to use different colored ornaments. The elves have identified the ornaments by color names. You need to create a nested data structure—specifically, a **dictionary** where each **key** is an **ornament color**, and the **value** is a **set of unique letters** used in the color’s name. Use a dictionary comprehension named `ornament_letters`.\n",
    "\n",
    "**Example input**: \n",
    "```python\n",
    "ornament_colors: List[str] = ['red', 'gold', 'silver', 'blue']\n",
    "```\n",
    "\n",
    "**Example output**:\n",
    "```\n",
    "{'red': {'d', 'e', 'r'}, 'gold': {'g', 'l', 'o', 'd'}, 'silver': {'s', 'i', 'l', 'v', 'e', 'r'}, 'blue': {'b', 'l', 'u', 'e'}}\n",
    "```"
   ]
  },
  {
   "cell_type": "code",
   "execution_count": 14,
   "id": "c1058845-29bd-4d96-979b-6cdb27fdf370",
   "metadata": {},
   "outputs": [],
   "source": [
    "# TODO"
   ]
  },
  {
   "cell_type": "markdown",
   "id": "7632065e-2cf2-4047-932b-b8a42610ff7e",
   "metadata": {},
   "source": [
    "### Exercise 3\n",
    "\n",
    "<span style=\"color:darkorange;\"><strong>Level 1</strong>:</span> You have a list of designer brands and their popularity ratings (on a scale from 1 to 10). Use a dictionary comprehension named `brand_popularity` to create a dictionary where each **brand** is a **key**, and its **rating** is the **value**. `If` the rating is **8** `or` **above**, mark the brand as `\"Highly Popular\"`; otherwise, mark it as `\"Moderately Popular\"`.\n",
    "\n",
    "**Example input**: \n",
    "```python\n",
    "brands: Dict[str, int] = {'Gucci': 9, 'Prada': 7, 'Louis Vuitton': 10, 'Chanel': 8, 'Balenciaga': 6}\n",
    "```\n",
    "\n",
    "**Example output**:\n",
    "```\n",
    "{'Gucci': 'Highly Popular', 'Prada': 'Moderately Popular', 'Louis Vuitton': 'Highly Popular', 'Chanel': 'Highly Popular', 'Balenciaga': 'Moderately Popular'}\n",
    "```"
   ]
  },
  {
   "cell_type": "code",
   "execution_count": null,
   "id": "8b06233e-25e0-4595-a5fa-e929f7307554",
   "metadata": {},
   "outputs": [],
   "source": [
    "# TODO"
   ]
  },
  {
   "cell_type": "markdown",
   "id": "dc260b89-4417-4172-985a-3eb322428b93",
   "metadata": {},
   "source": [
    "<span style=\"color:darkorange;\"><strong>Level 2</strong>:</span> During the holiday season, designer brands are offering discounts based on their popularity. Brands rated **8** `or` **higher** will have a `20% discount`, while others will have a `10% discount`. Use a **dictionary comprehension** named `brand_discounts` to create a dictionary where each brand's value is its discount percentage. This dictionary should be derived from the popularity ratings provided.\n",
    "\n",
    "**Example input**: \n",
    "```python\n",
    "brands: Dict[str, int] = {'Gucci': 9, 'Prada': 7, 'Louis Vuitton': 10, 'Chanel': 8, 'Balenciaga': 6}\n",
    "```\n",
    "\n",
    "**Example output**:\n",
    "```\n",
    "{'Gucci': 20%, 'Prada': 10%, 'Louis Vuitton': 20%, 'Chanel': 20%, 'Balenciaga': 10%}\n",
    "```"
   ]
  },
  {
   "cell_type": "code",
   "execution_count": null,
   "id": "77a86944-290c-4086-b97d-44d5ea88a5ae",
   "metadata": {},
   "outputs": [],
   "source": [
    "# TODO"
   ]
  },
  {
   "cell_type": "markdown",
   "id": "8e75d82d-138e-4e80-9947-11e2aebe27ec",
   "metadata": {},
   "source": [
    "<span style=\"color:darkorange;\"><strong>Level 3</strong>:</span> During the holiday season, the brands are creating gift collections. The collection is made up of items whose total value must be below a threshold. Create a **nested dictionary** named `brand_collections` where each **brand** is a **key**, and the **value** is another **dictionary** of **item names** and **prices**. **Only** include items whose price, after applying the appropriate discount (from Level 2), is `below $500`. Use a dictionary comprehension with a nested comprehension to accomplish this.\n",
    "\n",
    "**Example input**: \n",
    "```python\n",
    "brand_items: Dict[Dict[str, int]] = {\n",
    "    'Gucci': {'Bag': 600, 'Shoes': 450, 'Belt': 300},\n",
    "    'Prada': {'Sunglasses': 200, 'Hat': 100, 'Shoes': 500},\n",
    "    'Louis Vuitton': {'Bag': 1000, 'Wallet': 400, 'Scarf': 150},\n",
    "    'Chanel': {'Perfume': 300, 'Handbag': 700, 'Necklace': 450},\n",
    "    'Balenciaga': {'Sneakers': 400, 'Hoodie': 550, 'Cap': 200}\n",
    "}\n",
    "brand_discounts: Dict[str, int] = {'Gucci': 20, 'Prada': 10, 'Louis Vuitton': 20, 'Chanel': 20, 'Balenciaga': 10}\n",
    "```\n",
    "\n",
    "**Example output**:\n",
    "```\n",
    "{\r\n",
    "    'Gucci': {'Shoes': 360.0, 'Belt': 240.0},\r\n",
    "    'Prada': {'Sunglasses': 180.0, 'Hat': 90.0},\r\n",
    "    'Louis Vuitton': {'Wallet': 320.0, 'Scarf': 120.0},\r\n",
    "    'Chanel': {'Perfume': 240.0, 'Necklace': 360.0},\r\n",
    "    'Balenciaga': {'Sneakers': 360.0, 'Cap': 180.0}\r\n",
    "}\r\n",
    "\n",
    "```"
   ]
  },
  {
   "cell_type": "code",
   "execution_count": null,
   "id": "ee327444-d2d9-44da-b427-ed43db52aef0",
   "metadata": {},
   "outputs": [],
   "source": [
    "# TODO"
   ]
  },
  {
   "cell_type": "markdown",
   "id": "c5a3323d-c670-42ae-8458-8e463b08c106",
   "metadata": {},
   "source": [
    "___________________________________________________________________________________________________________________________\n",
    "\n",
    "*Material for the VU Amsterdam course “Introduction to Python Programming” for BSc Artificial Intelligence students. These notebooks are created using the following sources:*\n",
    "1. [Learning Python by Doing][learning python]: This book, developed by teachers of TU/e Eindhoven and VU Amsterdam, is the main source for the course materials. Code snippets or text explanations from the book may be used in the notebooks, sometimes with slight adjustments.\n",
    "2. [Think Python][think python]\n",
    "3. [GeekForGeeks][geekforgeeks]\n",
    "\n",
    "[learning python]: https://programming-pybook.github.io/introProgramming/intro.html\n",
    "[think python]: https://greenteapress.com/thinkpython2/html/\n",
    "[geekforgeeks]: https://www.geeksforgeeks.org"
   ]
  }
 ],
 "metadata": {
  "kernelspec": {
   "display_name": "Python 3 (ipykernel)",
   "language": "python",
   "name": "python3"
  },
  "language_info": {
   "codemirror_mode": {
    "name": "ipython",
    "version": 3
   },
   "file_extension": ".py",
   "mimetype": "text/x-python",
   "name": "python",
   "nbconvert_exporter": "python",
   "pygments_lexer": "ipython3",
   "version": "3.11.4"
  }
 },
 "nbformat": 4,
 "nbformat_minor": 5
}

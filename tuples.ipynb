{
 "cells": [
  {
   "cell_type": "markdown",
   "id": "7860cfad-8338-45df-8dfe-c4776781bfa9",
   "metadata": {},
   "source": [
    "# Tuples"
   ]
  },
  {
   "cell_type": "markdown",
   "id": "7d76f023-67df-403c-bf6b-5340b4616ae5",
   "metadata": {},
   "source": [
    "**In this notebook, we cover the following subjects:**\n",
    "- Defining a Tuple;\n",
    "- Working with Tuples;\n",
    "- More Advanced Tasks.\n",
    "___________________________________________________________________________________________________________________________"
   ]
  },
  {
   "cell_type": "code",
   "execution_count": 1,
   "id": "03fbdb61-b65e-426a-87cb-dfccccf98af6",
   "metadata": {
    "tags": []
   },
   "outputs": [],
   "source": [
    "# To enable type hints for lists, dicts, and tuples, we need to import the following:\n",
    "from typing import List, Dict, Tuple"
   ]
  },
  {
   "cell_type": "markdown",
   "id": "ed296bad-be7f-46b8-b0c2-59f6527928a5",
   "metadata": {
    "tags": []
   },
   "source": [
    "## <span style=\"color:#4169E1\">Defining a Tuple</span>\n",
    "\n",
    "In this notebook, we introduce a unique data type used in Python: [tuples][tuple]. A tuple is a sequence of values that is similar to a list, as it is **indexed by integers** and can contain elements of **any type**, including **duplicates**. However, tuples are **immutable**, whereas lists are mutable. This immutability can be a strength in certain situations, ensuring that the data you store in a tuple remains constant throughout your program's execution.\n",
    "\n",
    "Tuples are defined using parentheses `()`.\n",
    "\n",
    "```python\n",
    "my_tuple: Tuple = (element1, element2, element3)\n",
    "```\n",
    "\n",
    "Let's look at an example.\n",
    "\n",
    "[tuple]:https://programming-pybook.github.io/introProgramming/chapters/tuples.html"
   ]
  },
  {
   "cell_type": "code",
   "execution_count": 3,
   "id": "24350eb0-b1b7-430f-94fa-664a4f385e94",
   "metadata": {
    "tags": []
   },
   "outputs": [
    {
     "name": "stdout",
     "output_type": "stream",
     "text": [
      "(1, 2, 3, 4, 5)\n"
     ]
    },
    {
     "data": {
      "text/plain": [
       "tuple"
      ]
     },
     "execution_count": 3,
     "metadata": {},
     "output_type": "execute_result"
    }
   ],
   "source": [
    "my_tuple: Tuple[int, int] = (1, 2, 3, 4, 5)\n",
    "\n",
    "print(my_tuple)\n",
    "type(my_tuple)"
   ]
  },
  {
   "cell_type": "markdown",
   "id": "16cc68cd-acdd-445c-80ac-c0e91f4525ea",
   "metadata": {},
   "source": [
    "If you want to create a **tuple with just one element**, then you have to add a comma (`,`) as **terminator**."
   ]
  },
  {
   "cell_type": "code",
   "execution_count": 5,
   "id": "be4cf57d-b191-43b0-9817-c374354bb1f5",
   "metadata": {
    "tags": []
   },
   "outputs": [
    {
     "name": "stdout",
     "output_type": "stream",
     "text": [
      "('programming',)\n"
     ]
    },
    {
     "data": {
      "text/plain": [
       "tuple"
      ]
     },
     "execution_count": 5,
     "metadata": {},
     "output_type": "execute_result"
    }
   ],
   "source": [
    "my_second_tuple: tuple = 'programming',\n",
    "\n",
    "print(my_second_tuple)\n",
    "type(my_second_tuple)"
   ]
  },
  {
   "cell_type": "markdown",
   "id": "a732292c-22d9-4a20-9871-4ec90380f79c",
   "metadata": {},
   "source": [
    "A single value between parentheses is **not** a tuple."
   ]
  },
  {
   "cell_type": "code",
   "execution_count": 11,
   "id": "879ce4b4-f9c2-4aea-b01f-2f7ec2f64f70",
   "metadata": {
    "tags": []
   },
   "outputs": [
    {
     "name": "stdout",
     "output_type": "stream",
     "text": [
      "statistics\n"
     ]
    },
    {
     "data": {
      "text/plain": [
       "str"
      ]
     },
     "execution_count": 11,
     "metadata": {},
     "output_type": "execute_result"
    }
   ],
   "source": [
    "my_third_tuple: tuple = ('statistics')\n",
    "\n",
    "print(my_third_tuple)\n",
    "type(my_third_tuple)"
   ]
  },
  {
   "cell_type": "markdown",
   "id": "cc076e75-851d-4a86-8d7b-f8de60a5ae0b",
   "metadata": {},
   "source": [
    "#### <span style=\"color:#B22222\">The `tuple()` function</span>"
   ]
  },
  {
   "cell_type": "markdown",
   "id": "3abad951-1f40-48a9-8647-68218d72a7dd",
   "metadata": {},
   "source": [
    "The syntax of the `tuple()` function is:\n",
    "```python\n",
    "tuple(<iterable>)\n",
    "```\n",
    "- iterable​ (optional) - an iterable (list, range, etc.) or an iterator object\n",
    "\n",
    "If the iterable is not passed to tuple(), the function returns an **empty tuple**."
   ]
  },
  {
   "cell_type": "markdown",
   "id": "b4291ea8-bdef-46d1-9d0a-7c3f720b3ff0",
   "metadata": {},
   "source": [
    "Let's see a few examples:"
   ]
  },
  {
   "cell_type": "code",
   "execution_count": 13,
   "id": "4428a117-0e55-448b-8fc6-598aefc592e0",
   "metadata": {
    "tags": []
   },
   "outputs": [
    {
     "name": "stdout",
     "output_type": "stream",
     "text": [
      "t1 = ()\n",
      "t2 = (1, 4, 6)\n",
      "t3 = ('P', 'y', 't', 'h', 'o', 'n')\n",
      "t4 = (1, 2)\n"
     ]
    }
   ],
   "source": [
    "# Empty tuple, so we specify it as Tuple[()]\n",
    "t1: Tuple[()] = tuple()\n",
    "print('t1 =', t1)\n",
    "\n",
    "# Tuple with integers\n",
    "t2: Tuple[int, int] = tuple([1, 4, 6])\n",
    "print('t2 =', t2)\n",
    "\n",
    "# Tuple with characters (from a string, so str elements)\n",
    "t3: Tuple[str, str] = tuple('Python')\n",
    "print('t3 =', t3)\n",
    "\n",
    "# Tuple with integers (from dictionary keys)\n",
    "t4: Tuple[int, int] = tuple({1: 'one', 2: 'two'})\n",
    "print('t4 =', t4)\n"
   ]
  },
  {
   "cell_type": "markdown",
   "id": "eed2bc80-4a31-4f30-aa5e-ab1f51d302b4",
   "metadata": {},
   "source": [
    "#### <span style=\"color:#B22222\">An Overview</span>"
   ]
  },
  {
   "cell_type": "markdown",
   "id": "4ef131ef-0455-49c8-a6de-b606b97488f9",
   "metadata": {},
   "source": [
    "Now, let's add the Tuple to the data types we've covered so far to create a clear overview of their properties."
   ]
  },
  {
   "cell_type": "markdown",
   "id": "60d8b2ec-e305-41ab-8668-0004e93e124c",
   "metadata": {},
   "source": [
    "| Property                              | Tuple           | List            | Dict Keys              | Dict Values              | \n",
    "|-------------------------------------- |-----------------|-----------------|------------------------|--------------------------|\n",
    "| **Mutable** (can you add add/remove?) | no              | yes             | yes                    | yes                      |      \n",
    "| **Can** contain duplicates            | yes             | yes             | no                     | yes                      |\n",
    "| **Ordered**                           | yes             | yes             | yes (since Python 3.7) | yes (follows key order)  |\n",
    "| **Can** contain                       | all             | all             | immutables             |  all                     |\n",
    "\n"
   ]
  },
  {
   "cell_type": "markdown",
   "id": "b30c0775-81d8-4a48-8537-f697f7eb4b54",
   "metadata": {
    "tags": []
   },
   "source": [
    "## <span style=\"color:#4169E1\">Working with Tuples</span>"
   ]
  },
  {
   "cell_type": "markdown",
   "id": "06f5e0b3-6003-41cf-ac9e-352654556cd4",
   "metadata": {},
   "source": [
    "#### <span style=\"color:#B22222\">Accessing Elements</span>\n",
    "\n",
    "The elements in a tuple can be accessed using indexing. (same as with lists)"
   ]
  },
  {
   "cell_type": "code",
   "execution_count": 21,
   "id": "060e9420-c5f0-40e9-b3a8-cd7a1145da22",
   "metadata": {
    "tags": []
   },
   "outputs": [
    {
     "name": "stdout",
     "output_type": "stream",
     "text": [
      "1\n",
      "2\n",
      "5\n"
     ]
    }
   ],
   "source": [
    "numbers_tuple: Tuple[int, int] = (1, 2, 3, 4, 5)\n",
    "# index                           0, 1, 2, 3, 4\n",
    "\n",
    "first_element = numbers_tuple[0]\n",
    "second_element = numbers_tuple[1]\n",
    "last_element = numbers_tuple[-1]\n",
    "\n",
    "print(first_element)\n",
    "print(second_element)\n",
    "print(last_element)"
   ]
  },
  {
   "cell_type": "markdown",
   "id": "031a1cc9-8529-4c99-ae99-3aafcce15d2f",
   "metadata": {},
   "source": [
    "#### <span style=\"color:#B22222\">Slicing</span>\n",
    "\n",
    "\n",
    "You can create sub-tuples by slicing a tuple and assigning them to a new variable.  (same as with lists)"
   ]
  },
  {
   "cell_type": "code",
   "execution_count": 25,
   "id": "473ab804-697a-4169-9d25-ef17c1d2ec5e",
   "metadata": {
    "tags": []
   },
   "outputs": [
    {
     "name": "stdout",
     "output_type": "stream",
     "text": [
      "('Cillian Murphy', 'Emily Blunt', 'Robert Downey Jr.', 'Matt Damon', 'Florence Pugh')\n"
     ]
    }
   ],
   "source": [
    "actors_tuple: Tuple[str, str] = (\"Cillian Murphy\", \"Emily Blunt\", \"Robert Downey Jr.\", \"Matt Damon\", \"Florence Pugh\", \"Kenneth Branagh\", \"Rami Malek\")\n",
    "\n",
    "main_cast_oppenheimer = actors_tuple[:5]\n",
    "\n",
    "print(main_cast_oppenheimer)"
   ]
  },
  {
   "cell_type": "markdown",
   "id": "eca4702c-4627-49cf-907e-830112a637bb",
   "metadata": {},
   "source": [
    "#### <span style=\"color:#B22222\">Concatenation</span>\n",
    "\n",
    "Identical to lists, the `+` operator can be used to concatenate two tuples."
   ]
  },
  {
   "cell_type": "code",
   "execution_count": 28,
   "id": "43e5fe44-2cd0-4a3b-961e-a588cc593224",
   "metadata": {
    "tags": []
   },
   "outputs": [
    {
     "name": "stdout",
     "output_type": "stream",
     "text": [
      "('Wake up', 'Brush teeth', 'Eat breakfast', 'Dinner', 'Watch TV', 'Go to bed')\n"
     ]
    }
   ],
   "source": [
    "morning_tasks: Tuple[str, str] = (\"Wake up\", \"Brush teeth\", \"Eat breakfast\")\n",
    "evening_tasks: Tuple[str, str] = (\"Dinner\", \"Watch TV\", \"Go to bed\")\n",
    "\n",
    "daily_tasks = morning_tasks + evening_tasks\n",
    "\n",
    "print(daily_tasks)"
   ]
  },
  {
   "cell_type": "markdown",
   "id": "9d1c3e22-8560-4a69-9019-7dd576cf2c41",
   "metadata": {},
   "source": [
    "#### <span style=\"color:#B22222\">Repetition</span>\n",
    "\n",
    "\n",
    "A new tuple can be created by repeating an existing one using the `*` operator."
   ]
  },
  {
   "cell_type": "code",
   "execution_count": 31,
   "id": "998fbb59-4f1d-4cfa-a466-b0a247a3a859",
   "metadata": {
    "tags": []
   },
   "outputs": [
    {
     "name": "stdout",
     "output_type": "stream",
     "text": [
      "('Apple', 'Banana', 'Cherry', 'Apple', 'Banana', 'Cherry', 'Apple', 'Banana', 'Cherry')\n"
     ]
    }
   ],
   "source": [
    "favorite_fruits: Tuple[str, str] = (\"Apple\", \"Banana\", \"Cherry\")\n",
    "\n",
    "abundant_fruit_basket = favorite_fruits * 3\n",
    "\n",
    "print(abundant_fruit_basket)"
   ]
  },
  {
   "cell_type": "markdown",
   "id": "c8b1525a-ff03-44be-b634-c3b9ca068bc4",
   "metadata": {},
   "source": [
    "#### <span style=\"color:#B22222\">Length</span>\n",
    "\n",
    "The length of a tuple can be found using the `len()` function."
   ]
  },
  {
   "cell_type": "code",
   "execution_count": 34,
   "id": "0dd56d9c-587e-492f-872d-b1abd0deb550",
   "metadata": {
    "tags": []
   },
   "outputs": [
    {
     "name": "stdout",
     "output_type": "stream",
     "text": [
      "Number of stops on the road trip: 5\n"
     ]
    }
   ],
   "source": [
    "road_trip_stops: Tuple[str, str] = (\"Gas Station\", \"Restaurant\", \"Hotel\", \"Park\", \"Museum\")\n",
    "\n",
    "number_of_stops = len(road_trip_stops)\n",
    "\n",
    "print(f\"Number of stops on the road trip: {number_of_stops}\")"
   ]
  },
  {
   "cell_type": "markdown",
   "id": "b02169a8-0a33-4e02-802d-b686d2b1aa9c",
   "metadata": {},
   "source": [
    "```{note}\n",
    "Just as with other data types, <code>dir()</code> and <code>help()</code> can be used for tuples. \n",
    "```"
   ]
  },
  {
   "cell_type": "markdown",
   "id": "dfd90862-b883-43b4-af06-9c2c5c70d224",
   "metadata": {
    "tags": []
   },
   "source": [
    "## <span style=\"color:#4169E1\">More Advanced Tasks</span>"
   ]
  },
  {
   "cell_type": "markdown",
   "id": "cee015b5-10d1-49f4-a38f-a861f6c96dd8",
   "metadata": {},
   "source": [
    "#### <span style=\"color:#B22222\">Packing and Unpacking</span>\n",
    "\n",
    "\n",
    "Tuples allow you to pack multiple values into one variable and unpack them into several variables."
   ]
  },
  {
   "cell_type": "code",
   "execution_count": 39,
   "id": "43b05e99-e212-4252-835f-cc55eb9c6fa5",
   "metadata": {
    "tags": []
   },
   "outputs": [
    {
     "name": "stdout",
     "output_type": "stream",
     "text": [
      "1 2 3\n"
     ]
    }
   ],
   "source": [
    "# Packing multiple values into a tuple\n",
    "my_tuple: Tuple[int, int] = (1, 2, 3)\n",
    "\n",
    "# Unpacking values from the tuple\n",
    "a, b, c = my_tuple\n",
    "\n",
    "print(a, b, c)"
   ]
  },
  {
   "cell_type": "markdown",
   "id": "0b928994-a72e-407f-96fa-fd719520f1c2",
   "metadata": {},
   "source": [
    "#### <span style=\"color:#B22222\">Tuples as Return Values</span>\n",
    "\n",
    "\n",
    "By means of a tuple a function can return a collection of values."
   ]
  },
  {
   "cell_type": "code",
   "execution_count": 42,
   "id": "1f17dbe7-e1fb-46fc-a2e5-3d482c60bc97",
   "metadata": {
    "tags": []
   },
   "outputs": [
    {
     "name": "stdout",
     "output_type": "stream",
     "text": [
      "10 20\n"
     ]
    }
   ],
   "source": [
    "def get_coordinates() -> Tuple[int, int]:\n",
    "    x: int = 10\n",
    "    y: int = 20\n",
    "    return x, y  # Returning a tuple\n",
    "\n",
    "coordinates: Tuple[int, int] = get_coordinates()\n",
    "x, y = coordinates  # Unpacking the returned values\n",
    "\n",
    "print(x, y)"
   ]
  },
  {
   "cell_type": "markdown",
   "id": "b9d6891a-8138-41d5-b7c5-4b5eb10b7738",
   "metadata": {},
   "source": [
    "```{note}\n",
    "Unlike lists, tuples can be used as keys in dictionaries due to their immutability.\n",
    "```"
   ]
  },
  {
   "cell_type": "markdown",
   "id": "b5660958-c7b5-4767-8768-d06f332d2e25",
   "metadata": {
    "tags": []
   },
   "source": [
    "<h2 style=\"color:#3CB371\">Exercises</h2>"
   ]
  },
  {
   "cell_type": "markdown",
   "id": "b31fac52-bb51-4748-b3f5-9a4244c037bd",
   "metadata": {},
   "source": [
    "Let's practice! Mind that each exercise is designed with multiple levels to help you progressively build your skills. <span style=\"color:darkorange;\"><strong>Level 1</strong></span> is the foundational level, designed to be straightforward so that everyone can successfully complete it. In <span style=\"color:darkorange;\"><strong>Level 2</strong></span>, we step it up a notch, expecting you to use more complex concepts or combine them in new ways. Finally, in <span style=\"color:darkorange;\"><strong>Level 3</strong></span>, we get closest to exam level questions, but we may use some concepts that are not covered in this notebook. However, in programming, you often encounter situations where you’re unsure how to proceed. Fortunately, you can often solve these problems by starting to work on them and figuring things out as you go. Practicing this skill is extremely helpful, so we highly recommend completing these exercises.\n",
    "\n",
    "For each of the exercises, make sure to add a `docstring` and `type hints`, and **do not** import any libraries unless specified otherwise.\n",
    "<br>"
   ]
  },
  {
   "cell_type": "markdown",
   "id": "c11c81ae-03aa-4f0f-b136-b6f3f4204511",
   "metadata": {
    "tags": []
   },
   "source": [
    "### Exercise 1\n",
    "\n",
    "An article critic works with multiple magazines and realizes that most articles use the same words to describe specific events. \n",
    "\n",
    "<span style=\"color:darkorange;\"><strong>Level 1</strong>:</span> Your task is to define a function named `common_words()` that creates a tuple containing all the common words found in both `article_1` and `article_2`. You are **not** allowed to use sets and their methods.\n",
    "\n",
    "The function `common_words()` should:\n",
    "1. Accept two parameters in the following order:\n",
    "    - A string containing `article_1`\n",
    "    - A string containing `article_2`\n",
    "2. Create a tuple with the words that are common to both `article_1` and `article_2` (excluding spaces and punctuation).\n",
    "3. **Return** the tuple of common words.\n",
    "\n",
    "**Print** the tuple **outside** the function in a clear and readable format.\n",
    "\n",
    "**Example input**: you pass these arguments to the parameters in the function call.\n",
    "```Python\n",
    "article_1 : str = \"The strong winds in the Netherlands bring cool air from the North Sea.\"\n",
    "article_2 : str = \"In the Netherlands, windmills have been used for centuries to harness the power of the wind from the sea.\"\n",
    "```\n",
    "\n",
    "**Example output**:\n",
    "```Python\n",
    "\"Common words in both articles: ('sea', 'the', 'netherlands', 'in', 'from')\"\n",
    "```"
   ]
  },
  {
   "cell_type": "code",
   "execution_count": null,
   "id": "553b6e86-6b0c-4508-9937-6c26e39725d0",
   "metadata": {
    "tags": []
   },
   "outputs": [],
   "source": [
    "# TODO."
   ]
  },
  {
   "cell_type": "markdown",
   "id": "b84ff391-2610-45cd-8b41-ef80e7700b20",
   "metadata": {},
   "source": [
    "<span style=\"color:darkorange;\"><strong>Level 2</strong>:</span> Now, let’s take the `common_words()` function up a notch. Your task is to copy and modify this function so that it not only identifies the common words but also counts how many times each of these common words shows up across both articles. The function should **return** a tuple of tuples, where each inner tuple consists of a word and its total count from both articles combined.\n",
    "\n",
    "\n",
    "The function `common_words()` should now:\n",
    "\n",
    "1. Accept two parameters in the following order:\n",
    "    - A string containing `article_1`\n",
    "    - A string containing `article_2`\n",
    "2. Create a **dictionary** (excluding spaces and punctuation) where the keys are the common words and the values are the total counts of those words across both articles.\n",
    "3. Convert the dictionary into a tuple of tuples, where each inner tuple is in the form `(word, count)`.\n",
    "4. **Return** the tuple of tuples sorted alphabetically by the word.\n",
    "\n",
    "**Print** the tuple **outside** the function in a clear and readable format.\n",
    "\n",
    "**Example input**: you pass these arguments to the parameters in the function call.\n",
    "```Python\n",
    "article_1 : str = \"The strong winds in the Netherlands bring cool air from the North Sea.\"\n",
    "article_2 : str = \"In the Netherlands, windmills have been used for centuries to harness the power of the wind from the sea.\"\n",
    "```\n",
    "\n",
    "**Example output**:\n",
    "```Python\n",
    "\"The word frequency of the common words: (('from', 2), ('in', 2), ('netherlands', 2), ('sea', 2), ('the', 7))\"\n",
    "```"
   ]
  },
  {
   "cell_type": "markdown",
   "id": "24850bea-b757-4edb-947f-9c65b10ef29c",
   "metadata": {},
   "source": [
    "<span style=\"color:darkorange;\"><strong>Level 3</strong>:</span> In this level, we'll explore word similarity instead of exact matches. Modify the `common_words()` function so that it not only finds words that are common in both articles but also identifies similar words.\n",
    "\n",
    "Define \"similar words\" as words that share a common root or stem. For example, “running” and “run” would be considered similar, as would “houses” and “house.”  \n",
    "For the purpose of this exercise, assume that **words are similar if they**:\n",
    "- Share at least the first four characters (e.g., “windmill” and “windmills”).\n",
    "- OR, have a common suffix that is three characters or fewer (e.g., “running” and “run”).\n",
    "  \n",
    "The new function should:\n",
    "- Accept two parameters in the following order:\n",
    "    - A string containing `article_1`\n",
    "    - A string containing `article_2`\n",
    "- Find words that are similar across both articles, using the above definitions of similarity.\n",
    "- Count the total occurrences of each similar word group across both articles.\n",
    "- **Return a tuple of tuples**, where each inner tuple is in the form (word_root, count), sorted by frequency in descending order, then alphabetically for ties.\n",
    "\n",
    "**Example input**:\n",
    "```python\n",
    "article_1 : str = \"The strong winds in the Netherlands bring cool air from the North Sea. Windmills help harness wind power.\"\n",
    "article_2 : str = \"Wind power has been crucial in the Netherlands. Many windmills stand tall and capture the wind for power generation.\"\n",
    "```\n",
    "\n",
    "**Example output**:\n",
    "```python\n",
    "\"The word frequency of similar words: (('wind', 6), ('netherland', 2), ('power', 2), ('mill', 2))\"\"\n",
    "```"
   ]
  },
  {
   "cell_type": "code",
   "execution_count": null,
   "id": "8e5a78d4-6c3f-4377-b28f-cf1cc795979a",
   "metadata": {},
   "outputs": [],
   "source": [
    "# TODO."
   ]
  },
  {
   "cell_type": "markdown",
   "id": "dd12400e-f2e4-47a5-8e9f-4c644bf58938",
   "metadata": {
    "tags": []
   },
   "source": [
    "### Exercise 2\n",
    "\n",
    "VU Amsterdam aims to award a scholarship to the best-performing student and recognize all students who have excelled academically.\n",
    "\n",
    "<span style=\"color:darkorange;\"><strong>Level 1</strong>:</span> Your task is to define a function named `honors_students()` that determines the student with the highest GPA and identifies all students with a 9.0 GPA or higher. The function should work as follows:\n",
    "\n",
    "1. It receive one **parameter**: a dictionary where the keys are the names of the students and the values are their GPA scores.\n",
    "2. It creates a tuple with two parts:\n",
    "    - The first part is a tuple containing the name and GPA of the best performing student.\n",
    "    - The second part is a tuple of tuples, where each inner tuple contains the name and GPA of a student with a GPA of 9.0 or above.\n",
    "3. Finally, the function should **return** these two parts as a single tuple using the statement: `return highest_gpa_student, honors`.\n",
    "\n",
    "**Print** the result **outside** the function in a clear and readable format.\n",
    "\n",
    "**Example input**:\n",
    "```python\n",
    "student_scores  : Dict[str,float]= {\n",
    "    \"Alice\": 9.5,\n",
    "    \"Bob\": 8.8,\n",
    "    \"Charlie\": 9.2,\n",
    "    \"David\": 9.8,\n",
    "    \"Eve\": 8.9,\n",
    "    \"Frank\": 9.7,\n",
    "    \"Grace\": 8.0,\n",
    "    \"Hannah\": 9.1,\n",
    "    \"Isaac\": 7.5,\n",
    "    \"Jack\": 8.5,\n",
    "    \"Katherine\": 9.3,\n",
    "    \"Liam\": 7.2,\n",
    "    \"Mia\": 8.2,\n",
    "    \"Noah\": 7.9,\n",
    "}\n",
    "```\n",
    "**Example return value**:\n",
    "```python\n",
    "(('David', 9.8), (('Alice', 9.5), ('Charlie', 9.2), ('David', 9.8), ('Frank', 9.7), ('Hannah', 9.1), ('Katherine', 9.3)))\n",
    "```\n",
    "\n",
    "**Example output**:\n",
    "```\n",
    "David has the highest GPA in the scientific department, with a score of 9.8.\n",
    "\n",
    "Students with a GPA above 9.0:\n",
    "- Alice: GPA 9.5\n",
    "- Charlie: GPA 9.2\n",
    "- David: GPA 9.8\n",
    "- Frank: GPA 9.7\n",
    "```"
   ]
  },
  {
   "cell_type": "code",
   "execution_count": null,
   "id": "2922f45f-d0cb-4cb5-ab32-cabb0f93ff8a",
   "metadata": {
    "tags": []
   },
   "outputs": [],
   "source": [
    "# TODO."
   ]
  },
  {
   "cell_type": "markdown",
   "id": "de5bedf6-cdd2-404d-8cc4-dd854db35864",
   "metadata": {},
   "source": [
    "<span style=\"color:darkorange;\"><strong>Level 2</strong>:</span> Copy the `honors_students()` function and modify it so that it not only finds the student with the highest GPA and those with GPAs of 9.0 or higher but also ranks the top 3 students by GPA. The function should now **return** a three-part tuple:\n",
    "\n",
    "1. The student with the highest GPA, as before;\n",
    "2. A tuple of tuples containing students with GPAs of 9.0 or higher;\n",
    "3. A list of tuples with the top 3 students, sorted by GPA in descending order;\n",
    "\n",
    "Return these three parts as a single tuple using `return highest_gpa_student, honors, top3_gpa`.\n",
    "\n",
    "If there are fewer than three students, the list should include only the available students.\n",
    "\n",
    "**Print** the result **outside** the function in a clear and readable format.\n",
    "\n",
    "**Example input**:\n",
    "```python\n",
    "student_scores  : Dict[str,float]= {\n",
    "    \"Alice\": 9.5,\n",
    "    \"Bob\": 8.8,\n",
    "    \"Charlie\": 9.2,\n",
    "    \"David\": 9.8,\n",
    "    \"Eve\": 8.9,\n",
    "    \"Frank\": 9.7,\n",
    "    \"Grace\": 8.0,\n",
    "    \"Hannah\": 9.1,\n",
    "    \"Isaac\": 7.5,\n",
    "    \"Jack\": 8.5,\n",
    "    \"Katherine\": 9.3,\n",
    "    \"Liam\": 7.2,\n",
    "    \"Mia\": 8.2,\n",
    "    \"Noah\": 7.9,\n",
    "}\n",
    "```\n",
    "**Example return value**:\n",
    "```python\n",
    "(('David', 9.8), (('Alice', 9.5), ('Charlie', 9.2), ('David', 9.8), ('Frank', 9.7), ('Hannah', 9.1), ('Katherine', 9.3)), [('David', 9.8), ('Frank', 9.7), ('Alice', 9.5)])\n",
    "```\n",
    "\n",
    "**Example output**:\n",
    "```\n",
    "David has the highest GPA in the scientific department, with a score of 9.8.\n",
    "\n",
    "Students with a GPA above 9.0:\n",
    "- Alice: GPA 9.5\n",
    "- Charlie: GPA 9.2\n",
    "- David: GPA 9.8\n",
    "- Frank: GPA 9.7\n",
    "\n",
    "Top 3 students by GPA:\n",
    "1. David: GPA 9.8\n",
    "2. Frank: GPA 9.7\n",
    "3. Alice: GPA 9.5\n",
    "```"
   ]
  },
  {
   "cell_type": "code",
   "execution_count": null,
   "id": "aff85785-6c1e-45f5-aa67-2c48a3864791",
   "metadata": {},
   "outputs": [],
   "source": [
    "# TODO."
   ]
  },
  {
   "cell_type": "markdown",
   "id": "e1dabf35-4d5b-412c-947c-3e689b2d3373",
   "metadata": {},
   "source": [
    "<span style=\"color:darkorange;\"><strong>Level 3</strong>:</span> As the data we want to extract grows, using a format of tuples can become less readable. Do you remember a better way to organize multi-layered data? Exactly—**dictionaries**!\n",
    "\n",
    "\n",
    "In this exercise, your task is to enhance the `honors_students()` function so that it **returns** a comprehensive analysis of student performance in a single **dictionary**. The function should do the following:\n",
    "\n",
    "1. Identify the student(s) with the highest GPA.\n",
    "2. Rank the top 3 students by GPA, including ties if multiple students share the same GPA.\n",
    "3. Rather than simply filtering students with GPAs of 9.0 or higher, the function should categorize students into three distinct GPA tiers:\n",
    "    - Tier 1: Students with a GPA of 9.5 or higher.\n",
    "    - Tier 2: Students with a GPA between 9.0 and 9.5 (exclusive).\n",
    "    - Tier 3: Students with a GPA below 9.0 but above or equal to 8.0.\n",
    "\n",
    "The function should **return a dictionary** with the following structure:\n",
    "- “Highest GPA”: A list of tuples with the name(s) and GPA(s) of the student(s) with the highest GPA.\n",
    "- “Top 3 Students”: A list of tuples representing the top 3 students, sorted by GPA in descending order (including ties).\n",
    "- “Tiers”: A nested dictionary categorizing students into the three GPA tiers. Each tier list sorted by GPA in descending order (including ties).\n",
    "\n",
    "**Return** this dictionary using the statement: `return result_dict` and **print** the dictionary **outside** the function. \n",
    "\n",
    "**Example input**:\n",
    "```python\n",
    "student_scores  : Dict[str,float]= {\n",
    "    \"Alice\": 9.5,\n",
    "    \"Bob\": 9.5,\n",
    "    \"Charlie\": 9.2,\n",
    "    \"David\": 9.8,\n",
    "    \"Eve\": 8.9,\n",
    "    \"Frank\": 9.7,\n",
    "    \"Grace\": 8.5,\n",
    "    \"Hannah\": 9.1,\n",
    "    \"Isaac\": 7.5,\n",
    "    \"Jack\": 8.5,\n",
    "    \"Katherine\": 9.3,\n",
    "    \"Liam\": 7.2,\n",
    "    \"Mia\": 8.2,\n",
    "    \"Noah\": 7.9,\n",
    "}\n",
    "```\n",
    "**Example return value/output**:\n",
    "```\n",
    "{\n",
    "    \"Highest GPA\": [(\"David\", 9.8)],\n",
    "    \"Top 3 Students\": [(\"David\", 9.8), (\"Frank\", 9.7), (\"Alice\", 9.5), (\"Bob\", 9.5)],\n",
    "    \"Tiers\": {\n",
    "        \"Tier 1\": [(\"David\", 9.8), (\"Frank\", 9.7), (\"Alice\", 9.5), (\"Bob\", 9.5)],\n",
    "        \"Tier 2\": [(\"Katherine\", 9.3), (\"Charlie\", 9.2), (\"Hannah\", 9.1)],\n",
    "        \"Tier 3\": [(\"Eve\", 8.9), (\"Grace\", 8.5), (\"Jack\", 8.5), (\"Mia\", 8.2)]\n",
    "    }\n",
    "}\n",
    "```"
   ]
  },
  {
   "cell_type": "code",
   "execution_count": null,
   "id": "463b3608-e205-42f6-bb86-a42f2500b2b4",
   "metadata": {},
   "outputs": [],
   "source": [
    "# TODO."
   ]
  },
  {
   "cell_type": "markdown",
   "id": "83395a91-56d3-47e5-817d-48cbb383d6eb",
   "metadata": {},
   "source": [
    "### Exercise 3\n",
    "\n",
    "<span style=\"color:darkorange;\"><strong>Level 1</strong></span> Create a function named` election_results_summary()` that takes a list of tuples, where each tuple represents a candidate and their votes in a specific state.\n",
    "\n",
    "The function should:\n",
    "- Accept a list of tuples, where each tuple has:\n",
    "    - A string for the state\n",
    "    - A string for the candidate name\n",
    "    - An integer representing the number of votes\n",
    "\n",
    "- Return a tuple with:\n",
    "    - The total number of states,\n",
    "    - The total number of candidates (count unique candidate names),\n",
    "    - The total number of votes cast.\n",
    " \n",
    "\n",
    "**Example input**:\n",
    "```python\n",
    "election_data: List[str, int] = [\n",
    "    (\"California\", \"Kamala Koala\", 5000000),\n",
    "    (\"Texas\", \"Donald Duck\", 4500000),\n",
    "    (\"California\", \"Donald Duck\", 4000000),\n",
    "    (\"Florida\", \"Kamala Koala\", 3500000)\n",
    "]\n",
    "```\n",
    "\n",
    "**Example output**:\n",
    "```python\n",
    "(3, 2, 17000000)\r\n",
    "\n",
    "```"
   ]
  },
  {
   "cell_type": "code",
   "execution_count": null,
   "id": "507b770e-e1d5-4911-bc60-428d83ce8869",
   "metadata": {},
   "outputs": [],
   "source": [
    "# TODO."
   ]
  },
  {
   "cell_type": "markdown",
   "id": "4e082853-6e0d-448f-8259-f573934ccd1a",
   "metadata": {},
   "source": [
    "<span style=\"color:darkorange;\"><strong>Level 2</strong></span> Now, create function named `state_winner_summary()` that provides a breakdown of each state's winning candidate.\n",
    "\n",
    "The function should:\n",
    "- Accept a list of tuples in the format: (state, candidate, votes).\n",
    "- Use a dictionary to store each state’s data, with:\n",
    "    - the state as the key\n",
    "    - and a tuple containing the winning candidate and their vote count as the value.\n",
    "- Unpack each tuple in the input list to extract the state, candidate, and votes.\n",
    "- For each state, keep track of only the candidate with the highest vote count.\n",
    "    - If there is a tie, retain only the first candidate in the input list for that state.\n",
    "- Return a tuple of tuples where each inner tuple is in the form (state, candidate, votes), sorted **alphabetically by state** (ascending order, a to z).\n",
    "\n",
    "\n",
    "**Example input**:\n",
    "```python\n",
    "election_data: List[str, int] = [\n",
    "    (\"California\", \"Kamala Koala\", 5000000),\n",
    "    (\"California\", \"Donald Duck\", 4000000),\n",
    "    (\"Texas\", \"Kamala Koala\", 4500000),\n",
    "    (\"Texas\", \"Donald Duck\", 4600000),\n",
    "    (\"Florida\", \"Kamala Koala\", 3500000)\n",
    "]\n",
    "```\n",
    "\n",
    "**Example output**:\n",
    "\n",
    "```python\n",
    "((\"California\", \"Kamala Koala\", 5000000), (\"Florida\", \"Kamala Koala\", 3500000), (\"Texas\", \"Donald Duck\", 4600000))\n",
    "```"
   ]
  },
  {
   "cell_type": "code",
   "execution_count": null,
   "id": "75d36e45-91d9-40d0-af29-04699ba8d33f",
   "metadata": {},
   "outputs": [],
   "source": [
    "# TODO."
   ]
  },
  {
   "cell_type": "markdown",
   "id": "f7140e21-956a-444d-8d89-1f8c519e0bb2",
   "metadata": {},
   "source": [
    "<span style=\"color:darkorange;\"><strong>Level 3</strong></span> Lastly, create a function named `detailed_candidate_results()` to validate and structure a breakdown of the top two candidates in each state.\n",
    "\n",
    "The function should:\n",
    "- Accept a list of tuples in the format (state, candidate, votes).\n",
    "- Use a dictionary to store each state’s candidates, sorted by vote count in **descending order**.\n",
    "- Perform the following validations:\n",
    "    - `Assert` each candidate has a positive vote count.\n",
    "    - `Assert` each state has at least two candidates; if a state has only one candidate, raise an `AssertionError` with the message `\"Insufficient candidates in <state name>.\"`\n",
    "- For each state, use your programming knowledge to get only the top two candidates by votes.\n",
    "- Return a dictionary where:\n",
    "    -  the keys are states,\n",
    "    -  and the values are tuples containing only the top two candidates, with each candidate represented by a tuple in the form (candidate, votes).\n",
    "\n",
    "**Example input**:\n",
    "```python\n",
    "election_data: List[str, int] = [\n",
    "    (\"California\", \"Kamala Koala\", 5000000),\n",
    "    (\"California\", \"Goofy Gopher\", 2000000),\n",
    "    (\"Florida\", \"Kamala Koala\", 3500000),\n",
    "    (\"Florida\", \"Donald Duck\", 3400000),\n",
    "    (\"Texas\", \"Minnie Mouse\", 3000000),\n",
    "    (\"Florida\", \"Daisy Duck\", 3300000),\n",
    "    (\"Florida\", \"Bugs Bunny\", 1000000),\n",
    "    (\"Texas\", \"Kamala Koala\", 4500000),\n",
    "    (\"California\", \"Donald Duck\", 4000000),\n",
    "    (\"California\", \"Mickey Mouse\", 3000000),\n",
    "    (\"Texas\", \"Donald Duck\", 4600000)\n",
    "]\n",
    "\n",
    "\n",
    "```\n",
    "\n",
    "**Example output**:\n",
    "```python\n",
    "{\n",
    "    \"California\": ((\"Kamala Koala\", 5000000), (\"Donald Duck\", 4000000)),\n",
    "    \"Texas\": ((\"Donald Duck\", 4600000), (\"Kamala Koala\", 4500000)),\n",
    "    \"Florida\": ((\"Kamala Koala\", 3500000), (\"Donald Duck\", 3400000))\n",
    "}\n",
    "\n",
    "```"
   ]
  },
  {
   "cell_type": "code",
   "execution_count": null,
   "id": "ab76c8ab-560e-4589-a548-c8999ee40a9c",
   "metadata": {},
   "outputs": [],
   "source": [
    "# TODO."
   ]
  },
  {
   "cell_type": "markdown",
   "id": "48296c73-f205-45a2-a9c4-7a6621c106b6",
   "metadata": {},
   "source": [
    "___________________________________________________________________________________________________________________________\n",
    "\n",
    "*Material for the VU Amsterdam course “Introduction to Python Programming” for BSc Artificial Intelligence students. These notebooks are created using the following sources:*\n",
    "1. [Learning Python by Doing][learning python]: This book, developed by teachers of TU/e Eindhoven and VU Amsterdam, is the main source for the course materials. Code snippets or text explanations from the book may be used in the notebooks, sometimes with slight adjustments.\n",
    "2. [Think Python][think python]\n",
    "3. [GeekForGeeks][geekforgeeks]\n",
    "\n",
    "[learning python]: https://programming-pybook.github.io/introProgramming/intro.html\n",
    "[think python]: https://greenteapress.com/thinkpython2/html/\n",
    "[geekforgeeks]: https://www.geeksforgeeks.org"
   ]
  }
 ],
 "metadata": {
  "kernelspec": {
   "display_name": "Python 3 (ipykernel)",
   "language": "python",
   "name": "python3"
  },
  "language_info": {
   "codemirror_mode": {
    "name": "ipython",
    "version": 3
   },
   "file_extension": ".py",
   "mimetype": "text/x-python",
   "name": "python",
   "nbconvert_exporter": "python",
   "pygments_lexer": "ipython3",
   "version": "3.11.4"
  }
 },
 "nbformat": 4,
 "nbformat_minor": 5
}

{
 "cells": [
  {
   "cell_type": "markdown",
   "metadata": {},
   "source": [
    "# For Loop"
   ]
  },
  {
   "cell_type": "markdown",
   "metadata": {},
   "source": [
    "**In this notebook, we cover the following subjects:**\n",
    "- A Simple Loop;\n",
    "- Using lists with for loops\n",
    "- Iterable object indexing\n",
    "- range() function\n",
    "- Combining range() with len()\n",
    "- Nested Loops.\n",
    "___________________________________________________________________________________________________________________________"
   ]
  },
  {
   "cell_type": "code",
   "execution_count": null,
   "metadata": {
    "tags": []
   },
   "outputs": [],
   "source": [
    "# To enable type hints for lists, we need to import the following:\n",
    "from typing import List"
   ]
  },
  {
   "cell_type": "markdown",
   "metadata": {
    "tags": []
   },
   "source": [
    "## <span style=\"color:#4169E1\">A Simple Loop</span>\n",
    "\n",
    "In Python, a [`for loop`][m] lets you iterate over a sequence, like a [list][l], [tuple][l], [dictionary][l], [set][s], or [string][a]. Use for loops when you know the number of iterations ahead of time, like when you need to repeat a process a set number of times or go through specific items in a list. The syntax looks like this:\n",
    "\n",
    "```python\n",
    "for variable in object:\n",
    "    # Code\n",
    "```\n",
    "\n",
    "With a `for` loop, we can, for instance, print each letter of a string.\n",
    "\n",
    "[m]: https://wiki.python.org/moin/ForLoop\n",
    "[l]: https://python101.pythonlibrary.org/chapter3_lists_dicts.html\n",
    "[s]: https://www.learnpython.org/en/Sets\n",
    "[a]: https://www.learnpython.org/en/Basic_String_Operations\n"
   ]
  },
  {
   "cell_type": "code",
   "execution_count": null,
   "metadata": {
    "tags": []
   },
   "outputs": [],
   "source": [
    "for letter in \"animal\":\n",
    "    print(letter)"
   ]
  },
  {
   "cell_type": "markdown",
   "metadata": {},
   "source": [
    "In the example code above, the variable `letter` acts as the **iteration variable** (or loop variable). Each time the loop runs, the next character in the string is assigned to `letter`.  You can freely choose the name of the loop variable - use this to make your code clearer. The loop continues until no characters are left.\n",
    "\n",
    "You don’t need to define the variable in the <code>for</code> statement beforehand, and there’s no need for type hints. For readability, it’s best to use a clear and descriptive variable name."
   ]
  },
  {
   "cell_type": "markdown",
   "metadata": {},
   "source": [
    "<img src=\"assets/for.gif\" width=450 height=250>"
   ]
  },
  {
   "cell_type": "markdown",
   "metadata": {},
   "source": [
    "```{note}\n",
    "You can’t use the variable from the <code>for</code> loop outside of it; its scope is exclusively within the <code>for</code> loop.\n",
    "```"
   ]
  },
  {
   "cell_type": "markdown",
   "metadata": {},
   "source": [
    "Now that we have seen more than enough lists, let's iterate trough a few. Shall we?"
   ]
  },
  {
   "cell_type": "code",
   "execution_count": null,
   "metadata": {},
   "outputs": [],
   "source": [
    "iterable_string: str = 'Thisismyfirsttimeiteratinganditissomuchfun!'\n",
    "\n",
    "for letter in iterable_string:\n",
    "    print(letter)"
   ]
  },
  {
   "cell_type": "markdown",
   "metadata": {},
   "source": [
    "Wow, long print huh? Let's try something else:"
   ]
  },
  {
   "cell_type": "code",
   "execution_count": null,
   "metadata": {},
   "outputs": [],
   "source": [
    "# Will this also work?\n",
    "\n",
    "for digit in 12345:\n",
    "    print(digit)"
   ]
  },
  {
   "cell_type": "markdown",
   "metadata": {},
   "source": [
    "```{admonition} Why do we get the above error message?\n",
    ":class: tip, dropdown\n",
    "We get the error message due to the fact that intigers are non-terable object. Takeaway from here, you can only loop over iterable data types.\n",
    "```"
   ]
  },
  {
   "cell_type": "markdown",
   "metadata": {},
   "source": [
    "```{admonition} Can you think of any other non-iterable data type (from the ones we already discussed)?\n",
    ":class: tip, dropdown\n",
    "Good job! I knew that you will say <b>float</b>.\n",
    "```"
   ]
  },
  {
   "cell_type": "markdown",
   "metadata": {},
   "source": [
    "OK, enough of strings and intigers for now, let's check another concept that will utilize `for loops` better."
   ]
  },
  {
   "cell_type": "markdown",
   "metadata": {},
   "source": [
    "#### <span style=\"color:#B22222\">Using `lists` with for loops</span>"
   ]
  },
  {
   "cell_type": "markdown",
   "metadata": {},
   "source": [
    "In order for you to clearly understand the following examples in this chapter, we must first talk a bit about `lists`.  \n",
    "We have already talked about a few data types in Python, such as, intigers, strings, floats or boolean values. Lists are another  usefull data type that you must put in your tool set in order to master programming in Python.\n",
    "\n",
    "So what is a `list`?\n",
    "\n",
    "A list in Python is like a container that holds multiple items in a **specific order**.  \n",
    "These items can be numbers, words (strings), or anything else (other lists, booleans, dictionaries etc.).  \n",
    "You can think of a list like a shopping list, where each item is stored in a specific place.\n",
    "\n",
    "Bellow you can see multiple examples of lists:\n",
    "\n",
    "```python\n",
    "\n",
    "my_number_list: List[int] = [1, 2, 3, 4, 5]\n",
    "\n",
    "my_string_list: List[str] = ['panda', 'parrot', 'penguin', 'panther', 'platypus']\n",
    "\n",
    "my_boolean_list: List[bool] = [True, False, False, True]\n",
    "\n",
    "my_list_of_lists: List[List[int]] = [[1, 2, 3, 4, 5], [3, 4, 5], [1, 2, 3]]\n",
    "\n",
    "my_mixed_list: List[any] = ['polecat', True, 73, ['pecarry', '?', 3], False]\n",
    "```\n",
    "\n",
    "You probably noticed that we can store literally anything in a list. Fun, right?"
   ]
  },
  {
   "cell_type": "markdown",
   "metadata": {},
   "source": [
    "<img src=\"assets/lst.jpg\" width=400 height=300>"
   ]
  },
  {
   "cell_type": "markdown",
   "metadata": {},
   "source": [
    "```{note}\n",
    "The typehint for a <code>list</code> is: <br>\n",
    "    <code>variable: List[data type of values in the list]</code><br>\n",
    "    \n",
    "It is possible to store values in a list which has different data types. In that case, just use the <code>any</code> keyword.\n",
    "```"
   ]
  },
  {
   "cell_type": "markdown",
   "metadata": {},
   "source": [
    "#### <span style=\"color:#B22222\">Iterable object indexing</span>"
   ]
  },
  {
   "cell_type": "markdown",
   "metadata": {},
   "source": [
    "You might be wondering why were the words: **specific order** bold in the above text. \n",
    "\n",
    "The reason for that highlight is that lists elements (and any other iterables) can be indexed based on their **index**. You are probably very confused right now about what we mean by index, but do not worry, everything will make sense in a few lines.\n",
    "\n",
    "Indexing in Python refers to accessing individual elements of a list (or other sequences like strings) by their position. Each item in a list has an index, which is like an address that tells you where that item is in the list. Whenever you want to access an element in a sequence, you have two options. You can access an element starting from the front or starting by the end. What do we mean by that? Consider the bellow 2 options:"
   ]
  },
  {
   "cell_type": "markdown",
   "metadata": {},
   "source": [
    "**Positive indexing:**\n",
    "\n",
    "| 0 | 1 | 2 | 3 | 4 | 5 |\n",
    "|---|---|---|---|---|---|\n",
    "| D | r | a | g | o | n |"
   ]
  },
  {
   "cell_type": "markdown",
   "metadata": {},
   "source": [
    "**Negative indexing:**\n",
    "\n",
    "| -6 | -5 | -4 | -3 | -2 | -1 |\n",
    "|---|---|---|---|---|---|\n",
    "| D | r | a | g | o | n |"
   ]
  },
  {
   "cell_type": "markdown",
   "metadata": {},
   "source": [
    "Now let's see some examples:"
   ]
  },
  {
   "cell_type": "markdown",
   "metadata": {},
   "source": [
    "\n",
    "\n",
    "**Index starts at 0:** The first item in the list (or any other sequence) is at index 0, the second item is at index 1, and so on.\n",
    "\n",
    "```python\n",
    "\n",
    "my_list: List[str] = ['apple', 'banana', 'cherry']\n",
    "print(my_list[0])  # This prints 'apple'\n",
    "print(my_list[1])  # This prints 'banana'\n",
    "print(my_list[2])  # This prints 'cherry'\n",
    "\n",
    "```\n",
    "\n",
    "**Negative indexing:** You can also use negative numbers to start counting from the end of the list. -1 refers to the last item, -2 to the second-to-last, and so on.\n",
    "\n",
    "```python\n",
    "\n",
    "print(my_list[-1])  # This prints 'cherry'\n",
    "print(my_list[-2])  # This prints 'banana'\n",
    "\n",
    "```\n"
   ]
  },
  {
   "cell_type": "markdown",
   "metadata": {},
   "source": [
    "To put it bluntly, indexing is just how you grab a specific item from a sequence using its position! Now, it is high time that we iterate over a list."
   ]
  },
  {
   "cell_type": "code",
   "execution_count": null,
   "metadata": {},
   "outputs": [],
   "source": [
    "greta_gerwig_films: List[str] = [\"Lady Bird\", \"Little Women\", \"Barbie\"]\n",
    "\n",
    "for film in greta_gerwig_films:\n",
    "    print(film)"
   ]
  },
  {
   "cell_type": "markdown",
   "metadata": {},
   "source": [
    "So now we can loop over many things, which is great, but you might feel like there is something missing. If that is the case, then you are absolutely right! Let's cover a few useful functions that you can neatly combine with for loops."
   ]
  },
  {
   "cell_type": "markdown",
   "metadata": {},
   "source": [
    "#### <span style=\"color:#B22222\">The <code>range()</code> Function</span>\n",
    "\n",
    "If you want to iterate through a range of numbers, you can use the [`range()`][ya] function. The syntax of this function is as follows:\n",
    "\n",
    "```python\n",
    "range(start, stop, step)\n",
    "```\n",
    "\n",
    "Remember, we can use the [`help`][h] function to understand the usage of `range()`.\n",
    "\n",
    "[ya]: https://www.geeksforgeeks.org/python-range-function/\n",
    "[h]: https://www.geeksforgeeks.org/help-function-in-python/"
   ]
  },
  {
   "cell_type": "code",
   "execution_count": null,
   "metadata": {
    "tags": []
   },
   "outputs": [],
   "source": [
    "help(range)"
   ]
  },
  {
   "cell_type": "markdown",
   "metadata": {},
   "source": [
    "From the documentation, we can interpret the parameters as follows:\n",
    "\n",
    "- *start* (optional): This is the number at which the sequence starts and is **inclusive**, the default is 0.\n",
    "- *stop* (required): This is the number at which the sequence ends and is **exclusive**.\n",
    "- *step* (optional): This is the stepsize between each number, with default 1."
   ]
  },
  {
   "cell_type": "markdown",
   "metadata": {},
   "source": [
    "<img src=\"assets/range.jpg\" width=400 height=300>"
   ]
  },
  {
   "cell_type": "markdown",
   "metadata": {},
   "source": [
    "Let's look at a few examples to demonstrate the use of range."
   ]
  },
  {
   "cell_type": "code",
   "execution_count": null,
   "metadata": {
    "tags": []
   },
   "outputs": [],
   "source": [
    "for i in range (1,6):\n",
    "    print(f\"Printing numbers from 1 to 5: {i}\")\n",
    "\n",
    "print('----------------') # aesthetic print\n",
    "\n",
    "for i in range(1, 11, 2):\n",
    "    print(f\"Odd number: {i}\")\n",
    "\n",
    "print('----------------') # aesthetic print\n",
    "\n",
    "# What happens when the stepsize is negative?\n",
    "for i in range(3,0,-1):\n",
    "    print(f'{i}...')\n",
    "print('Take-off!')"
   ]
  },
  {
   "cell_type": "markdown",
   "metadata": {},
   "source": [
    "```{note}\n",
    "The <code>break</code> and <code>continue</code> statements also works with <code>for</code> loops, not solely with <code>while</code> loops.\n",
    "```"
   ]
  },
  {
   "cell_type": "markdown",
   "metadata": {},
   "source": [
    "#### <span style=\"color:#B22222\">Combining <code>range()</code> with <code>len()</code></span>"
   ]
  },
  {
   "cell_type": "markdown",
   "metadata": {},
   "source": [
    "Combining `range()` with `len()` is useful when you want to loop through a list using the index of each element.   \n",
    "Instead of looping directly over the items in the list, you're looping over the numbers that represent the positions of the items (their indices).   \n",
    "This is helpful when you need to know where each item is located or when you want to modify items in the list.\n",
    "\n",
    "Let's see an example."
   ]
  },
  {
   "cell_type": "code",
   "execution_count": null,
   "metadata": {},
   "outputs": [],
   "source": [
    "my_list: List[str] = ['apple', 'banana', 'cherry']\n",
    "\n",
    "for i in range(1, len(my_list)):\n",
    "    print(my_list[i])"
   ]
  },
  {
   "cell_type": "markdown",
   "metadata": {},
   "source": [
    "So what is happening there?\n",
    "\n",
    "As you can see, the above code only prints banana and cherry and skipps apple. Let's try to answer the bellow question:"
   ]
  },
  {
   "cell_type": "markdown",
   "metadata": {},
   "source": [
    "```{admonition} Why is apple skipped?\n",
    ":class: tip, dropdown\n",
    "If you paid close attention, you probably noticed that we use <code>range(1, len(my_list))</code> in the code above. Meaning, we start printing from index 1 (skipping index 0 which stores the item apple) which is banana, and keep iterating over the list. \n",
    "```"
   ]
  },
  {
   "cell_type": "markdown",
   "metadata": {},
   "source": [
    "Great, now we saw how to loop over items and how to loop over indices separately.   \n",
    "I say let's try combining looping over items and indices at the same time. Yes, this might sound surprising but it is possible!. \n",
    "\n",
    "To do so, we need to discuss a more advanced function, called [`enumerate`][e].\n",
    "\n",
    "[e]: https://www.geeksforgeeks.org/help-function-in-python/"
   ]
  },
  {
   "cell_type": "markdown",
   "metadata": {},
   "source": [
    "#### <span style=\"color:#B22222\">The <code>enumerate()</code> Function</span>\n",
    "\n",
    "`enumerate()` is another built-in Python function that makes it easier to loop through a sequence and get **both the index and the item** at the same time.\n",
    "\n",
    "<img src=\"assets/enumerate.gif\" width=500 height=200>"
   ]
  },
  {
   "cell_type": "markdown",
   "metadata": {},
   "source": [
    "Normally, when you use a `for loop`, you just get the **items** in the list:\n",
    "\n",
    "```python\n",
    "my_list: List[str] = ['apple', 'banana', 'cherry']\n",
    "\n",
    "for item in my_list:\n",
    "    print(item)\n",
    "```\n",
    "\n",
    "**Output**:\n",
    "```python\n",
    "apple\n",
    "banana\n",
    "cherry\n",
    "```\n",
    "But what if you also want to know **the index** (position) of each item? This is where `enumerate()` comes in. It gives you both the index and the item, so you don’t need to manage counting manually.\n",
    "\n",
    "```python\n",
    "\n",
    "for index, item in enumerate(my_list):\n",
    "    print(index, item)\n",
    "```\n",
    "\n",
    "**Output**:\n",
    "```python\n",
    "0 apple\n",
    "1 banana\n",
    "2 cherry\n",
    "```\n",
    "    \n",
    "\n",
    "\n",
    "Let's try it for ourselves."
   ]
  },
  {
   "cell_type": "code",
   "execution_count": null,
   "metadata": {
    "tags": []
   },
   "outputs": [],
   "source": [
    "for index, letter in enumerate(\"house\"):\n",
    "    print(f\"At index {index}, we have the letter: {letter}.\")"
   ]
  },
  {
   "cell_type": "markdown",
   "metadata": {},
   "source": [
    "## <span style=\"color:#4169E1\">Nested Loops</span>\n",
    "\n",
    "As you might have guessed, loops can be nested within each other. This means that for each iteration in the outer loop, the inner loop is fully executed. As an example, if the outer loop consists of 3 iterations and the inner loop of 4 iterations, the total number of iterations in the nested loop is 3 x 4 = 12. "
   ]
  },
  {
   "cell_type": "markdown",
   "metadata": {},
   "source": [
    "<img src=\"assets/nest.gif\" width=550 height=200>"
   ]
  },
  {
   "cell_type": "markdown",
   "metadata": {},
   "source": [
    "Let's see an interactive example:"
   ]
  },
  {
   "cell_type": "markdown",
   "metadata": {},
   "source": [
    "Let's take a look at the following code, helping to check for poachers in different savannah areas. There are three zones in each of the ten areas. If an area contains poachers, each of its three zones will be cleared."
   ]
  },
  {
   "cell_type": "code",
   "execution_count": null,
   "metadata": {},
   "outputs": [],
   "source": [
    "no_of_areas = 10\n",
    "no_of_zones = 3\n",
    "areas_with_poachers = [3, 6, 9]\n",
    "\n",
    "for area in range(1, no_of_areas + 1):\n",
    "    if area in areas_with_poachers:\n",
    "        for zone in range(1, no_of_zones + 1):\n",
    "            print(f\"Zone {zone} of Area {area} has been cleared of poachers.\")\n",
    "    else:\n",
    "        print(f\"No poachers in area {area}.\")"
   ]
  },
  {
   "cell_type": "markdown",
   "metadata": {},
   "source": [
    "```{note}\n",
    "The inner loop only gets executed for certain iterations of the outer loop here, which we control through an if statement.\n",
    "```"
   ]
  },
  {
   "cell_type": "markdown",
   "metadata": {
    "tags": []
   },
   "source": [
    "## <span style=\"color:#3CB371\">Exercises</span>"
   ]
  },
  {
   "cell_type": "markdown",
   "metadata": {},
   "source": [
    "Let's practice! Mind that each exercise is designed with multiple levels to help you progressively build your skills. <span style=\"color:darkorange;\"><strong>Level 1</strong></span> is the foundational level, designed to be straightforward so that everyone can successfully complete it. In <span style=\"color:darkorange;\"><strong>Level 2</strong></span>, we step it up a notch, expecting you to use more complex concepts or combine them in new ways. Finally, in <span style=\"color:darkorange;\"><strong>Level 3</strong></span>, we get closest to exam level questions, but we may use some concepts that are not covered in this notebook. However, in programming, you often encounter situations where you’re unsure how to proceed. Fortunately, you can often solve these problems by starting to work on them and figuring things out as you go. Practicing this skill is extremely helpful, so we highly recommend completing these exercises.\n",
    "\n",
    "For each of the exercises, make sure to add a `docstring` and `type hints`, and **do not** import any libraries unless specified otherwise.\n",
    "<br>"
   ]
  },
  {
   "cell_type": "markdown",
   "metadata": {},
   "source": [
    "### Exercise 1\n",
    "\n",
    "Let's practice with loops, starting off with a fun and simple exercise.\n",
    "\n",
    "<span style=\"color:darkorange;\"><strong>Level 1</strong>:</span> Classic exercises with loops often involve counting, something we will do now as well. Your task is to write a simple program (not creating a function) that asks the user to enter a string and counts the number of vowels (a, e, i, o, u).  \n",
    "Use a [counter][counter] and a `for` loop to perform the counting. Make sure your program is case-insensitive, counting both lower and upper case vowels. Once the loop has terminated, `print` the result.\n",
    "\n",
    "**Example input**:\n",
    "```Python\n",
    "user_input: str = \"Bye World!\"\n",
    "```\n",
    "\n",
    "**Example output**:\n",
    "```python\n",
    "\"The string contains 2 vowels.\"\n",
    "```\n",
    "\n",
    "[counter]:https://programming-pybook.github.io/introProgramming/chapters/strings.html?highlight=counting#looping-and-counting"
   ]
  },
  {
   "cell_type": "code",
   "execution_count": null,
   "metadata": {
    "tags": []
   },
   "outputs": [],
   "source": [
    "user_input: str = input(\"Enter a string: \")\n",
    "\n",
    "# TODO."
   ]
  },
  {
   "cell_type": "markdown",
   "metadata": {},
   "source": [
    "That was a great warm-up; now let’s really start sweating! \n",
    "\n",
    "<span style=\"color:darkorange;\"><strong>Level 2</strong>:</span> Inspired by the previous exercise, you’re tasked to write a function called `filter_and_count_vowels()`. The function removes all the vowels (a, e, i, o, u) from a given string and **returns** the new string as well as the number of removed vowels. \n",
    "\n",
    "The function should be case-insensitive, meaning it should remove both lowercase and uppercase vowels. Use a `for` loop to iterate through the string and build a new string without the vowels. Make sure to use the `return` statement. Additionally, `print` the result **outside** of the function.\n",
    "\n",
    "Define the input string at the top of your code, rather than taking it as user input, and then pass this string as an argument to your function.\n",
    "\n",
    "**Example input:** you pass this in a function call.\n",
    "```python\n",
    "input_str: str = \"Welcome to Amsterdam!\"\n",
    "```\n",
    "\n",
    "**Example output:**\n",
    "```python\n",
    "Filtered string: \"Wlcme t mstrdm!\"\n",
    "Number of removed: 7\n",
    "```"
   ]
  },
  {
   "cell_type": "code",
   "execution_count": null,
   "metadata": {
    "tags": []
   },
   "outputs": [],
   "source": [
    "# TODO."
   ]
  },
  {
   "cell_type": "markdown",
   "metadata": {},
   "source": [
    "<span style=\"color:darkorange;\"><strong>Level 3</strong>:</span> Time to make this more interesting! You're tasked with writing a function called `replace_vowels_with_symbols()`, but there's a twist!   \n",
    "Instead of replacing all vowels with a single symbol, you'll cycle through a list of symbols to make it more dynamic.\n",
    "\n",
    "**Here’s what the function needs to do:**\n",
    "\n",
    "- Replace vowels (a, e, i, o, u) with symbols from a given list of symbols (like ['*', '@', '#', '$', '%']). Each vowel will be replaced by the next symbol in the list, looping back to the start of the list if necessary.\n",
    "\n",
    "Return:  \n",
    "- The modified string (with vowels replaced by the symbols).  \n",
    "- The list of original indices where the vowels were replaced.  \n",
    "- The total count of replaced vowels.\n",
    "\n",
    "The function should be case-insensitive. Cycle through the symbols using their index in the list.\n",
    "\n",
    "**Hints:**\n",
    "- If the symbol list runs out, start again from the beginning.\n",
    "- Make sure to print the final results outside of the function!\n",
    "- Think of which built in function would allow you to access multiple things at the same time ;)\n",
    "\n",
    "\n",
    "**Example input:**\n",
    "\n",
    "```python\n",
    "\n",
    "input_str = \"Fun with vowels!\"\n",
    "symbols = ['!', '?', '#', '&', '~']\n",
    "```\n",
    "\n",
    "**Example output:**\n",
    "\n",
    "```python\n",
    "Modified string: \"F?n w!th v#w~ls!\"\n",
    "List of vowel indices: [1, 5, 10, 12]\r\n",
    "Number of replaced vowels: 4\n",
    "```\n"
   ]
  },
  {
   "cell_type": "code",
   "execution_count": null,
   "metadata": {},
   "outputs": [],
   "source": [
    "symbols: List[str] = ['!', '?', '#', '&', '~']\n",
    "\n",
    "# TODO."
   ]
  },
  {
   "cell_type": "markdown",
   "metadata": {},
   "source": [
    "### Exercise 2\n",
    "\n",
    "Let's continue with something more challenging, yet creative. In Python, we can 'draw' shapes made of special characters, such as brackets, dashes, asterisks or dots. For example, we can print a diamond using asterisks:\n",
    "\n",
    "```\n",
    "  *\n",
    " ***\n",
    "*****\n",
    " ***\n",
    "  *\n",
    "```\n",
    "\n",
    "<span style=\"color:darkorange;\"><strong>Level 1</strong>:</span> Now, write a function called `diamond()` that takes an **uneven** integer input from the user for the size of the diamond's diagonals, which represents both its height and width (as they are equal in this case). The program should then `print` a diamond shape made of `*` characters, based on the size parameter. **Note that your function should print the diamond directly and not return any values**.\n",
    "\n",
    "*Requirements*: \n",
    "- Use `for` loops for this exercise;\n",
    "- If the input is 0, uneven or negative, the code should print `\"Invalid Input\"`.\n",
    "\n",
    "*Hint*:\n",
    "- Use two separate `for` loops: one for the upper part of the diamond and one for the lower part. Include the middle line in only one of the loops.\n",
    "\n",
    "\n",
    "**Example input:** you pass this in a function call.\n",
    "```python\n",
    "user_input: int = 5\n",
    "```\n",
    "\n",
    "**Example output:**\n",
    "\n",
    "```\n",
    "  *\n",
    " ***\n",
    "*****\n",
    " ***\n",
    "  *\n",
    "\n",
    "```\n",
    "\n",
    "\n",
    "\n",
    "\n"
   ]
  },
  {
   "cell_type": "code",
   "execution_count": null,
   "metadata": {
    "tags": []
   },
   "outputs": [],
   "source": [
    "# TODO."
   ]
  },
  {
   "cell_type": "markdown",
   "metadata": {},
   "source": [
    "<span style=\"color:darkorange;\"><strong>Level 2</strong>:</span> Now, let’s use the `diamond()` function for a more complex task involving lists. Write a Python program that takes a list of people’s names as input instead of a specified size. For each name, `print` a diamond based on the length of the name, along with a nice message. **Again, note that your function should print the diamond directly and not return any values**.\n",
    "\n",
    "*Requirements*:\n",
    "- For each person, the size of the diamond’s diagonal should be the same as the number of characters in their name;\n",
    "- If the length of a name is **even**, you have to substract 1 before creating the diamond;\n",
    "- The list should be defined at the top of your code, **not** taken as user input.\n",
    "\n",
    "*Hint*:\n",
    "- Use two separate `for` loops: one for the upper part of the diamond and one for the lower part. Include the middle line in only one of the loops.\n",
    "\n",
    "**Example input**: you pass this in a function call.\n",
    "\n",
    "```python\n",
    "people: List[str] = [\"Adele\", \"Bilbo Baggins\"]\n",
    "```\n",
    "\n",
    "**Example output**:\n",
    "\n",
    "```\n",
    "Adele's diamond:\n",
    "  *\n",
    " ***\n",
    "*****\n",
    " ***\n",
    "  *\n",
    " \n",
    "Bilbo Baggins' diamond:\n",
    "      \n",
    "     *\n",
    "    ***\n",
    "   *****\n",
    "  *******\n",
    " *********\n",
    "***********\n",
    " *********\n",
    "  *******\n",
    "   *****\n",
    "    ***\n",
    "     *\n",
    "\n",
    "```"
   ]
  },
  {
   "cell_type": "code",
   "execution_count": null,
   "metadata": {
    "tags": []
   },
   "outputs": [],
   "source": [
    "# TODO."
   ]
  },
  {
   "cell_type": "markdown",
   "metadata": {},
   "source": [
    "We’re on a roll! Let’s get even more creative with the `diamond` function.\n",
    "\n",
    "<span style=\"color:darkorange;\"><strong>Level 3</strong>:</span> Write a program that makes the `diamond()` function customizable with different characters for drawing the diamond. The user can select two characters: one for the **main body** of the diamond and another for the **outline**. The outline character is an [optional parameter][optional]; if this character is not specified, the program should default to using spaces.\n",
    "\n",
    "The function takes the following inputs, all defined at the top of your code, **not** taken as user input:\n",
    "- A list of strings containing people’s names (**required**, parameter name: `names`);\n",
    "- A character for the diamond’s body (**required**, parameter name: `main_char`);\n",
    "- A character for the diamond’s outline (**optional**, parameter name: `outline_char`).\n",
    "\n",
    "*Requirements*:\n",
    "- For each person, the size of the diamond’s diagonal should be the same as the number of characters in their name;\n",
    "- If the length of a name is **even**, you have to substract 1 before creating the diamond;\n",
    "- The **main character** fills the body of the diamond, while the outline is drawn using the **outline character**;\n",
    "- If the passed argument to `main_char` or `outline_char` is not a single character, print an error message: `\"Invalid Character\"`.\n",
    "\n",
    "*Hint*:\n",
    "- Use two separate `for` loops: one for the upper part of the diamond and one for the lower part. Include the middle line in only one of the loops.\n",
    "\n",
    "Instead of printing, as done in Level 1 and 2, **the function should `return` a list of strings**, where each string in the list represents a single line of a diamond, and the list includes all lines for each person. The return format should clearly indicate the name corresponding to each diamond shape.\n",
    "\n",
    "For this exercise, ensure you use `for` loops not only to construct the diamond within the function but also to print each line of the result outside the function. This means after receiving the returned list, you should use a `for` loop to print each line of the diamonds.\n",
    "\n",
    "[optional]:https://www.geeksforgeeks.org/how-to-pass-optional-parameters-to-a-function-in-python/\n",
    "\n",
    "**Example input**: you pass these arguments to the parameters in a function call.\n",
    "```python\n",
    "people: List[str] = [\"Drake\", \"Beyoncé\"]\n",
    "main_character: str = '#'\n",
    "outline_character: str = '@'\n",
    "```\n",
    "\n",
    "**Example of return value**:\n",
    "```python\n",
    "[\n",
    "  \"Drake's diamond:\",\n",
    "  \"  @  \", \n",
    "  \" @#@ \", \n",
    "  \"@###@\", \n",
    "  \" @#@ \", \n",
    "  \"  @  \", \n",
    "  \"     \",\n",
    "  \"Beyoncé's diamond:\",\n",
    "  \"   @   \",\n",
    "  \"  @#@  \",\n",
    "  \" @###@ \",\n",
    "  \"@#####@\",\n",
    "  \" @###@ \",\n",
    "  \"  @#@  \",\n",
    "  \"   @   \"\n",
    "]\n",
    "```\n",
    "\n",
    "**Example of printed output**:\n",
    "\n",
    "```\n",
    "Drake's diamond (5 characters):\n",
    "  @\n",
    " @#@\n",
    "@###@\n",
    " @#@\n",
    "  @\n",
    "   \n",
    "Beyoncé's diamond (7 characters):\n",
    "   @\n",
    "  @#@\n",
    " @###@\n",
    "@#####@\n",
    " @###@\n",
    "  @#@\n",
    "   @\n",
    "```"
   ]
  },
  {
   "cell_type": "code",
   "execution_count": null,
   "metadata": {
    "tags": []
   },
   "outputs": [],
   "source": [
    "# TODO."
   ]
  },
  {
   "cell_type": "markdown",
   "metadata": {},
   "source": [
    "### Exercise 3\n",
    "\n",
    "Let's dive into some TikTok-inspired coding challenges.\n",
    "\n",
    "<span style=\"color:darkorange;\"><strong>Level 1</strong>:</span> TikTok videos often have tons of comments! In this exercise, your goal is to write a program that counts how many of the comments contain a specific word.\n",
    "\n",
    "**Task:**\n",
    "- Write a function called count_keyword_comments().\n",
    "- The function takes a list of comments (strings) and a keyword (string) as input.\n",
    "- It loops through the list of comments and counts how many times the keyword appears.\n",
    "- The function should be case-insensitive, meaning \"Dance\" and \"dance\" count the same.\n",
    "\n",
    "**Example input:**\n",
    "\n",
    "```python\n",
    "\n",
    "comments: List[str] = [\"I love this dance!\", \"Such a great dance!\", \"That was awesome\", \"I can't stop dancing\"]\n",
    "keyword: str = \"dance\"\n",
    "```\n",
    "\n",
    "**Example output:**\n",
    "\n",
    "```python\n",
    "The keyword \"dance\" appeared in 3 comments.\n",
    "```\n",
    "\n"
   ]
  },
  {
   "cell_type": "code",
   "execution_count": null,
   "metadata": {},
   "outputs": [],
   "source": [
    "# TODO."
   ]
  },
  {
   "cell_type": "markdown",
   "metadata": {},
   "source": [
    "<span style=\"color:darkorange;\"><strong>Level 2</strong>:</span> Ever wonder how TikTokers keep track of their most popular videos? Now, you will write a program that tracks the likes on different TikTok videos and finds the most liked video!\n",
    "\n",
    "**Task:**\n",
    "- Write a function called most_liked_video().\n",
    "- The function should take two inputs:\n",
    "    - A list of TikTok video titles.\n",
    "    - A list of likes corresponding to each video (same order).\n",
    "      \n",
    "**Return** the title of the most liked video and the number of likes it has.\n",
    "\n",
    "**Example input:**\n",
    "\n",
    "```python\n",
    "\n",
    "videos: List[str] = [\"Dance Moves\", \"Funny Cat\", \"Lip Sync Battle\", \"Vlog Day 1\"]\n",
    "likes: List[int] = [500, 1200, 800, 750]\n",
    "```\n",
    "\n",
    "**Example output:**\n",
    "\n",
    "```python\n",
    "The most liked video is \"Funny Cat\" with 1200 likes.\n",
    "```"
   ]
  },
  {
   "cell_type": "code",
   "execution_count": null,
   "metadata": {},
   "outputs": [],
   "source": [
    "# TODO."
   ]
  },
  {
   "cell_type": "markdown",
   "metadata": {},
   "source": [
    "<span style=\"color:darkorange;\"><strong>Level 3</strong>:</span> TikTok trends spread like wildfire! Your challenge is to simulate a \"trend chain\" where each TikTok video has a follower count, and when a video trends, the follower count doubles until it stops trending.\n",
    "\n",
    "**Task:**\n",
    "- Write a function called trend_chain_simulation().\n",
    "- The function should take one input:\n",
    "    - A list of videos and their initial follower counts (use a list of lists where each sub-list contains the video name and its follower count).\n",
    "\n",
    "Use a while loop to simulate the trend for each video:\n",
    "- For each video, ask the user (via input) whether the video is \"still trending\" (Yes or No).\n",
    "    - If \"Yes\", double the follower count.\n",
    "    - If \"No\", stop doubling and move to the next video.\n",
    "      \n",
    "After processing all videos, **print** out the final follower counts for each video.\n",
    "\n",
    "**Example input:**\n",
    "\n",
    "```python\n",
    "\n",
    "videos: List[List[any]] = [[\"Dance Tutorial\", 1000], [\"Prank Gone Wrong\", 500], [\"DIY Crafts\", 750]]\n",
    "\n",
    "```\n",
    "\n",
    "**Example conversation:**\n",
    "\n",
    "Is \"Dance Tutorial\" still trending? - Yes  \n",
    "Is \"Dance Tutorial\" still trending? - No  \n",
    "Is \"Prank Gone Wrong\" still trending? - Yes  \n",
    "Is \"Prank Gone Wrong\" still trending? - Yes  \n",
    "Is \"Prank Gone Wrong\" still trending? - No  \n",
    "Is \"DIY Crafts\" still trending? - No\n",
    "\n",
    "\n",
    "**Example output:**\n",
    "\n",
    "```python\n",
    "Final follower counts:\n",
    "\"Dance Tutorial\" now has 2000 followers.\n",
    "\"Prank Gone Wrong\" now has 2000 followers.\n",
    "\"DIY Crafts\" now has 750 followers.\n",
    "```"
   ]
  },
  {
   "cell_type": "code",
   "execution_count": null,
   "metadata": {},
   "outputs": [],
   "source": [
    "# TODO."
   ]
  },
  {
   "cell_type": "markdown",
   "metadata": {},
   "source": [
    "___________________________________________________________________________________________________________________________\n",
    "\n",
    "*Material for the VU Amsterdam course “Introduction to Python Programming” for BSc Artificial Intelligence students. These notebooks are created using the following sources:*\n",
    "1. [Learning Python by Doing][learning python]: This book, developed by teachers of TU/e Eindhoven and VU Amsterdam, is the main source for the course materials. Code snippets or text explanations from the book may be used in the notebooks, sometimes with slight adjustments.\n",
    "2. [Think Python][think python]\n",
    "3. [GeekForGeeks][geekforgeeks]\n",
    "\n",
    "[learning python]: https://programming-pybook.github.io/introProgramming/intro.html\n",
    "[think python]: https://greenteapress.com/thinkpython2/html/\n",
    "[geekforgeeks]: https://www.geeksforgeeks.org"
   ]
  }
 ],
 "metadata": {
  "kernelspec": {
   "display_name": "Python 3 (ipykernel)",
   "language": "python",
   "name": "python3"
  },
  "language_info": {
   "codemirror_mode": {
    "name": "ipython",
    "version": 3
   },
   "file_extension": ".py",
   "mimetype": "text/x-python",
   "name": "python",
   "nbconvert_exporter": "python",
   "pygments_lexer": "ipython3",
   "version": "3.11.4"
  },
  "vscode": {
   "interpreter": {
    "hash": "9451767feaf7925185bf37009af3205aec0103dc88a66dc09d267eb54aa4b1c3"
   }
  }
 },
 "nbformat": 4,
 "nbformat_minor": 4
}

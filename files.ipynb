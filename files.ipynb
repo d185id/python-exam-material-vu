{
 "cells": [
  {
   "cell_type": "markdown",
   "id": "3b6771c4-7d80-49ab-a98e-7c0413a245f2",
   "metadata": {},
   "source": [
    "# Files"
   ]
  },
  {
   "cell_type": "markdown",
   "id": "12b4410c-1e8e-4508-bc29-4cb7ad1e56b4",
   "metadata": {},
   "source": [
    "**In this notebook, we cover the following subjects:**\n",
    "- Opening Files;\n",
    "- Reading Files;\n",
    "- A Context Manager;\n",
    "- Writing Files,\n",
    "- Working with `csv` files,\n",
    "- Working with `json` files\n",
    "___________________________________________________________________________________________________________________________"
   ]
  },
  {
   "cell_type": "code",
   "execution_count": 4,
   "id": "03fbdb61-b65e-426a-87cb-dfccccf98af6",
   "metadata": {
    "tags": []
   },
   "outputs": [],
   "source": [
    "# To enable type hints for lists, dicts, tuples, and sets we need to import the following:\n",
    "from typing import List, Dict, Tuple, Set"
   ]
  },
  {
   "cell_type": "markdown",
   "id": "8631dec5-2602-4e94-8e3b-418d231296ae",
   "metadata": {
    "tags": []
   },
   "source": [
    "## <span style=\"color:#4169E1\">Opening Files</span>\n",
    "\n",
    "So far, we have worked with data that was stored and created directly in our notebooks. For example, we created a dictionary of word frequencies from a string of text. However, most of the data we use in real-world applications is stored in **files**, often due to its sheer size or because it needs to be kept for future use. Therefore, it’s essential to learn how to retrieve this data so we can perform operations on it.\n",
    "\n",
    "First things first. How do we find a file?"
   ]
  },
  {
   "cell_type": "markdown",
   "id": "28fbec47-99d3-46aa-bc28-57e2d654fcd2",
   "metadata": {},
   "source": [
    "#### <span style=\"color:#B22222\">File Names and Paths</span>\n",
    "\n",
    "Files are organized into directories (also called “folders”). Every running program has a current directory, which is the default directory for most operations. For example, when you open a file for reading, Python looks for it in the current directory.\n",
    "\n",
    "A string like `\"/Users/mvdbrand/Documents/GitLab/course-material-jbi010/202122/Lectures/week3\"` that identifies a file or directory is called a **path**. Often we assign this path to a variable, for example:"
   ]
  },
  {
   "cell_type": "code",
   "execution_count": 7,
   "id": "009d192d-5834-4225-b35f-8cc8cf9504f1",
   "metadata": {
    "tags": []
   },
   "outputs": [],
   "source": [
    "file_path: str = \"assets/halloween.txt\""
   ]
  },
  {
   "cell_type": "markdown",
   "id": "aa7ab02e-8f7d-4030-ab5e-fc20fe4a65eb",
   "metadata": {},
   "source": [
    "Here, `assets` is a folder located in the same directory as this notebook. We want to access the file `halloween.txt` from this folder."
   ]
  },
  {
   "cell_type": "markdown",
   "id": "8aea9896-916f-46d2-b32c-ee8919db8685",
   "metadata": {},
   "source": [
    "#### <span style=\"color:#B22222\">The <code>open()</code> Function</span>\n",
    "\n",
    "Now that we know how to locate our file, the next step is to open it. As the title of this section suggests, we’ll use the [`open()`][o] function for this purpose. Your first instinct might be to write something like this:\n",
    "\n",
    "[o]: https://www.w3schools.com/python/ref_func_open.asp"
   ]
  },
  {
   "cell_type": "code",
   "execution_count": 10,
   "id": "002af500-4835-439c-a14f-817c97d32b5b",
   "metadata": {
    "tags": []
   },
   "outputs": [
    {
     "name": "stdout",
     "output_type": "stream",
     "text": [
      "Type of the open file object is: <class '_io.TextIOWrapper'>\n",
      "\n",
      "Content of our file is:\n",
      "\n",
      "<_io.TextIOWrapper name='assets/halloween.txt' mode='r' encoding='cp1252'>\n"
     ]
    }
   ],
   "source": [
    "halloween_file = open(file_path)\n",
    "\n",
    "print(f'Type of the open file object is: {type(halloween_file)}')\n",
    "print('\\nContent of our file is:\\n')\n",
    "print(halloween_file)\n",
    "\n",
    "# Does it work like expected?"
   ]
  },
  {
   "cell_type": "markdown",
   "id": "e9b8db3e-4d6c-4509-acca-cca150793181",
   "metadata": {},
   "source": [
    "This isn’t quite what we expected, is it? The function seems to return something called a `_io.TextIOWrapper` object. This happens because when we try to open a file, we’re really asking the **operating system (OS)** to locate the file by its name and ensure it exists. We use Python’s built-in `open()` function to do this. If the `open()` function is successful, the operating system returns a **file handle**, which in this case is the `_io.TextIOWrapper` object. The file handle isn’t the actual data, but rather an intermediary that allows us to read from or write to the file.\n",
    "\n",
    "So, while we might have expected the content of the data to be displayed when we printed the file, the first step was successful; the file was located, and a file handle was returned. Now, let’s move on to the next step: how do we actually read a file?"
   ]
  },
  {
   "cell_type": "markdown",
   "id": "d72d7f6b-972a-4155-b9df-bb6cc942c70d",
   "metadata": {},
   "source": [
    "```{note}\n",
    "Programs that store their data are <b>persistent</b>\n",
    "```"
   ]
  },
  {
   "cell_type": "markdown",
   "id": "6d3826a7-4e57-4901-ac93-68a068c518c5",
   "metadata": {
    "tags": []
   },
   "source": [
    "## <span style=\"color:#4169E1\">Reading Files</span>"
   ]
  },
  {
   "cell_type": "markdown",
   "id": "22313c66-8e58-421e-a877-ecd51764a791",
   "metadata": {
    "tags": []
   },
   "source": [
    "#### <span style=\"color:#B22222\">The <code>.read()</code> Method</span>\n",
    "\n",
    "So, in the previous section, we figured out how to locate a file successfully. Now, we want to see what’s inside. If you know the file is small compared to your main memory, you can use the [`read()`][r] method on the file handle. This method pulls the entire content of the file into a single string, including all line breaks.\n",
    "\n",
    "It’s smart to store the result of the `read()` method in a variable, given that it **exhausts resources**.\n",
    "\n",
    "[r]: https://www.w3schools.com/python/ref_file_read.asp"
   ]
  },
  {
   "cell_type": "code",
   "execution_count": 17,
   "id": "dce9c55d-e516-4137-afd4-a0d550b6006d",
   "metadata": {
    "tags": []
   },
   "outputs": [
    {
     "name": "stdout",
     "output_type": "stream",
     "text": [
      "\n",
      "Content of our file is:\n",
      "\n",
      "Halloween costume inventory:\n",
      "Ghost\n",
      "Zombie\n",
      "Witch\n",
      "Pumpkin\n",
      "\n",
      "Candy inventory:\n",
      "Snickers 15\n",
      "Jawbreakers 32\n",
      "Tony's 8\n"
     ]
    }
   ],
   "source": [
    "halloween_file = open(\"assets/halloween.txt\")  # You can also pass the string immediately in the function call\n",
    "content = halloween_file.read()\n",
    "\n",
    "print('\\nContent of our file is:\\n')\n",
    "print(content)\n",
    "\n",
    "halloween_file.close()"
   ]
  },
  {
   "cell_type": "markdown",
   "id": "ed9ccffc-6d0f-4202-b326-13e02ddadf8a",
   "metadata": {},
   "source": [
    "You might be wondering, what’s the deal with this `.close()` at the end? Even though we’re only reading the file in this section and not writing to it, it’s still important to close it. When writing to a file, closing is crucial because, until you do, the data might not actually be saved or stored properly. By getting into the habit of closing files, even when just reading, you ensure consistent behavior across different Python environments, making your code more reliable. But don't worry, you won't have to always open and close files by hand. We will learn how to do it using a specific command later on."
   ]
  },
  {
   "cell_type": "markdown",
   "id": "8f69647d-4d5a-4e62-968c-5ab8575fc1fc",
   "metadata": {},
   "source": [
    "#### <span style=\"color:#B22222\">The <code>.readlines()</code> Method</span>\n",
    "\n",
    "Sometimes, you don’t need to read the entire content of a file at once; instead, you may want to process it line by line. The [`.readlines()`][rl] method is ideal for this because it returns the content as a list of strings, with each line split at the newline character (`\\n`).\n",
    "\n",
    "[rl]: https://www.w3schools.com/python/ref_file_readlines.asp"
   ]
  },
  {
   "cell_type": "code",
   "execution_count": 20,
   "id": "31575fca-5373-4de9-9247-73fdb420c34c",
   "metadata": {
    "tags": []
   },
   "outputs": [
    {
     "name": "stdout",
     "output_type": "stream",
     "text": [
      "\n",
      "Content of our file is:\n",
      "\n",
      "['Halloween costume inventory:\\n', 'Ghost\\n', 'Zombie\\n', 'Witch\\n', 'Pumpkin\\n', '\\n', 'Candy inventory:\\n', 'Snickers 15\\n', 'Jawbreakers 32\\n', \"Tony's 8\"]\n"
     ]
    }
   ],
   "source": [
    "halloween_file = open(\"assets/halloween.txt\")  # You can also pass the string immediately in the function call\n",
    "content = halloween_file.readlines()\n",
    "\n",
    "print('\\nContent of our file is:\\n')\n",
    "print(content)\n",
    "\n",
    "halloween_file.close()"
   ]
  },
  {
   "cell_type": "markdown",
   "id": "33d688fd-2f18-415d-a5c5-3a201358cf8a",
   "metadata": {},
   "source": [
    "To access the content line by line, you can simply use a for loop:"
   ]
  },
  {
   "cell_type": "code",
   "execution_count": 22,
   "id": "97bad625-20f4-44b2-86b1-afced0841d92",
   "metadata": {
    "tags": []
   },
   "outputs": [
    {
     "name": "stdout",
     "output_type": "stream",
     "text": [
      "Halloween costume inventory:\n",
      "\n",
      "Ghost\n",
      "\n",
      "Zombie\n",
      "\n",
      "Witch\n",
      "\n",
      "Pumpkin\n",
      "\n",
      "\n",
      "\n",
      "Candy inventory:\n",
      "\n",
      "Snickers 15\n",
      "\n",
      "Jawbreakers 32\n",
      "\n",
      "Tony's 8\n"
     ]
    }
   ],
   "source": [
    "for line in content:\n",
    "    print(line)"
   ]
  },
  {
   "cell_type": "markdown",
   "id": "2123e954-b5cb-407c-8304-5a3aa71b349b",
   "metadata": {},
   "source": [
    "#### <span style=\"color:#B22222\">The <code>.readline()</code> Method</span>"
   ]
  },
  {
   "cell_type": "markdown",
   "id": "f1088cb2-15b2-430b-aa03-c68f060fe7db",
   "metadata": {},
   "source": [
    "The [`.readline()`][a] method might feel a bit unintuitive. It reads the content one line at a time, returning the next line each time you call it. It’s easier to understand when you see it in action.\n",
    "\n",
    "[a]: https://www.w3schools.com/python/ref_file_readline.asp"
   ]
  },
  {
   "cell_type": "code",
   "execution_count": 25,
   "id": "a83d4801-80b0-442a-b045-f511a79f9768",
   "metadata": {
    "tags": []
   },
   "outputs": [
    {
     "name": "stdout",
     "output_type": "stream",
     "text": [
      "Halloween costume inventory:\n",
      "\n"
     ]
    }
   ],
   "source": [
    "halloween_file = open(\"assets/halloween.txt\")  # You can also pass the string immediately in the function call\n",
    "line = halloween_file.readline()\n",
    "\n",
    "print(line)"
   ]
  },
  {
   "cell_type": "markdown",
   "id": "d67783e0-6e1f-44f9-b29a-0a5c4e5fa032",
   "metadata": {},
   "source": [
    "And what happens when we call the method again?"
   ]
  },
  {
   "cell_type": "code",
   "execution_count": 27,
   "id": "a6812fdf-07a3-45d8-b192-2b7940d5e236",
   "metadata": {
    "tags": []
   },
   "outputs": [
    {
     "name": "stdout",
     "output_type": "stream",
     "text": [
      "Ghost\n",
      "\n"
     ]
    }
   ],
   "source": [
    "line = halloween_file.readline()\n",
    "print(line)"
   ]
  },
  {
   "cell_type": "markdown",
   "id": "e1ac7a6d-45a3-4bfc-9453-736a49a07148",
   "metadata": {},
   "source": [
    "And again?"
   ]
  },
  {
   "cell_type": "code",
   "execution_count": 29,
   "id": "8e932aa5-719f-4577-b77a-eef2c0d4ff07",
   "metadata": {
    "tags": []
   },
   "outputs": [
    {
     "name": "stdout",
     "output_type": "stream",
     "text": [
      "Zombie\n",
      "\n"
     ]
    }
   ],
   "source": [
    "line = halloween_file.readline()\n",
    "print(line)\n",
    "\n",
    "halloween_file.close()"
   ]
  },
  {
   "cell_type": "markdown",
   "id": "3c2813ec-fc97-47b4-b5c6-8e84e9a22682",
   "metadata": {
    "tags": []
   },
   "source": [
    "## <span style=\"color:#4169E1\">A Context Manager</span>\n",
    "\n",
    "Manually opening and closing files is quite prone to errors, especially when writing files, which can lead to problems. To prevent this, before we start writing files, we’ll introduce a [**context manager**][c]; a tool that automatically handles opening/closing for you. We do this by using a `with` statement, as the file is automatically closed once you exit the scope of this statement.\n",
    "\n",
    "[c]: https://www.geeksforgeeks.org/context-manager-in-python/"
   ]
  },
  {
   "cell_type": "code",
   "execution_count": 31,
   "id": "40ae2423-0f55-4aaf-b46b-6e0febae10d0",
   "metadata": {
    "tags": []
   },
   "outputs": [
    {
     "name": "stdout",
     "output_type": "stream",
     "text": [
      "Halloween costume inventory:\n",
      "Ghost\n",
      "Zombie\n",
      "Witch\n",
      "Pumpkin\n",
      "\n",
      "Candy inventory:\n",
      "Snickers 15\n",
      "Jawbreakers 32\n",
      "Tony's 8\n"
     ]
    }
   ],
   "source": [
    "file_path: str = \"assets/halloween.txt\"\n",
    "\n",
    "with open(file_path, \"r\") as halloween_file:  # The \"r\" parameters indicates we read a file \n",
    "    # The file is only open in this scope\n",
    "    content = halloween_file.read()\n",
    "    \n",
    "# Once you're out, the file is closed again\n",
    "print(content)"
   ]
  },
  {
   "cell_type": "markdown",
   "id": "92434ca8-2e64-4f6e-ae8c-c7c69e0f9d6e",
   "metadata": {},
   "source": [
    "```{note}\n",
    "Using a <b>context manager</b> is best practice because it reduces errors, so it’s expected that you use it in future programs.\n",
    "```"
   ]
  },
  {
   "cell_type": "markdown",
   "id": "bb7c0bf5-51ad-4d63-af07-bf827ac4c4b5",
   "metadata": {},
   "source": [
    "#### <span style=\"color:#B22222\">Optional parameters of the `open()` function</span>"
   ]
  },
  {
   "cell_type": "markdown",
   "id": "672fe222-8d6d-4362-b4ab-b2740cf2be0b",
   "metadata": {},
   "source": [
    "The `open()` function can take many optional parameters. These parameters can help you control how the file is opened and interacted with. \n",
    "\n",
    "Let's check an `open()` function with the most common optional parameters:\n",
    "\n",
    "```python\n",
    "with open('example.txt', mode='w', delimiter=',', encoding='utf-8') as file:\n",
    "    file.write('Hello, world!')\n",
    "```\n",
    "So what do these parameters do?\n",
    "\n",
    "**mode:**\n",
    "- we are already familiar with this\n",
    "- 'w': Write mode (creates a new file or truncates an existing file).\n",
    "- Other modes include 'r' (read), 'a' (append), 'x' (exclusive creation), 'b' (binary), and 't' (text).\n",
    "\n",
    "**encoding:**\n",
    "- Specifies the encoding to use for the file (e.g., 'utf-8', 'ascii').\n",
    "\n",
    "**delimiter:**\n",
    "- Used in CSV files to specify the character that separates fields (e.g., ',' for comma, '\\t' for tab)."
   ]
  },
  {
   "cell_type": "markdown",
   "id": "e342561d-73a6-43be-ad35-3362edfd4a6f",
   "metadata": {
    "tags": []
   },
   "source": [
    "## <span style=\"color:#4169E1\">Writing Files</span>"
   ]
  },
  {
   "cell_type": "markdown",
   "id": "9c795d45-5836-4de3-b4d1-88e16af22b26",
   "metadata": {},
   "source": [
    "#### <span style=\"color:#B22222\">The <code>.write()</code> Method</span>\n",
    "\n",
    "To [**write**][w] a file you should open it with mode <code>w</code> (from write) as second parameter. If the file already exists, opening it in write mode removes the current content from the file, so be <b>careful</b>! If the file does not exist, a new one is created.\n",
    "\n",
    "[w]: https://www.w3schools.com/python/python_file_write.asp"
   ]
  },
  {
   "cell_type": "code",
   "execution_count": 35,
   "id": "1cb70fc6-7551-425c-930a-0bf34a3476e9",
   "metadata": {
    "tags": []
   },
   "outputs": [],
   "source": [
    "file_path: str = \"assets/output.txt\"\n",
    "\n",
    "a_string: str = \"This is my first line written to a file!\"\n",
    "    \n",
    "with open(file_path, \"w\") as outfile:    \n",
    "    outfile.write(a_string)"
   ]
  },
  {
   "cell_type": "markdown",
   "id": "2d407d42-1a66-4b95-a225-81d3f8a92cd8",
   "metadata": {},
   "source": [
    "Open the file in the text editor, did we succeed?"
   ]
  },
  {
   "cell_type": "markdown",
   "id": "c6011677-84d8-4c05-b846-9641ee8fc7b7",
   "metadata": {},
   "source": [
    "#### <span style=\"color:#B22222\">The <code>.append()</code> Method</span>\n",
    "\n",
    "If we want to add to an already existing file, we can use the [<code>.append()</code>][ap] method. This can be done by opening the file with mode **a** (this means append). However, with append, we can only add to the end of the file.\n",
    "\n",
    "[ap]: https://www.geeksforgeeks.org/python-append-to-a-file/"
   ]
  },
  {
   "cell_type": "code",
   "execution_count": 38,
   "id": "d520b57f-e0ae-4f78-838b-9e6f51d13f4c",
   "metadata": {
    "tags": []
   },
   "outputs": [],
   "source": [
    "file_path: str = \"assets/output.txt\"\n",
    "\n",
    "# Note how we add a new character line to make sure it it on a new line in the file\n",
    "a_second_string: str = \"\\nThis is my second line written to a file!\" \n",
    "    \n",
    "with open(file_path, \"a\") as outfile:    \n",
    "    outfile.write(a_second_string)"
   ]
  },
  {
   "cell_type": "markdown",
   "id": "bfbf06aa-4c98-4ec1-9518-3ffd4d460e97",
   "metadata": {},
   "source": [
    "## <span style=\"color:#4169E1\">Working with `csv` files</span>"
   ]
  },
  {
   "cell_type": "markdown",
   "id": "e3b5151b-5464-4136-87d5-424cc3cc8c73",
   "metadata": {},
   "source": [
    "Welcome you to the world of `CSV` **(Comma-Separated Values)** files! These files are incredibly popular for storing tabular data in a straightforward text format that’s easy to read and write. In this section, we’ll delve into how to use `csv.DictReader`, a superb tool that allows you to work with CSV files in a more intuitive way."
   ]
  },
  {
   "cell_type": "markdown",
   "id": "dd1fa64f-4f1f-4975-a122-4de2b59d28b3",
   "metadata": {},
   "source": [
    "#### <span style=\"color:#B22222\">What is `csv.DictReader`?</span>"
   ]
  },
  {
   "cell_type": "markdown",
   "id": "28195ec9-eca3-4b08-a870-f8ce8143601a",
   "metadata": {},
   "source": [
    "`csv.DictReader` reads **each row** of a [`CSV`][cs] file and converts it into a **dictionary**, where the **keys** are drawn from the first row (**the header**) of the file. This means you can **access your data by column names** instead of numerical indices, making your code **cleaner and easier to understand**.\n",
    "\n",
    "[cs]: https://www.geeksforgeeks.org/working-csv-files-python/"
   ]
  },
  {
   "cell_type": "markdown",
   "id": "e66a9ae9-7cac-4f60-97c3-c46e9dfd5517",
   "metadata": {},
   "source": [
    "#### <span style=\"color:#B22222\">Key Features of `csv.DictReader`</span>"
   ]
  },
  {
   "cell_type": "markdown",
   "id": "c11bb897-f3de-4d72-82ca-ec7ccafd6d92",
   "metadata": {},
   "source": [
    "Here are some important features that make `csv.DictReader` so useful:\n",
    "\n",
    "- **Header Row:** The first row of the CSV file serves as the keys for the dictionaries created from each subsequent row.\n",
    "- **Customizable Delimiters:** You can specify different delimiters (like semicolons) and quote characters, accommodating various CSV formats.\n",
    "- **Case Sensitivity:** Be mindful that dictionary keys are case-sensitive. For instance, \"Name\" and \"name\" are distinct keys.\n",
    "- **Handling Missing Values:** If a value is missing in a row, the corresponding key in the dictionary will simply be an empty string."
   ]
  },
  {
   "cell_type": "markdown",
   "id": "fe13d065-5286-4f4e-b56d-a18aabecf52f",
   "metadata": {},
   "source": [
    "#### <span style=\"color:#B22222\">How to Use `csv.DictReader`</span>"
   ]
  },
  {
   "cell_type": "markdown",
   "id": "9b8c5ec3-1a7e-4a02-b19b-98721bcc50e7",
   "metadata": {},
   "source": [
    "Enough theory, right? Let's see how the `csv.DictReader` works in action. Here is the plan how we gonna read the **csv** file:"
   ]
  },
  {
   "cell_type": "markdown",
   "id": "86314bb6-b026-4a8c-8359-e4e29f5db8bd",
   "metadata": {},
   "source": [
    "( Use the `employees.csv` file located in the `assets` folder for testing)\n",
    "\n",
    "1) First, let's **import the csv module**\n",
    "2) Second, **open the CSV file:** Use the `open()` function to read your CSV file, ensuring you specify the correct mode ('r' for reading).\n",
    "3) Third, **create a DictReader Object:** Pass the opened file object to `csv.DictReader`\n",
    "4) Lastly, **iterate over the rows:** Loop through the `DictReader` object to access each row as a dictionary\n",
    "\n",
    "Ok, let's see the code:"
   ]
  },
  {
   "cell_type": "code",
   "execution_count": 48,
   "id": "61a5832c-0ad5-4519-9d45-aa9eabfccca2",
   "metadata": {},
   "outputs": [
    {
     "name": "stdout",
     "output_type": "stream",
     "text": [
      "{'Name': 'Alice', 'Age': '30', 'Department': 'HR'}\n",
      "{'Name': 'Bob', 'Age': '25', 'Department': 'Engineering'}\n",
      "{'Name': 'Charlie', 'Age': '28', 'Department': 'Marketing'}\n"
     ]
    }
   ],
   "source": [
    "# import the csv module\n",
    "import csv\n",
    "\n",
    "# open the CSV file\n",
    "with open('assets/employees.csv') as employees_file:\n",
    "\n",
    "    # create a DictReader Object\n",
    "    reader: Dict[str, str] = csv.DictReader(employees_file)\n",
    "\n",
    "    # iterate over the rows\n",
    "    for row in reader:\n",
    "        print(row)  # Each row is a dictionary"
   ]
  },
  {
   "cell_type": "markdown",
   "id": "35da4bf9-cccf-4431-97b8-5db01c8be4bf",
   "metadata": {},
   "source": [
    "```{admonition} If your CSV file uses semicolons instead of commas, how would you handle that in your code?\n",
    ":class: tip, dropdown\n",
    "To handle a CSV file that uses semicolons instead of commas, you can specify the <b>delimiter</b> as <code>';'</code> in the <code>open()</code> function.\n",
    "```"
   ]
  },
  {
   "cell_type": "markdown",
   "id": "99e10e3a-c9d8-4d06-869b-a2ab19f74e11",
   "metadata": {},
   "source": [
    "See, we just have dictionaries!\n",
    "\n",
    "Now what can we do with this? Let's say I wanna know the names of all of my employees. How could we get their names?"
   ]
  },
  {
   "cell_type": "code",
   "execution_count": 51,
   "id": "4910cbbb-1b62-4dc0-a1ab-d91519332c0d",
   "metadata": {},
   "outputs": [
    {
     "data": {
      "text/plain": [
       "['Alice', 'Bob', 'Charlie']"
      ]
     },
     "execution_count": 51,
     "metadata": {},
     "output_type": "execute_result"
    }
   ],
   "source": [
    "# let's initialize a list to store employee names\n",
    "employee_names: List[str] = []\n",
    "\n",
    "# Read the 'employees.csv' file and extract names\n",
    "with open('assets/employees.csv') as employees_file:\n",
    "    reader = csv.DictReader(employees_file)\n",
    "    for row in reader:\n",
    "        employee_names.append(row['Name'])\n",
    "\n",
    "employee_names"
   ]
  },
  {
   "cell_type": "markdown",
   "id": "6dbecd09-cd93-4e07-aa44-12ff7f81e7d3",
   "metadata": {},
   "source": [
    "Easy, right? Now there is one more thing we need to cover in this chapter..."
   ]
  },
  {
   "cell_type": "markdown",
   "id": "fd0b5eb1-d03c-474a-baee-1388d4b99bb4",
   "metadata": {},
   "source": [
    "## <span style=\"color:#4169E1\">Working with `json` files</span>"
   ]
  },
  {
   "cell_type": "markdown",
   "id": "4bd45a06-373f-4cb3-b546-57ff7fd7caf2",
   "metadata": {},
   "source": [
    "If you’re new to programming or Python, you might be wondering what `JSON` is and why it’s important. Simply put, `JSON` is a popular format for storing and exchanging data. It’s widely used in web applications and APIs because it's easy to read and write for both humans and machines.\n",
    "\n",
    "In the following, we’ll explore how to work with `JSON` files in Python using the built-in [`json`][j] module.\n",
    "\n",
    "[j]: https://www.w3schools.com/python/python_json.asp"
   ]
  },
  {
   "cell_type": "markdown",
   "id": "85fc73ab-7db1-4061-8333-a57b7830e6e6",
   "metadata": {},
   "source": [
    "#### <span style=\"color:#B22222\">Why use `json`?</span>"
   ]
  },
  {
   "cell_type": "markdown",
   "id": "814007f1-44cc-4a76-8115-c10aecf92966",
   "metadata": {},
   "source": [
    "Ok so we've already seen the csv dictreader, so why do we even bother understanding something new? Well, consider the bellow points:\n",
    "\n",
    "- **Easy to Read:** JSON is text-based and looks similar to Python dictionaries, making it simple to understand.\n",
    "- **Language Independent:** JSON can be used with many programming languages, not just Python, which makes it a versatile choice for data interchange.\n",
    "- **Supports Complex Structures:** JSON can handle nested data structures, such as lists and dictionaries, allowing you to represent more complex data easily.\n",
    "\n",
    "Convinced? Me neither! Let me share the fact that turned me into a **JSON** believer: \n",
    "\n",
    "***JSON** is the standard format for **data exchange** on the web. Understanding JSON empowers you to interact with **APIs** and **web services**, allowing you to **build dynamic applications** that can communicate with other platforms seamlessly! It’s like learning the secret language of the internet!*"
   ]
  },
  {
   "cell_type": "markdown",
   "id": "1adf83d8-f713-458d-80df-d4498c55b4b3",
   "metadata": {},
   "source": [
    "#### <span style=\"color:#B22222\">Getting started with the `json` module</span>"
   ]
  },
  {
   "cell_type": "markdown",
   "id": "1fa10e1f-46c0-4501-b00a-a3751f879739",
   "metadata": {},
   "source": [
    "The json module in Python provides simple methods for working with `JSON` data. Here's what you'll need to know:\n",
    "\n",
    "- **Importing the JSON Module:** Before we use the `json` module, we need to import it into our Python script.\n",
    "\n",
    "- **Reading JSON Files:** We can read data from a `JSON` file and convert it into Python objects using the `json.load()` function.\n",
    "\n",
    "- **Extracting Information:** Once the data is loaded into Python, we can easily **access** and **manipulate** it.\n"
   ]
  },
  {
   "cell_type": "markdown",
   "id": "817c33bb-1dcb-4dd2-b500-d81c67f92bd9",
   "metadata": {},
   "source": [
    "Let's look at an example. We will be working with the `fish.json` file."
   ]
  },
  {
   "cell_type": "code",
   "execution_count": 60,
   "id": "1899f14a-7e9b-4497-a307-45f736cf2efe",
   "metadata": {},
   "outputs": [
    {
     "name": "stdout",
     "output_type": "stream",
     "text": [
      "{'Species': 'Clownfish', 'Color': 'Orange and white', 'Habitat': 'Coral reefs'}\n",
      "{'Species': 'Guppy', 'Color': 'Varied', 'Habitat': 'Freshwater streams'}\n",
      "{'Species': 'Angelfish', 'Color': 'Black, white, and yellow', 'Habitat': 'Freshwater rivers'}\n",
      "{'Species': 'Betta', 'Color': 'Varied', 'Habitat': 'Freshwater ponds'}\n",
      "{'Species': 'Tetra', 'Color': 'Blue, red, and yellow', 'Habitat': 'Freshwater rivers'}\n",
      "{'Species': 'Discus', 'Color': 'Blue, green, and brown', 'Habitat': 'Amazon River'}\n"
     ]
    }
   ],
   "source": [
    "# importing the json module\n",
    "import json\n",
    "\n",
    "with open('assets/fish.json') as fish_file:\n",
    "    fishes: List[Dict[str, str]] = json.load(fish_file)  # load the json data into a Python list\n",
    "    for fish_dict in fishes:\n",
    "        print(fish_dict)"
   ]
  },
  {
   "cell_type": "markdown",
   "id": "88c27429-10ed-43e4-8253-70ead4a4e531",
   "metadata": {},
   "source": [
    "See, we have dictionaries again!"
   ]
  },
  {
   "cell_type": "markdown",
   "id": "d89fb74d-6c52-45a8-8bbe-6af30e2216a9",
   "metadata": {
    "tags": []
   },
   "source": [
    "## <span style=\"color:#3CB371\">Exercises</span>"
   ]
  },
  {
   "cell_type": "markdown",
   "id": "46787f82-a6e7-41ec-a700-dc20ddeb5ade",
   "metadata": {},
   "source": [
    "Let's practice! Mind that each exercise is designed with multiple levels to help you progressively build your skills. <span style=\"color:darkorange;\"><strong>Level 1</strong></span> is the foundational level, designed to be straightforward so that everyone can successfully complete it. In <span style=\"color:darkorange;\"><strong>Level 2</strong></span>, we step it up a notch, expecting you to use more complex concepts or combine them in new ways. Finally, in <span style=\"color:darkorange;\"><strong>Level 3</strong></span>, we get closest to exam level questions, but we may use some concepts that are not covered in this notebook. However, in programming, you often encounter situations where you’re unsure how to proceed. Fortunately, you can often solve these problems by starting to work on them and figuring things out as you go. Practicing this skill is extremely helpful, so we highly recommend completing these exercises.\n",
    "\n",
    "For each of the exercises, make sure to add a `docstring` and `type hints`, and **do not** import any libraries unless specified otherwise.\n",
    "<br>"
   ]
  },
  {
   "cell_type": "markdown",
   "id": "865d291d-5a4c-42eb-9652-44110b39579d",
   "metadata": {
    "tags": []
   },
   "source": [
    "### Exercise 1\n",
    "\n",
    "<span style=\"color:darkorange;\"><strong>Level 1</strong>:</span> Let's practice what we've just learned. For this exercise, you are tasked with writing a function called `add_to_shopping_list()` that takes a list of strings as input, where each string represents a shopping item. You need to add these items, one by one, onto a new line in a text file called `shopping_list.txt`, which should be saved in the `assets` folder. Each time a new list of items is added to the file, the function should also **print** the entire content of the file to the terminal.\n",
    "\n",
    "**Example input**: you pass this argument to the parameter in the function call.\n",
    "\n",
    "```python\n",
    "items_to_add List[str] = [\"Apples\", \"Bananas\", \"Bread\"]\n",
    "\n",
    "```\n",
    "**Example output**: as well as in termin as the text file\n",
    "```\n",
    "Apples\n",
    "Bananas\n",
    "Bread\n",
    "```"
   ]
  },
  {
   "cell_type": "code",
   "execution_count": 65,
   "id": "476ff54d-5e90-4381-ab59-deef4c6539d9",
   "metadata": {
    "tags": []
   },
   "outputs": [],
   "source": [
    "# TODO."
   ]
  },
  {
   "cell_type": "markdown",
   "id": "392dd515-505a-4555-ac45-0ef182881a22",
   "metadata": {},
   "source": [
    "<span style=\"color:darkorange;\"><strong>Level 2</strong>:</span> Modify the `add_to_shopping_list()` function so that it has an extra parameter, append. If append is set to **False**, the function should **overwrite the existing shopping_list.txt** file instead of appending to it. Consequently, if it is **True**, it should **append** to the file.\n",
    "\n",
    "**Example input:**\n",
    "```python\n",
    "shopping_list: List[str] = ['cat', 'dog', 'monkey']\n",
    "append: bool = False\r",
    "```\n",
    "**Example output:**\n",
    "\n",
    "```python\n",
    "'cat'\n",
    "'dog'\n",
    "'monkey'\n",
    "```\n"
   ]
  },
  {
   "cell_type": "code",
   "execution_count": null,
   "id": "e23ff1ae-f01a-4b4b-ad27-e638231a96d6",
   "metadata": {},
   "outputs": [],
   "source": [
    "# TODO."
   ]
  },
  {
   "cell_type": "markdown",
   "id": "ef9b27ce-644e-420f-9b7c-064276274b7b",
   "metadata": {},
   "source": [
    "<span style=\"color:darkorange;\"><strong>Level 3</strong>:</span> Further enhance the `add_to_shopping_list()` function to include **error handling**. If an **invalid input** is provided (e.g., a non-list type), the function should **raise** a `ValueError` with an appropriate message. Additionally, **print a confirmation message** every time items are successfully added.\n",
    "\n",
    "**Example input:**\n",
    "```python\n",
    "shopping_list: Tuple[str] = (\"Apples, Bananas, Bread\")\n",
    "append: bool = True\n",
    "```\n",
    "**Example output:**\n",
    "\n",
    "```python\n",
    "ValueError: Input must be a list of strings.\n",
    "```"
   ]
  },
  {
   "cell_type": "code",
   "execution_count": null,
   "id": "7c59b5dc-e954-47c1-b26c-8423cd282736",
   "metadata": {},
   "outputs": [],
   "source": [
    "# TODO."
   ]
  },
  {
   "cell_type": "markdown",
   "id": "fa234790-dec6-490d-b913-5019abf657b4",
   "metadata": {},
   "source": [
    "### Exercise 2\n",
    "\n",
    "<span style=\"color:darkorange;\"><strong>Level 1</strong>:</span> For this exercise, you are provided with a CSV file called flowers.csv stored in the assets folder. The file contains information about different types of flowers, with columns \"Name\" and \"Color\". Write a function called read_flowers_from_csv() that reads the CSV file and returns its content as a list of dictionaries.\n",
    "\n",
    "\n",
    "**Example output:**\n",
    "```python\n",
    "[\r\n",
    "    {\"Name\": \"Rose\", \"Color\": \"Red\"},\r\n",
    "    {\"Name\": \"Sunflower\", \"Color\": \"Yellow\"},\r\n",
    "    {\"Name\": \"Tulip\", \"Color\": \"Pink\"}\r\n",
    "]\r\n",
    "\r",
    "```\n"
   ]
  },
  {
   "cell_type": "code",
   "execution_count": null,
   "id": "31b75754-cca2-4fb9-98f5-aa26486d1132",
   "metadata": {},
   "outputs": [],
   "source": [
    "# TODO."
   ]
  },
  {
   "cell_type": "markdown",
   "id": "1ded7ed7-7e8b-4ccf-8b62-de1d1df2f2cb",
   "metadata": {},
   "source": [
    "<span style=\"color:darkorange;\"><strong>Level 2</strong>:</span> Modify the `read_flowers_from_csv()` function to return the list only if the CSV file contains data. If it's empty, return an empty list."
   ]
  },
  {
   "cell_type": "code",
   "execution_count": 100,
   "id": "a562a740-3d1b-4d3a-9655-0ecdfbc76a9c",
   "metadata": {},
   "outputs": [],
   "source": [
    "# TODO."
   ]
  },
  {
   "cell_type": "markdown",
   "id": "54b21211-3d48-4a79-9803-53b92bbf1c9e",
   "metadata": {},
   "source": [
    "<span style=\"color:darkorange;\"><strong>Level 3</strong>:</span> Enhance the `read_flowers_from_csv()` function to allow filtering by color. The function should take a parameter, `filter_color`, and only return the flowers that match the given color.\n",
    "\n",
    "\n",
    "**Example input:**\n",
    "```python\n",
    "color: str = 'Yellow'\n",
    "```\n",
    "**Example output:**\n",
    "```python\n",
    "[\n",
    "    {\"Name\": \"Sunflower\", \"Color\": \"Yellow\"}\n",
    "]\n",
    "```"
   ]
  },
  {
   "cell_type": "code",
   "execution_count": null,
   "id": "374060da-6af2-4278-b526-bddaa6ee0506",
   "metadata": {},
   "outputs": [],
   "source": [
    "# TODO."
   ]
  },
  {
   "cell_type": "markdown",
   "id": "05251780-0fc7-43db-93ad-e906d6e5652e",
   "metadata": {},
   "source": [
    "### Exercise 3\n",
    "\n",
    "<span style=\"color:darkorange;\"><strong>Level 1</strong>:</span> You are provided with a JSON file called `pokemons.json` stored in the assets folder. The file contains a list of Pokémon, with each Pokémon having a `\"name\"` and `\"type\"`. Write a function called `read_pokemons_from_json()` that reads the JSON file and **returns** its content as a **list of dictionaries**.\n",
    "\n",
    "**Example output:**\n",
    "```python\n",
    "[\n",
    "    {\"name\": \"Pikachu\", \"type\": \"Electric\"},\n",
    "    {\"name\": \"Charmander\", \"type\": \"Fire\"},\n",
    "    {\"name\": \"Bulbasaur\", \"type\": \"Grass\"},\n",
    "    {\"name\": \"Squirtle\", \"type\": \"Water\"},\n",
    "    {\"name\": \"Raichu\", \"type\": \"Electric\"},\n",
    "    {\"name\": \"Vulpix\", \"type\": \"Fire\"},\n",
    "    {\"name\": \"Jolteon\", \"type\": \"Electric\"},\n",
    "    {\"name\": \"Oddish\", \"type\": \"Grass\"},\n",
    "    {\"name\": \"Poliwag\", \"type\": \"Water\"},\n",
    "    {\"name\": \"Growlithe\", \"type\": \"Fire\"},\n",
    "    {\"name\": \"Electabuzz\", \"type\": \"Electric\"},\n",
    "    {\"name\": \"Tentacool\", \"type\": \"Water\"}\n",
    "]\n",
    "```"
   ]
  },
  {
   "cell_type": "code",
   "execution_count": null,
   "id": "08e759ce-0ce1-4568-9a60-746da80d57aa",
   "metadata": {},
   "outputs": [],
   "source": [
    "# TODO."
   ]
  },
  {
   "cell_type": "markdown",
   "id": "a717961c-3627-4334-84d0-d0c350f7b2bd",
   "metadata": {},
   "source": [
    "<span style=\"color:darkorange;\"><strong>Level 2</strong>:</span> Modify the `read_pokemons_from_json()` function to add another feature. If a Pokémon's **type** appears **more than once** in the list (i.e., multiple Pokémon of the same type exist), **group the Pokémon by their type**. The function should **return a dictionary** where the **keys are the types**, and the **values are lists of Pokémon with that type**.\n",
    "\n",
    "**Expected output:**\n",
    "```python\n",
    "{\n",
    "    \"Electric\": [\n",
    "        {\"name\": \"Pikachu\", \"type\": \"Electric\"},\n",
    "        {\"name\": \"Raichu\", \"type\": \"Electric\"},\n",
    "        {\"name\": \"Jolteon\", \"type\": \"Electric\"},\n",
    "        {\"name\": \"Electabuzz\", \"type\": \"Electric\"}\n",
    "    ],\n",
    "    \"Fire\": [\n",
    "        {\"name\": \"Charmander\", \"type\": \"Fire\"},\n",
    "        {\"name\": \"Vulpix\", \"type\": \"Fire\"},\n",
    "        {\"name\": \"Growlithe\", \"type\": \"Fire\"}\n",
    "    ],\n",
    "    \"Grass\": [\n",
    "        {\"name\": \"Bulbasaur\", \"type\": \"Grass\"},\n",
    "        {\"name\": \"Oddish\", \"type\": \"Grass\"}\n",
    "    ],\n",
    "    \"Water\": [\n",
    "        {\"name\": \"Squirtle\", \"type\": \"Water\"},\n",
    "        {\"name\": \"Poliwag\", \"type\": \"Water\"},\n",
    "        {\"name\": \"Tentacool\", \"type\": \"Water\"}\n",
    "    ]\n",
    "}\n",
    "```"
   ]
  },
  {
   "cell_type": "code",
   "execution_count": null,
   "id": "7ae2a52b-d033-4be7-9adc-d2d7dc8ff6a7",
   "metadata": {},
   "outputs": [],
   "source": [
    "# TODO."
   ]
  },
  {
   "cell_type": "markdown",
   "id": "1057165f-3235-4a8f-992d-5b2d86f2197e",
   "metadata": {},
   "source": [
    "<span style=\"color:darkorange;\"><strong>Level 3</strong>:</span> Enhance the `read_pokemons_from_json()` function to include an additional parameter, `sort_by_name`. If `sort_by_name=True`, the function should return the Pokémon grouped by type, but also sorted alphabetically by their name within each type group.\n",
    "\n",
    "**Example input**:\n",
    "```python\n",
    "sort_by_name = True\n",
    "```\n",
    "\n",
    "**Example output:**\n",
    "```python\n",
    "{\n",
    "    \"Electric\": [\n",
    "        {\"name\": \"Electabuzz\", \"type\": \"Electric\"},\n",
    "        {\"name\": \"Jolteon\", \"type\": \"Electric\"},\n",
    "        {\"name\": \"Pikachu\", \"type\": \"Electric\"},\n",
    "        {\"name\": \"Raichu\", \"type\": \"Electric\"}\n",
    "    ],\n",
    "    \"Fire\": [\n",
    "        {\"name\": \"Charmander\", \"type\": \"Fire\"},\n",
    "        {\"name\": \"Growlithe\", \"type\": \"Fire\"},\n",
    "        {\"name\": \"Vulpix\", \"type\": \"Fire\"}\n",
    "    ],\n",
    "    \"Grass\": [\n",
    "        {\"name\": \"Bulbasaur\", \"type\": \"Grass\"},\n",
    "        {\"name\": \"Oddish\", \"type\": \"Grass\"}\n",
    "    ],\n",
    "    \"Water\": [\n",
    "        {\"name\": \"Poliwag\", \"type\": \"Water\"},\n",
    "        {\"name\": \"Squirtle\", \"type\": \"Water\"},\n",
    "        {\"name\": \"Tentacool\", \"type\": \"Water\"}\n",
    "    ]\n",
    "}\n",
    "```"
   ]
  },
  {
   "cell_type": "code",
   "execution_count": null,
   "id": "ace69192-73b5-48b9-85e1-060f3ef2f7c3",
   "metadata": {},
   "outputs": [],
   "source": [
    "# TODO."
   ]
  },
  {
   "cell_type": "markdown",
   "id": "e85ead93-7d16-4808-a8f8-31ac00fc77a4",
   "metadata": {},
   "source": [
    "___________________________________________________________________________________________________________________________\n",
    "\n",
    "*Material for the VU Amsterdam course “Introduction to Python Programming” for BSc Artificial Intelligence students. These notebooks are created using the following sources:*\n",
    "1. [Learning Python by Doing][learning python]: This book, developed by teachers of TU/e Eindhoven and VU Amsterdam, is the main source for the course materials. Code snippets or text explanations from the book may be used in the notebooks, sometimes with slight adjustments.\n",
    "2. [Think Python][think python]\n",
    "3. [GeekForGeeks][geekforgeeks]\n",
    "4. [Python for Text Analysis][textanalysis]: For this particular notebook on working with files, we’ve drawn inspiration from the VU Master’s course Python for Text Analysis offered by the Humanities department. \n",
    "\n",
    "[learning python]: https://programming-pybook.github.io/introProgramming/intro.html\n",
    "[think python]: https://greenteapress.com/thinkpython2/html/\n",
    "[geekforgeeks]: https://www.geeksforgeeks.org\n",
    "[textanalysis]: https://github.com/cltl/python-for-text-analysis/blob/master/Chapters/Chapter%2014%20-%20Reading%20and%20writing%20text%20files.ipynb"
   ]
  }
 ],
 "metadata": {
  "kernelspec": {
   "display_name": "Python 3 (ipykernel)",
   "language": "python",
   "name": "python3"
  },
  "language_info": {
   "codemirror_mode": {
    "name": "ipython",
    "version": 3
   },
   "file_extension": ".py",
   "mimetype": "text/x-python",
   "name": "python",
   "nbconvert_exporter": "python",
   "pygments_lexer": "ipython3",
   "version": "3.11.4"
  }
 },
 "nbformat": 4,
 "nbformat_minor": 5
}

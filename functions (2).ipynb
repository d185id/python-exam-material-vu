{
 "cells": [
  {
   "cell_type": "markdown",
   "id": "9a6620f3-1871-4fce-80ef-ce1738688832",
   "metadata": {},
   "source": [
    "# Functions"
   ]
  },
  {
   "cell_type": "markdown",
   "id": "8bda3a38-cdc1-46cf-ae5f-9ec05040f263",
   "metadata": {},
   "source": [
    "**In this notebook, we cover the following subjects:**\n",
    "- Function Calls;\n",
    "- Creating Functions;\n",
    "- Functions in Functions.\n",
    "___________________________________________________________________________________________________________________________"
   ]
  },
  {
   "cell_type": "code",
   "execution_count": 23,
   "id": "d73ee955-a477-49bf-9971-30a26c58365e",
   "metadata": {},
   "outputs": [],
   "source": [
    "# To enable us to state if the return typehint can take multiple datatypes, we need to import the following:\n",
    "# Moreover, to use the correct typehint for list we need to import the following:\n",
    "\n",
    "from typing import Union, List\n",
    "# Union[int, float] means that type can be either int or float."
   ]
  },
  {
   "cell_type": "markdown",
   "id": "ccf24171-e351-4b9f-8715-447b9d85ed24",
   "metadata": {},
   "source": [
    "## <span style=\"color:#4169E1\">Function calls</span>\n",
    "\n",
    "**Functions** let us execute processes multiple times without repeating the code. Unlike iterative loops (discussed in notebooks 4 and 5), we can call the function whenever we want to run a specific sequence of code. Plus, we can use **parameters** to run the same process with different values for certain variables.\n",
    "\n",
    "Before we will construct our own functions, we touch upon [**function calls**][magic] first. Luckily, these aren’t new to you, and you have already used them multiple times by now. A function call is when you run a function in your code, for example:\n",
    "\n",
    "[magic]:https://docs.python.org/3/reference/compound_stmts.html#function-definitions"
   ]
  },
  {
   "cell_type": "code",
   "execution_count": null,
   "id": "bda8dbc6-2bfc-422a-ac06-7a1d7cb3013a",
   "metadata": {
    "tags": []
   },
   "outputs": [],
   "source": [
    "type(\"animal\")"
   ]
  },
  {
   "cell_type": "markdown",
   "id": "b3638e42-0707-44db-ab6d-38b236a8ec4f",
   "metadata": {
    "tags": []
   },
   "source": [
    "In this example, the name of the function is `type`. The **expression** in parentheses is called the **argument** of the function. The result, for this function, is the type of the argument. \n",
    "\n",
    "It is common to say that a function “takes” an argument and “returns” a result. The result is called the **return value**."
   ]
  },
  {
   "cell_type": "markdown",
   "id": "53e7c893-5984-4f4e-a168-758369bce8d4",
   "metadata": {},
   "source": [
    "## <span style=\"color:#4169E1\">Built in Functions</span>\n",
    "\n"
   ]
  },
  {
   "cell_type": "markdown",
   "id": "14c40332-f9e0-4399-8dea-5d0885493951",
   "metadata": {},
   "source": [
    "Python's [**built-in functions**][magic] are a set of functions that are always available for you to use without needing to import any additional modules (we will cover modules in a later notebook, you do not have to worry about them right now). They provide a variety of useful functionalities, making it easier to perform common tasks without writing extra code.\n",
    "\n",
    "Let’s go through some of the most common built-in functions and see how they work:\n",
    "\n",
    "[magic]: https://docs.python.org/3/reference/compound_stmts.html#function-definitions/a>"
   ]
  },
  {
   "cell_type": "markdown",
   "id": "35aab5d4-707f-4a65-aaaa-3a00f694ece6",
   "metadata": {},
   "source": [
    "#### <span style=\"color:#B22222\">The <code>print()</code> Function</span>\n",
    "\n",
    "**Purpose:** As we know already, the ```print()``` function is used to display information on the screen.  \n",
    "\n",
    "**Example:**\n",
    "```python\n",
    "print('Hello, World!')\n",
    "```\n",
    "\n",
    "**Output**:\n",
    "```python\n",
    "'Hello, World!'\n",
    "```\n"
   ]
  },
  {
   "cell_type": "markdown",
   "id": "99a190ee-66e1-4ac7-a8f5-42c63fcfd459",
   "metadata": {},
   "source": [
    "#### <span style=\"color:#B22222\">The <code>type()</code> Function</span>\n",
    "\n",
    "**Purpose:** Again, as we know already, the ```type()``` function is used to find the type of an object (e.g., string, integer, float, etc.)  \n",
    "\n",
    "**Example:**\n",
    "```python\n",
    "number: int = 5\n",
    "print(type(number))\n",
    "```\n",
    "\n",
    "**Output**:\n",
    "```python\n",
    "\"<class 'int'>\"\n",
    "```\n"
   ]
  },
  {
   "cell_type": "markdown",
   "id": "be49d5d0-77ac-41b8-9366-bb85b54d5278",
   "metadata": {},
   "source": [
    "#### <span style=\"color:#B22222\">The <code>len()</code> Function</span>\n",
    "\n",
    "**Purpose:** The [```len()```][fn] function returns the number of items in an object. When the object is a string, it returns the number of characters in the string. It only works for iterable objects, and not integers or floats etc.\n",
    "\n",
    "**Example:**\n",
    "```python\n",
    "word: str = \"Python\"\n",
    "print(len(word))\n",
    "```\n",
    "\n",
    "**Output**:\n",
    "```python\n",
    "6\n",
    "```\n",
    "[fn]: https://www.w3schools.com/python/ref_func_len.asp\n"
   ]
  },
  {
   "cell_type": "markdown",
   "id": "96f470dd-e4ab-4b0b-b0a6-61f24847c394",
   "metadata": {},
   "source": [
    "#### <span style=\"color:#B22222\">The <code>input()</code> Function</span>\n",
    "\n",
    "**Purpose:** The [```input()```][fn] function is used to take input from the user. It pauses the program and waits for the user to type something.\n",
    "\n",
    "**Example:**\n",
    "```python\n",
    "name = input(\"Enter your name: \")\n",
    "print(\"Hello, \" + name + \"!\")\n",
    "```\n",
    "\n",
    "**Output**:\n",
    "```python\n",
    "\"Hello, Bob!\"\n",
    "```\n",
    "[fn]: https://www.w3schools.com/python/ref_func_input.asp"
   ]
  },
  {
   "cell_type": "markdown",
   "id": "e7904a53-4648-4bf7-927e-e3f05a581ad0",
   "metadata": {},
   "source": [
    "#### <span style=\"color:#B22222\">The <code>int(), float(), str()</code> Functions</span>\n",
    "\n",
    "**Purpose:**: These functions convert values to different data types.\n",
    "- ```int()``` converts to an integer.\n",
    "- ```float()``` converts to a floating-point number (a number with a decimal).\n",
    "- ```str()``` converts to a string.\n",
    "\n",
    "  \n",
    "**Example:**\n",
    "```python\n",
    "number: str = \"10\"\n",
    "\n",
    "print(int(number) + 5)\n",
    "print(float(number) + 0.5)\n",
    "print(str(100))\n",
    "```\n",
    "\n",
    "**Output**:\n",
    "```python\n",
    "15 # Converts \"10\" to integer 10  \n",
    "10.5 # Converts \"10\" to float 10.0 and adds 0.5 to it\n",
    "'100' # Converts the integer 100 to the string '100'\n",
    "```\n"
   ]
  },
  {
   "cell_type": "markdown",
   "id": "a29033d5-d317-4926-8857-1c35440b3c64",
   "metadata": {},
   "source": [
    "#### <span style=\"color:#B22222\">The <code>max(), min(), sum()</code> Functions</span>\n",
    "\n",
    "**Purpose:** These built-in functions work quite intuitively. The [```max()```][fn1] and [```min()```][fn2] functions return the largest or smallest item in an iterable (like a list or a string), while the [```sum()```][fn3] function  adds up all the items in an iterable (like a list or a tuple).  \n",
    "\n",
    "**Example:**\n",
    "```python\n",
    "numbers: List = [1, 2, 3, 4, 5]\n",
    "\n",
    "print(max(numbers))\n",
    "print(min(numbers))\n",
    "print(sum(numbers))\n",
    "```\n",
    "\n",
    "**Output**:\n",
    "```python\n",
    "5\n",
    "1\n",
    "15\n",
    "```\n",
    "\n",
    "[fn1]: https://www.w3schools.com/python/ref_func_max.asp\n",
    "[fn2]: https://www.w3schools.com/python/ref_func_min.asp\n",
    "[fn3]: https://www.w3schools.com/python/ref_func_sum.asp\n"
   ]
  },
  {
   "cell_type": "markdown",
   "id": "ac0a9634-7cc0-496c-a761-d33735cb96b5",
   "metadata": {},
   "source": [
    "```{admonition} What’s the length of the followig variable: <code>lengthy_string: str = ''</code>?\n",
    ":class: tip, dropdown\n",
    "The length of the <code>lengthy_string</code> variable is 0. This is becasue <code>lengthy_string</code> is assigned an empty string. An empty string is a string, that contains no characters.\n",
    "```"
   ]
  },
  {
   "cell_type": "code",
   "execution_count": null,
   "id": "b2970518-9575-4bb7-8345-1ffd111088bb",
   "metadata": {},
   "outputs": [],
   "source": [
    "# try it yourself\n",
    "\n",
    "lengthy_string: str = ''\n",
    "print(len(lengthy_string))\n",
    "\n",
    "# aesthetic print\n",
    "print('-------------')\n",
    "\n",
    "# what about now?\n",
    "lengthier_string: str = ' '\n",
    "print(len(lengthier_string))"
   ]
  },
  {
   "cell_type": "markdown",
   "id": "b51d5c29-8933-42d1-bd6a-ec1ebfe73fc3",
   "metadata": {},
   "source": [
    "There are many more built-in functions in Python. If you would like to see more, visit [this link][link].\n",
    "\n",
    "[link]: https://docs.python.org/3/reference/compound_stmts.html#function-definitions"
   ]
  },
  {
   "cell_type": "markdown",
   "id": "628aa5e7-618e-4123-b0e3-57ba21e60d71",
   "metadata": {},
   "source": [
    "## <span style=\"color:#4169E1\">Creating Your Own Functions</span>\n",
    "\n",
    "Along with using built-in functions, you can create your own. This allows you to package up computations in functions that you can reuse later, making your code more flexible.\n",
    "\n",
    "To define a function, just use the `def` keyword, give it a name, optionally add some parameters, and then write out the sequence of instructions you want it to run. This is called a **function definition**, and it looks like this:\n",
    "\n",
    "```python\n",
    "def function_name(parameters) -> type:\n",
    "    '''\n",
    "    Docstring\n",
    "    '''\n",
    "    # Code\n",
    "```"
   ]
  },
  {
   "cell_type": "markdown",
   "id": "2283f50d-858c-4464-873f-198e0dac63a4",
   "metadata": {},
   "source": [
    "\n",
    "    \n",
    "Note that the **return type** can be added to the function definition via `-> type`. Let's look at a very simple example where we simply greet a person."
   ]
  },
  {
   "cell_type": "code",
   "execution_count": null,
   "id": "1d830e46-418a-4f23-a6ef-e339d6d0b78b",
   "metadata": {
    "tags": []
   },
   "outputs": [],
   "source": [
    "def greet(name: str) -> None:\n",
    "    print(f\"Hello, {name}!\")\n",
    "    \n",
    "greet(\"Roger\")"
   ]
  },
  {
   "cell_type": "markdown",
   "id": "e78869e8-1daf-46b6-82b4-dfd38ef84186",
   "metadata": {},
   "source": [
    "Let’s break down all the components of this function definition and call. From the example, we can clearly see that this is a function because of the `def` keyword. The function’s name is `greet`, and it has one **parameter** called `name`. In the function body, we simply `print` the greeting `f\"Hello, {name}!\"`, therefore returning `None`. When we call the function, the **argument** passed is the string `\"Roger\"`."
   ]
  },
  {
   "cell_type": "markdown",
   "id": "eb9ff3f4-24b2-43fc-8e18-d31a90506122",
   "metadata": {},
   "source": [
    "```{note}\n",
    "The variables that are defined in the function definition are what we call <b>parameters</b>, while actual values that are passed to the function in the function call are named <b>arguments</b>.\n",
    "```"
   ]
  },
  {
   "cell_type": "markdown",
   "id": "c93fdaa6-c485-41db-b149-01c1c7525a92",
   "metadata": {},
   "source": [
    "#### <span style=\"color:#B22222\">Generalization</span>"
   ]
  },
  {
   "cell_type": "markdown",
   "id": "d01c5744-5411-42ae-aa96-c7a078bac269",
   "metadata": {},
   "source": [
    "It’s crucial for a function to be **clear** and **reusable**. To make your life easier, it’s best if you can use the same function multiple times and with different parameter values.\n",
    "\n",
    "Let's look at a poor example."
   ]
  },
  {
   "cell_type": "code",
   "execution_count": null,
   "id": "e227e44c-4028-4398-9e9a-d283fe4dffaa",
   "metadata": {},
   "outputs": [],
   "source": [
    "def travel_time() -> None:\n",
    "    time = 240000 / 1600\n",
    "    print(f\"The travel time between Earth and Moon for this ship is {time} hours.\")\n",
    "\n",
    "travel_time()\n",
    "\n",
    "## What is the problem with this function?"
   ]
  },
  {
   "cell_type": "markdown",
   "id": "2a5a196a-e7da-4f46-a47e-b53b0765ba73",
   "metadata": {},
   "source": [
    "Now, we'll improve this function definition."
   ]
  },
  {
   "cell_type": "code",
   "execution_count": null,
   "id": "8d5b68b1-17e8-4b3d-a36e-2e8f3f663ff6",
   "metadata": {},
   "outputs": [],
   "source": [
    "distance_Earth_Moon: int = 240000\n",
    "travel_speed: int = 1600\n",
    "\n",
    "def travel_time(distance: int, speed: int, planet1: str, planet2: str) -> None:\n",
    "    time = distance / speed\n",
    "    print(f\"The travel time between {planet1} and {planet2} for this ship is {time} hours.\")\n",
    "\n",
    "travel_time(distance_Earth_Moon, travel_speed, \"Earth\", \"Moon\")"
   ]
  },
  {
   "cell_type": "markdown",
   "id": "dd0c242f-4ddf-4e6f-b9e2-30e17ab5ede9",
   "metadata": {},
   "source": [
    "That looks much better already! However, we can still make the function definition easier to reuse by adding a **docstring**."
   ]
  },
  {
   "cell_type": "markdown",
   "id": "c6561565-385f-4cc5-acf6-538fcbd68ebb",
   "metadata": {},
   "source": [
    "```{note}\n",
    "If your function doesn’t take any parameters, that’s a <b>warning sign</b>. It means the function can only handle a single, specific computation, which is sometimes okay, but not ideal in most cases. So, consider this carefully.\n",
    "```"
   ]
  },
  {
   "cell_type": "markdown",
   "id": "f6f73c00-5ea9-4976-97ba-fffc43ac94ca",
   "metadata": {},
   "source": [
    "#### <span style=\"color:#B22222\">Docstring</span>"
   ]
  },
  {
   "cell_type": "markdown",
   "id": "6b307625-64b4-4a01-b194-1762ed195f17",
   "metadata": {},
   "source": [
    "To explain the interface of your function, you use a **docstring** (\"doc\" is short for \"documentation\"), which is a string placed at the beginning of your function. The main aim of a docstring is to clearly describe what the function does without delving into the details of how this is done. For example:"
   ]
  },
  {
   "cell_type": "markdown",
   "id": "0796f4f1-4bb1-498e-a812-c475c7f31555",
   "metadata": {},
   "source": [
    "```{note}\n",
    "Whenever your create a new function <b> always </b> add <b> typehints </b> to all parameters, moreover, to include the <b>return typehint</b> and write a <b>docstring</b>.\n",
    "```"
   ]
  },
  {
   "cell_type": "code",
   "execution_count": null,
   "id": "4e746e1b-7bd4-4265-ba84-96f21eed2569",
   "metadata": {
    "tags": []
   },
   "outputs": [],
   "source": [
    "def square(number: Union[int, float]) -> Union[int, float]:\n",
    "    \"\"\"\n",
    "    Returns the square of the given number.\n",
    "    \"\"\"\n",
    "    return number ** 2\n",
    "\n",
    "print(square(2))"
   ]
  },
  {
   "cell_type": "markdown",
   "id": "cba906ab-6def-4602-b9c9-c17906821cfd",
   "metadata": {},
   "source": [
    "A docstring starts with **triple-quoted strings**, allowing the text to span multiple lines. If it’s not immediately clear what each parameter does, its purpose in the function should also be explained. This looks as follows:"
   ]
  },
  {
   "cell_type": "code",
   "execution_count": null,
   "id": "e08d48c8-9652-4f18-9818-18aefb2998b1",
   "metadata": {
    "tags": []
   },
   "outputs": [],
   "source": [
    "def format_date(day: int, month: int, year: int) -> str:\n",
    "    \"\"\"\n",
    "    Formats a date in the DD-MM-YYYY format.\n",
    "\n",
    "    Parameters:\n",
    "    day (int): The day of the month (1-31).\n",
    "    month (int): The month of the year (1-12).\n",
    "    year (int): The full year (e.g., 2024).\n",
    "\n",
    "    Returns:\n",
    "    str: A string representing the date in the format DD-MM-YYYY.\n",
    "    \"\"\"\n",
    "    return f\"{day:02d}-{month:02d}-{year}\"\n",
    "\n",
    "format_date(1,1,1999)"
   ]
  },
  {
   "cell_type": "markdown",
   "id": "06327c55-d21f-44ab-a196-1d0ec95065db",
   "metadata": {},
   "source": [
    "```{note}\n",
    "A well designed interface should be simple to explain; if you have a hard time explaining one of your functions, maybe the interface could be improved.\n",
    "```"
   ]
  },
  {
   "cell_type": "markdown",
   "id": "5acd1a87-1a73-412c-bdcb-38b42e10d92c",
   "metadata": {},
   "source": [
    "#### <span style=\"color:#B22222\">Scope</span>"
   ]
  },
  {
   "cell_type": "markdown",
   "id": "71ec448e-fed0-418a-82eb-3e3a0bfce598",
   "metadata": {},
   "source": [
    "When we define variables, we distinguish between **local** and **global variables**. **Local variables** are those defined inside a function, meaning they only exist within that function and cannot be accessed outside of it. Let's have a look."
   ]
  },
  {
   "cell_type": "code",
   "execution_count": null,
   "id": "13d1d79e-558e-4b54-af33-f7e5e2fbbdb9",
   "metadata": {
    "tags": []
   },
   "outputs": [],
   "source": [
    "def explorer() -> None:\n",
    "    \"\"\"Explores the planets Mars and Venus.\"\"\"\n",
    "    planet: str = \"Mars\"\n",
    "    planet2: str = \"Venus\"\n",
    "    \n",
    "print(planet)"
   ]
  },
  {
   "cell_type": "markdown",
   "id": "972effb7-2d67-4d9e-afd7-726457de6f2b",
   "metadata": {},
   "source": [
    "When we try to access the **variable** `planet` outside the function and print it, we get an error saying that the name `planet` is not defined. The same holds true for **parameters**, as they are also invisible outside the function."
   ]
  },
  {
   "cell_type": "code",
   "execution_count": null,
   "id": "f241191c-2e76-42a6-a2c9-36d5ed0b341b",
   "metadata": {
    "tags": []
   },
   "outputs": [],
   "source": [
    "def concat(part1: str, part2: str) -> None:\n",
    "    \"\"\"Concatenates two strings and prints the result twice.\"\"\"\n",
    "    cc_result: str = part1 + part2\n",
    "    print(cc_result)\n",
    "    \n",
    "concat('Data ', 'Science')\n",
    "print(part1)"
   ]
  },
  {
   "cell_type": "markdown",
   "id": "468228cc-52eb-46ae-9fe6-6bd3dcf4dbb7",
   "metadata": {},
   "source": [
    "In contrast, **global variables** are defined outside of functions and can be accessed and used throughout the whole program, also in a function."
   ]
  },
  {
   "cell_type": "code",
   "execution_count": null,
   "id": "b4de936f-91d0-4798-86a6-d4cdbb2847bc",
   "metadata": {
    "tags": []
   },
   "outputs": [],
   "source": [
    "the_best_footballer: str = \"Messi\"\n",
    "\n",
    "def the_best(human: str) -> str:\n",
    "    \"\"\"Checks if the given human is the footballer Messi.\"\"\"\n",
    "    if human == the_best_footballer:\n",
    "        return f\"{human} is the best footballer!\"\n",
    "    else:\n",
    "        return f\"{human} is great, but {the_best_footballer} is the best!\"\n",
    "\n",
    "result = the_best(\"Bellingham\")\n",
    "print(result)"
   ]
  },
  {
   "cell_type": "markdown",
   "id": "e4ea195e-7c36-4a93-beeb-cc9edcf91fef",
   "metadata": {},
   "source": [
    "Now let's test if we clearly understand the difference between **local** and **global variables**. What happens when we run the following cell, what is the **exact** output?"
   ]
  },
  {
   "cell_type": "code",
   "execution_count": null,
   "id": "2cf081a1-7c9f-4663-b0ff-275be9e8f470",
   "metadata": {
    "tags": []
   },
   "outputs": [],
   "source": [
    "number: int = 3\n",
    "\n",
    "def square(number: Union[int, float]) -> Union[int, float]:\n",
    "    \"\"\"\n",
    "    Returns the square of the given number.\n",
    "    \"\"\"\n",
    "    print(number)\n",
    "    return number ** 2\n",
    "\n",
    "square_of_4: Union[int, float] = square(4)\n",
    "\n",
    "print(number)\n",
    "print(square_of_4)"
   ]
  },
  {
   "cell_type": "markdown",
   "id": "fb68ac0c-2d3c-4421-861b-9fc086169da9",
   "metadata": {},
   "source": [
    "```{admonition} What are the 3 main parts of a docstring?\n",
    ":class: tip, dropdown\n",
    "1) General explanation of what the function does.<br>\n",
    "2) Description of all parameters including their type and purpose.<br>\n",
    "3) Explanation of what the function returns including it's type.  \n",
    "```"
   ]
  },
  {
   "cell_type": "markdown",
   "id": "fed13157-bfb0-4429-a82d-23317ab697fb",
   "metadata": {},
   "source": [
    "#### <span style=\"color:#B22222\"><code> print() </code> vs <code> return </code></span>\n",
    "\n",
    "It’s important to note that some functions just execute code, while others return a result. Depending on the function’s purpose, calling it can differ:\n",
    "\n",
    "- If the function simply runs some code, just call it on a line by itself, like a full statement (e.g., a **void function**);\n",
    "- If the function returns a result, call it where you need the result, like saving it in a variable or printing it (e.g., a **fruitful function**).\n",
    "\n",
    "Although a **void function** might display something or have some other effect, it doesn’t return anything. Therefore, using it on the right side of an assignment statement is pointless. If you do, the variable will receive a special value called `None`. Here's an example."
   ]
  },
  {
   "cell_type": "code",
   "execution_count": null,
   "id": "eaa941ce-dbc1-4992-bd77-05e955e61c5b",
   "metadata": {
    "tags": []
   },
   "outputs": [],
   "source": [
    "def message(text: str) -> None:\n",
    "    \"\"\"Prints a message.\"\"\"\n",
    "    print(f\"Message: {text}\")\n",
    "\n",
    "result: str = message(\"Hello World!\")\n",
    "\n",
    "print(result)"
   ]
  },
  {
   "cell_type": "markdown",
   "id": "f7698f4a-9b75-41dc-b129-e57b6f5f57d3",
   "metadata": {},
   "source": [
    "A **fruitful function** does return a result which can be stored in a variable. "
   ]
  },
  {
   "cell_type": "code",
   "execution_count": null,
   "id": "a1993cc6-97c4-4542-9ea1-a60fa36e7a24",
   "metadata": {
    "tags": []
   },
   "outputs": [],
   "source": [
    "# A simple example of a function that returns the sum of 2 numbers\n",
    "\n",
    "def sum_int_numbers(nr1: int, nr2: int) -> int:\n",
    "    \"\"\"Returns the sum of two integers numbers\"\"\"\n",
    "    return nr1 + nr2\n",
    "\n",
    "sum_var: int = sum_int_numbers(5, 6)\n",
    "print(sum_var)"
   ]
  },
  {
   "cell_type": "markdown",
   "id": "f324175d-9d5f-444a-b672-b8dcd3d4dbbb",
   "metadata": {},
   "source": [
    "```{note}\n",
    "The <b>return type</b> can be added to the <b>function definition</b> via <code>-> type</code>.\n",
    "```"
   ]
  },
  {
   "cell_type": "markdown",
   "id": "f0bf526a-93a9-4900-a5f6-a7cf07d83f2d",
   "metadata": {},
   "source": [
    "Consider the following 2 cases:\r\n",
    "\r\n",
    "In **Case 1**, I am trying to create a function knowing that I will need to use its output later on.  \r\n",
    "In **Case 2**, I am creating a function knowing that I only need to display the result immediately and won't need to use it later.\r\n",
    "\r\n",
    "---\r\n",
    "\r\n",
    "**Question**: Based on these 2 cases, when should I use `print()` and when should I use `return`?\r\n",
    "\r\n",
    "```{admonition} Answer:\r\n",
    ":class: tip, dropdown\r\n",
    "\r\n",
    "- In **Case 1**, I should use `return` to be able to reuse the output later on.\r\n",
    "- In **Case 2**, I should use `print()` since I know that I will not have to reuse the function's output.\r\n",
    "'s output.\r\n",
    "\n"
   ]
  },
  {
   "cell_type": "markdown",
   "id": "7ea0ee1a-7de6-4aad-8889-c0bdeaae05a9",
   "metadata": {},
   "source": [
    "Let's test our knowledge. What does this piece of code print?"
   ]
  },
  {
   "cell_type": "code",
   "execution_count": null,
   "id": "1534f337-dc72-4bcf-a666-3ad532cfe6a1",
   "metadata": {
    "tags": []
   },
   "outputs": [],
   "source": [
    "def explorer(celestial_body: str) -> str:\n",
    "    \"\"\"Returns a landing message for a given celestial body.\"\"\"\n",
    "    return f\"I am now landing on {celestial_body}.\"\n",
    "\n",
    "message1 = explorer(\"Moon\")\n",
    "message2 = explorer(\"Mars\")\n",
    "\n",
    "message = \"Hurray! \" + message1\n",
    "message = message2 + \" \" + message\n",
    "\n",
    "print(message)"
   ]
  },
  {
   "cell_type": "markdown",
   "id": "3032bf23-4b41-4696-9364-8948caf3ed93",
   "metadata": {},
   "source": [
    "## <span style=\"color:#4169E1\">Calling Functions in Functions</span>\n",
    "\n",
    "Python also allows you to call a function within another function, which modularizes the code, allowing the same function to be used for different purposes."
   ]
  },
  {
   "cell_type": "code",
   "execution_count": null,
   "id": "23d8405a-55a8-4e61-9bd7-5c7865e829a3",
   "metadata": {},
   "outputs": [],
   "source": [
    "def square(number: Union[int, float]) -> Union[int, float]:\n",
    "    \"\"\"\n",
    "    Returns the square of the given number.\n",
    "    \"\"\"\n",
    "    return number ** 2\n",
    "\n",
    "def sum_of_squares(number_1: Union[int, float], number_2: Union[int, float]) -> Union[int, float]:\n",
    "    \"\"\"Calculates the sum of the squares of two numbers.\"\"\"\n",
    "    return square(number_1) + square(number_2)  # Calls to square()\n",
    "\n",
    "# Example usage\n",
    "number_1: Union[int, float] = 3.0\n",
    "number_2: Union[int, float] = 4.0\n",
    "\n",
    "result = sum_of_squares(number_1, number_2)\n",
    "print(f\"The sum of the squares of {number_1} and {number_2} is {result}.\")"
   ]
  },
  {
   "cell_type": "markdown",
   "id": "ad522326-fb51-4f9a-85e2-4e94104f7ad8",
   "metadata": {
    "tags": []
   },
   "source": [
    "## <span style=\"color:#3CB371\">Exercises</span>"
   ]
  },
  {
   "cell_type": "markdown",
   "id": "880519f1-0400-4ed2-8bdd-c7fe3644d770",
   "metadata": {},
   "source": [
    "Let's practice! Mind that each exercise is designed with multiple levels to help you progressively build your skills. <span style=\"color:darkorange;\"><strong>Level 1</strong></span> is the foundational level, designed to be straightforward so that everyone can successfully complete it. In <span style=\"color:darkorange;\"><strong>Level 2</strong></span>, we step it up a notch, expecting you to use more complex concepts or combine them in new ways. Finally, in <span style=\"color:darkorange;\"><strong>Level 3</strong></span>, we get closest to exam level questions, but we may use some concepts that are not covered in this notebook. However, in programming, you often encounter situations where you’re unsure how to proceed. Fortunately, you can often solve these problems by starting to work on them and figuring things out as you go. Practicing this skill is extremely helpful, so we highly recommend completing these exercises.\n",
    "\n",
    "For each of the exercises, make sure to add a `docstring` and `type hints`, and **do not** import any libraries unless specified otherwise.\n",
    "<br>"
   ]
  },
  {
   "cell_type": "markdown",
   "id": "321dba5d-737c-4aad-a368-5b9e5dc51b77",
   "metadata": {},
   "source": [
    "### Exercise 1\n",
    "\n",
    "<span style=\"color:darkorange;\"><strong>Level 1</strong>:</span> Create a Python function named `calculate_triangle_area()` that calculates and returns the area of a triangle given its base and height as input arguments. The function should use the formula `0.5 * base * height` to compute the area and return the result. After calling the function, print the area using an f-String outside of the function. Assume both the base and height are positive numbers.\n",
    "\n",
    "<img src=\"assets/Triangle-1.png\" width=600 height=300>\n",
    "\n",
    "\n",
    "**Example input**: you pass these in a function call.\n",
    "```python\n",
    "base: int = 6\n",
    "height: int = 8\n",
    "```\n",
    "\n",
    "**Example output**:\n",
    "```python\n",
    "\"The area of the triangle with base 6 and height 8 is 24.0.\"\n",
    "```"
   ]
  },
  {
   "cell_type": "code",
   "execution_count": null,
   "id": "69523187-24ec-4248-b14e-5e0c9e1290c5",
   "metadata": {
    "tags": []
   },
   "outputs": [],
   "source": [
    "# TODO."
   ]
  },
  {
   "cell_type": "markdown",
   "id": "4f607ca0-fcb4-4399-9f73-f6c50a18137c",
   "metadata": {},
   "source": [
    "<span style=\"color:darkorange;\"><strong>Level 2</strong>:</span> Create a Python function named calculate_triangle_fit_with_remainder() that takes five parameters: the base and height of a triangle (base, height), the unit of measurement for the triangle (unit), and the dimensions of a rectangular surface (surface_length, surface_width). The function should:\n",
    "\n",
    "- Calculate the area of the triangle using the <code> calculate_triangle_area() </code> (function from Level 1).\n",
    "- Calculate the area of the rectangular surface using <code> surface_length * surface_width </code>.\n",
    "- Determine how many whole triangles can fit into the rectangular surface.\n",
    "- Calculate the remaining area on the surface after placing as many whole triangles as possible.\n",
    "\n",
    "After having calculated the above mentioned information, return a formatted string indicating:\n",
    "- The area of the triangle.\n",
    "- The area of the surface.\n",
    "- The number of triangles that can fit.\n",
    "- The remaining area on the surface.\n",
    "\n",
    "**Example input**: you pass these in a function call.\n",
    "```python\n",
    "base = 5.0\n",
    "height = 6.0\n",
    "unit = \"cm\"\n",
    "surface_length = 30.0\n",
    "surface_width = 10.0\n",
    "```\n",
    "\n",
    "**Example output**:\n",
    "```python\n",
    "\"The area of the triangle is: 15.00 cm. The area of the surface is: 300.00 cm. Based on this, the number of triangles that fit is: 20. While the remaining surface area is: 0.00 cm.\"\n",
    "```"
   ]
  },
  {
   "cell_type": "code",
   "execution_count": null,
   "id": "e4e54052-af8f-4351-a9ca-7bb3cb3e560e",
   "metadata": {},
   "outputs": [],
   "source": [
    "# TODO."
   ]
  },
  {
   "cell_type": "markdown",
   "id": "870b8940-2843-41f9-ab12-a3ececb008e5",
   "metadata": {},
   "source": [
    "<span style=\"color:darkorange;\"><strong>Level 3</strong>:</span>  Upgrade the `calculate_triangle_area()` function to handle multiple triangles by accepting a [list][list] of [tuples][tuple], where each tuple contains a base-height pair. For each pair, calculate the area using the formula `0.5 * base * height` and return a list of all the areas. Make sure both bases and heights are positive numbers. Use the return statement to get the list of areas, and don’t forget to print the result outside the function.\n",
    "\n",
    "**Example input**: you pass this in a function call.\n",
    "```python\n",
    "base_height_pairs: List[tuple] = [(6, 8), (10, 5), (7, 12)]\n",
    "```\n",
    "\n",
    "**Example output**:\n",
    "```python\n",
    "[24.0, 25.0, 42.0]\n",
    "```\n",
    "\n",
    "[list]:https://programming-pybook.github.io/introProgramming/chapters/lists.html\n",
    "[tuple]:https://programming-pybook.github.io/introProgramming/chapters/tuples.html"
   ]
  },
  {
   "cell_type": "code",
   "execution_count": null,
   "id": "5569636f-64c5-4159-aaac-4d99a85c440b",
   "metadata": {
    "tags": []
   },
   "outputs": [],
   "source": [
    "# TODO."
   ]
  },
  {
   "attachments": {},
   "cell_type": "markdown",
   "id": "96e66416-ef38-4c50-b4db-0d759aff800c",
   "metadata": {},
   "source": [
    "### Exercise 2\n",
    "<span style=\"color:darkorange;\"><strong>Level 1</strong>:</span> Imagine you’re at a delightful farm, surrounded by various animals. To keep yourself entertained, you decide to count the number of legs each type of animal has. Your task is to create a function named <code> count_animal_legs() </code> that takes three inputs: the number of chickens, cows, and dogs you see. The function should then calculate and return the total number of legs based on the counts you provide alongside with the number of each animal.\n",
    "\n",
    "\n",
    "Hint:\n",
    "\n",
    "- Chickens have 2 legs.\n",
    "- Cows have 4 legs.\n",
    "- Dogs have 4 legs\n",
    "\n",
    "**Example input**: you pass this in a function call.\n",
    "```python\n",
    "num_of_chickens: int = 6\n",
    "num_of_cows: int = 3\n",
    "num_of_dogs: int = 1\n",
    "```\n",
    "\n",
    "**Example output**:\n",
    "```python\n",
    "\"I can see 6 chickens, 3 cows and 1 dog. In total, I can see 28 legs.\n",
    "```"
   ]
  },
  {
   "cell_type": "code",
   "execution_count": null,
   "id": "e1e90087-0ef6-4ea1-b3c9-34571f98c389",
   "metadata": {
    "tags": []
   },
   "outputs": [],
   "source": [
    "# TODO."
   ]
  },
  {
   "cell_type": "markdown",
   "id": "7d05c907-30e5-4d5d-aad0-dca8382a3387",
   "metadata": {},
   "source": [
    "<span style=\"color:darkorange;\"><strong>Level 2</strong>:</span> You're back at the farm, and this time you need a more detailed analysis of the animals you encounter. Your task is to create a function called <code> animal_info() </code> which, beyond counting the number of legs and the total number of animals, can also calculate the total weight of all the animals combined. Additionally, you'll need to calculate the cumulative weight of each species and present a message that includes all these insights. Your function should take 5 inputs representing the number of animals you see from each species. Use the information provided regarding the weight of each animal.\n",
    "\n",
    "Details:\n",
    "\n",
    "- Chickens weigh 1.5 kg each.\n",
    "- Cows weigh 500 kg each.\n",
    "- Dogs weigh 30 kg each.\n",
    "- Pigs weigh 150 kg each.\n",
    "- Horses weigh 600 kg each.\n",
    "\n",
    "\n",
    "**Note**: Think about what you learned in the <code> Scope </code> section, and where could that be used.\n",
    "\n",
    "**Example input**: you pass this in a function call.\n",
    "```python\n",
    "num_of_chickens: int = 5\n",
    "num_of_cows: int = 3\n",
    "num_of_dogs: int = 2\n",
    "num_of_pigs: int = 4\n",
    "num_of_horses: int = 1\n",
    "```\n",
    "\n",
    "**Example output**:\n",
    "```python\n",
    "\"I can see 5 chickens, 3 cows, 2 dogs, 4 pigs, and 1 horse. In total, I can see 32 legs and the total weight of the animals is 2,767.5 kg. The animals cumulative weight by species is: chicken (7.5 kg), dog (60 kg), pig (600 kg), cow (1,500 kg), and horse (600 kg).\"\r\n",
    "\n",
    "```\n"
   ]
  },
  {
   "cell_type": "code",
   "execution_count": null,
   "id": "250208f6-b4e2-4398-b79c-a9c702cf7a9c",
   "metadata": {
    "tags": []
   },
   "outputs": [],
   "source": [
    "# TODO."
   ]
  },
  {
   "cell_type": "markdown",
   "id": "2e608212-cc07-4d1d-9c5a-1a890437547a",
   "metadata": {},
   "source": [
    "<span style=\"color:darkorange;\"><strong>Level 3</strong>:</span> You're back at the farm for a final observation. This time you need to measure the speed of the animals as they cover different distances. Unfortunatelly, it is raining today so all animals are in the barn. Therefore, you decide to conduct a survey and gather information about the speed of each animal. Create a function called <code> sprinter_of_the_farm() </code> which takes no input, however, asks the user for the following information:\n",
    "\n",
    "- the name of the animal\n",
    "- the species of the animal\n",
    "- the distance it covered (in kilometers)\n",
    "- the time it took to cover that distance (in hours\n",
    "\n",
    "Then, the function should calculate the speed of the animal, in meters per second (m/s) and show a summary message to the user. \n",
    "\n",
    "\n",
    "Hint:\n",
    "- Speed is calculated using the formula: <code> Speed = Distance / Time </code>\n",
    "- You can find inspiration about how to ask the user for input on [this site][fn]\n",
    "\n",
    "**Example user input**:\n",
    "```python\n",
    "name = 'Pedro'\n",
    "species = 'Teacup Pig'\n",
    "distance_covered = 0.3\n",
    "time_required = 0.5\n",
    "\n",
    "```\n",
    "\n",
    "**Example output**:\n",
    "```python\n",
    "\"Based on the provided information, Pedro - the Teacup Pig - runs with 0.167 m/s.\"\n",
    "```\n",
    "\n",
    "[fn]: https://www.geeksforgeeks.org/how-to-take-integer-input-in-python/"
   ]
  },
  {
   "cell_type": "code",
   "execution_count": 22,
   "id": "bb43de63-2242-479d-83dc-e5183a5427ac",
   "metadata": {},
   "outputs": [],
   "source": [
    "# TODO."
   ]
  },
  {
   "attachments": {},
   "cell_type": "markdown",
   "id": "519bb783-491f-4a46-843e-541603696b8d",
   "metadata": {},
   "source": [
    "### Exercise 3\n",
    "<span style=\"color:darkorange;\"><strong>Level 1</strong>:</span> You are an astronaut on a mission to explore the mysterious Planet Numerica. Your spaceship has landed on the planet, and you’ve encountered several tasks that require your Python Programming skills to solve. First, you need to calculate the total amount of fuel required for a round-trip to a nearby research station. Create a function called <code> fuel_calculator() </code> which takes as input the spaceship's fuel consumption rate (litre/hour) and the time it requires to reach the nearest research station (in hours). Your function should return a detailed summary including the spaceship's fuel consumption rate, the distance to the nearest research station and total amount of fuel (in litres) required for the round-trip.\n",
    "\n",
    "**Example user input**: you pass this in a function call.\n",
    "```python\n",
    "fuel_consumption_rate:int = 35\n",
    "distance_to_research_station:int = 8\n",
    "\n",
    "```\n",
    "\n",
    "**Example output**:\n",
    "```python\n",
    "\"The spaceship's fuel consumption rate is 35 litres/hour and the nearest research station is 8 hours away. Therefore, we need 560 litres of fuel for a round-trip.\n",
    "```"
   ]
  },
  {
   "cell_type": "code",
   "execution_count": null,
   "id": "6e21492a-0ca4-4e22-b482-8e24f871c2d4",
   "metadata": {},
   "outputs": [],
   "source": [
    "# TODO."
   ]
  },
  {
   "cell_type": "markdown",
   "id": "3f2bc43b-4388-4ffb-8428-a129be024560",
   "metadata": {},
   "source": [
    "<span style=\"color:darkorange;\"><strong>Level 2</strong>:</span> As part of your mission on Planet Numerica, you need to perform a special calculation to navigate through a dangerous asteroid field. The calculation involves determining the position of your spaceship after a series of complex movements. This will require you to carefully apply a sequence of operations to ensure your spaceship arrives at the correct position. Create a function called <code>navigation_system()</code> that takes three parameters:\n",
    "\n",
    "- initial_position (an integer representing your starting position)\n",
    "- movement_units (an integer representing how many units your spaceship will move in each step)\n",
    "- total_steps (an integer representing the total number of units you will take). Meaning if you take 1 step, you move 4 units.\n",
    "\n",
    "The function should return a message with your final position after performing the following sequence of calculations:\n",
    "\n",
    "1) Find the remainder when the total number of steps is compared to the movement units.\n",
    "\n",
    "2) Calculate how many **whole** units of movement can be performed given the total number of steps.\n",
    "\n",
    "3) Determine the impact of the calculated units on your movement by multiplying the number of whole units by the remainder.\n",
    "\n",
    "4) Adjust your movement by dividing the impact by a combined value derived from the movement units and the initial remainder.\n",
    "\n",
    "5) Finally, update your initial position by adding the adjusted movement to it.\n",
    "\n",
    "**Example user input**: you pass this in a function call.\n",
    "```python\n",
    "initial_position: int = 10\n",
    "movement_units:int = 4\n",
    "total_steps:int = 25\n",
    "\n",
    "```\n",
    "\n",
    "**Example output**:\n",
    "```python\n",
    "\"Your final position after the calculation is 11.2.\"\n",
    "```"
   ]
  },
  {
   "cell_type": "code",
   "execution_count": null,
   "id": "48c37a48-abb5-4395-ad95-dffb1a252f19",
   "metadata": {},
   "outputs": [],
   "source": [
    "# TODO."
   ]
  },
  {
   "cell_type": "markdown",
   "id": "5c893dac-5efb-4da5-85e3-a1de64166a7e",
   "metadata": {},
   "source": [
    "<span style=\"color:darkorange;\"><strong>Level 3</strong>:</span> As you navigate the vibrant intergalactic market on Planet Numerica, you encounter a dazzling array of space rocks, each with a unique name and price tag. To fully understand the market dynamics, you need to analyze these rocks and uncover three key pieces of information:\n",
    "\n",
    "- Most Expensive Rock: Identify the rock with the highest price.\n",
    "- Least Expensive Rock: Find the rock with the lowest price.\n",
    "- Average Price: Calculate the average price of all the space rocks.\n",
    "  \n",
    "To complete this task, create a function called <code> market_analysis() </code> that takes two lists as inputs:\n",
    "\n",
    "1) prices: A list of numerical values representing the prices of the space rocks.\n",
    "2) space_rocks: A list of names for each space rock, corresponding to the prices list.\n",
    "\n",
    "Your function should return a summary including the most expensive rock, the least expensive rock, and the average price.\n",
    "\n",
    "**Note**: The rocks and prices go in pairs, meaning that the first price in the prices list belongs to the first rock in the space rocks list and so on.\n",
    "\n",
    "**Example user input**: you pass this in a function call.\n",
    "```python\n",
    "prices: List[int] = [450, 120, 600, 200, 95]\n",
    "space_rocks: List[str] = [\"Nebula Shard\", \"Quantum Crystal\", \"Dark Matter Orb\", \"Stellar Gem\", \"Cosmic Dust\"]\n",
    "\n",
    "```\n",
    "\n",
    "**Example output**:\n",
    "```python\n",
    "\"Based on my findings, the most expensive space rock is called Dark Matter Orb and is worth 600. The least expensive's name is Cosmic Dust with a price of 95. While, in average, a space rock in this market costs 293.\"\n",
    "```"
   ]
  },
  {
   "cell_type": "code",
   "execution_count": null,
   "id": "f779dcdd-0534-4540-8c8f-c91a4742baa3",
   "metadata": {},
   "outputs": [],
   "source": [
    "# TODO."
   ]
  },
  {
   "cell_type": "markdown",
   "id": "638dfa20-f296-4477-ae67-9d24d2db8dd6",
   "metadata": {},
   "source": [
    "*Material for the VU Amsterdam course “Introduction to Python Programming” for BSc Artificial Intelligence students. These notebooks are created using the following sources:*\n",
    "1. [Learning Python by Doing][learning python]: This book, developed by teachers of TU/e Eindhoven and VU Amsterdam, is the main source for the course materials. Code snippets or text explanations from the book may be used in the notebooks, sometimes with slight adjustments.\n",
    "2. [Think Python][think python]\n",
    "3. [GeekForGeeks][geekforgeeks]\n",
    "\n",
    "[learning python]: https://programming-pybook.github.io/introProgramming/intro.html\n",
    "[think python]: https://greenteapress.com/thinkpython2/html/\n",
    "[geekforgeeks]: https://www.geeksforgeeks.org"
   ]
  }
 ],
 "metadata": {
  "kernelspec": {
   "display_name": "Python 3 (ipykernel)",
   "language": "python",
   "name": "python3"
  },
  "language_info": {
   "codemirror_mode": {
    "name": "ipython",
    "version": 3
   },
   "file_extension": ".py",
   "mimetype": "text/x-python",
   "name": "python",
   "nbconvert_exporter": "python",
   "pygments_lexer": "ipython3",
   "version": "3.11.4"
  }
 },
 "nbformat": 4,
 "nbformat_minor": 5
}

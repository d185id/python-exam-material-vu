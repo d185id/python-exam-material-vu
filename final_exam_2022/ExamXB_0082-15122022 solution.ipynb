{
 "cells": [
  {
   "cell_type": "markdown",
   "metadata": {},
   "source": [
    "# Exam for XB_0082 (Introduction to Python Programming)\n",
    "\n",
    "## 15th December 2022\n",
    "\n",
    "This part of the exam consists of 4 tasks. The maximum number of points you can score by answering\n",
    "the questions correctly is 70 points.\n",
    "\n",
    "Please use the cells below the question to enter your answers. See the instruction sheet for information on how to submit this Jupyter notebook when you are finished."
   ]
  },
  {
   "cell_type": "markdown",
   "metadata": {},
   "source": [
    "#### For grading:\n",
    "\n",
    "| Exercise | a | b | c | d | \n",
    "|----------|---|---|---|---|\n",
    "| Score    |   |   |   |   | "
   ]
  },
  {
   "cell_type": "markdown",
   "metadata": {},
   "source": [
    "Enter your full name and VUnet ID identification number: \n",
    "\n",
    "**Full Name**: \n",
    "\n",
    "**VUnet ID Number**: "
   ]
  },
  {
   "attachments": {},
   "cell_type": "markdown",
   "metadata": {},
   "source": [
    "## 4. (60 points)\n",
    "\n",
    "A company has hired you to implement a system for managing record companies. In this context, you have to model a record company that produces music records in different formats.\n",
    "\n",
    "### a.\n",
    "A `Record` has the following characteristics: an `id` (``int``), the `name` (``str``) of the record, the name of the `artist` (``str``), a number of `tracks` (``int``), and the `signal_type` (``str``).\n",
    "\n",
    "Create the class `Record` (in the code cell below) that includes:\n",
    "* Class attributes that represent the type of the record. There are two types of record signals: `ANALOG` and `DIGITAL`. The former should be set to 0 and the latter to 1. These constants should be used to set the `signal_type` parameter when creating a new `Record` object.\n",
    "\n",
    "* A parameterized constructor method (`__init__`) that receives as parameters the `name` of the record (``str``), the `artist` name (``str``), the number of `tracks` (``int``), and the `signal_type` (``int``). The `id` of each record is set to a random integer number (between 0 and 200) within the constructor."
   ]
  },
  {
   "cell_type": "markdown",
   "metadata": {},
   "source": [
    "<div class=\"alert alert-block alert-warning\">\n",
    "    <span>Make sure you add type hints and docstring to all the methods.</span>\n",
    "</div>"
   ]
  },
  {
   "cell_type": "code",
   "execution_count": 3,
   "metadata": {},
   "outputs": [],
   "source": [
    "\n",
    "import random\n",
    "\n",
    "class Record:\n",
    "      \"\"\"This class represents a record\"\"\"\n",
    "\n",
    "      ANALOG = 0\n",
    "      DIGITAL =  1\n",
    "\n",
    "      def __init__(self, record_name_p: str, artist_name_p: str, tracksP: int, signal_p: int) -> None:\n",
    "            \"\"\" This method initializes record objets\n",
    "                  :param record_name_p name of the record\n",
    "                  :param artists_name_p name of the artist\n",
    "                  :param tracksP numbers of tracks of the record\n",
    "                  :param signal_p the signal type of the record\n",
    "            \"\"\"\n",
    "            self.name = record_name_p\n",
    "            self.artist = artist_name_p\n",
    "            self.tracks = tracksP\n",
    "            self.signal_type = signal_p\n",
    "            self.id = random.randint(0,200)"
   ]
  },
  {
   "cell_type": "markdown",
   "metadata": {},
   "source": [
    "### b.\n",
    "A record company often produces records in two types of formats `Vinyl` and `CD`. Therefore, you have to create the classes `Vinyl` and `CD`; both classes should inherit from the class `Record`. `Vinyl`s and `CD`s have an `ANALOG` and a `DIGITAL` signal type, respectively.\n",
    "\n",
    "Create the class `Vinyl` (in the code cell below), which inherits from the class `Record`. Consider the following requirements:\n",
    "* Create three class attributes that represent the diameters of vinyls. There are three supported sizes: `12 inches`, `10 inches`, and `7 inches`.\n",
    "* The constructor of the class `Vinyl` receives as parameters the `name` (`str`) of the vinyl, the name of the `artist` (`str`), the number of `tracks` (`int`), and the `diameter` (`int`) of the vinyl. \n",
    "\n",
    "It is important to notice that `diameter` is a new attribute.\n",
    "\n",
    "* Override the `__str__` method of the class `Vinyl` to display the following message: \n",
    "\n",
    ">`Vinyl(id: 27, artist: Doe Maar, name: Skunk, 12 inches, 10 songs)`"
   ]
  },
  {
   "cell_type": "code",
   "execution_count": 4,
   "metadata": {},
   "outputs": [],
   "source": [
    "# Write here your Python code.\n",
    "class Vinyl(Record):\n",
    "      \"\"\" This class represents a vinyl record\n",
    "      \"\"\"\n",
    "      TWELVE_INCHES = 12\n",
    "      TEN_INCHES = 10\n",
    "      SEVEN_INCHES = 7\n",
    "\n",
    "      def __init__(self, record_name_p: str, artist_name_p: str, tracksP: int, diameter_p: int) -> None:\n",
    "            \"\"\" This method represents the constructor of the Vinyl record\n",
    "                  :param record_name_p name of the record\n",
    "                  :param artists_name_p name of the artist\n",
    "                  :param tracksP numbers of tracks of the vinyl\n",
    "                  :param diameter_p the diameter of the vinyl\n",
    "            \"\"\"\n",
    "            self.diameter = diameter_p\n",
    "            super().__init__(record_name_p, artist_name_p, tracksP, self.ANALOG)\n",
    "\n",
    "      def __str__(self) -> str:\n",
    "            \"\"\" This method prints a string representation of the vinyl\n",
    "            \"\"\"\n",
    "            return f\"- Vinyl (id: {self.id}, artist: {self.artist}, name: {self.name}, {self.diameter} inches, {self.tracks} songs)\""
   ]
  },
  {
   "cell_type": "markdown",
   "metadata": {},
   "source": [
    "\n",
    "\n",
    "Create the class `CD` (in the code cell below) which inherits from class `Record`. Consider the following requirements:\n",
    "* Create class attributes to represent the CD formats. There are mainly three formats: `Red Book Standard`, `Copy Control`, and `Dual Disc`.\n",
    "* The constructor of the `CD` class receives as parameters the `name` (`str`) of the CD, the `artist` (`str`) name, the number of `tracks` (`int`), and the `cd_format` (`int`). It is important to notice that `cd_format` is a new attribute. You **must** use the class attributes to set \n",
    "* Override the `__str__` method of the class `CD` to display the following message: \n",
    "\n",
    ">`CD(id: 27, artist: B.B. King, name: Guess Who, format: Dual Disc, 10 songs)`"
   ]
  },
  {
   "cell_type": "markdown",
   "metadata": {},
   "source": [
    "<div class=\"alert alert-block alert-warning\">\n",
    "    <span>Make sure you add type hints and add a docstring explaining all the methods.</span>\n",
    "</div>"
   ]
  },
  {
   "cell_type": "code",
   "execution_count": 5,
   "metadata": {},
   "outputs": [],
   "source": [
    "# Write here your Python code.\n",
    "class CD(Record):\n",
    "      \"\"\"\n",
    "      This class represents a CD     \n",
    "      \"\"\"\n",
    "\n",
    "      RED_BOOK_STANDARD = 0\n",
    "      COPY_CONTROL = 1\n",
    "      DUAL_DISC = 2\n",
    "\n",
    "      def __init__(self, record_name_p: str, artist_name_p: str, tracksP: int, cd_format_p: int) -> None:\n",
    "            \"\"\" This method represents the constructor of the Vinyl record\n",
    "                  :param record_name_p name of the record\n",
    "                  :param artists_name_p name of the artist\n",
    "                  :param tracksP numbers of tracks of the cd\n",
    "                  :param cd_format_p the format of the cd\n",
    "            \"\"\"\n",
    "            self.cd_format = (\"RED BOOK STANDARD\",\"COPY CONTROL\",\"DUAL DISC\")[cd_format_p]\n",
    "\n",
    "            super().__init__(record_name_p, artist_name_p, tracksP, Record.DIGITAL)\n",
    "\n",
    "      def __str__(self) -> str:\n",
    "            \"\"\" This method prints a string representation of the CD\n",
    "            \"\"\"\n",
    "            return f\"- CD (id: {self.id}, artist: {self.artist}, name: {self.name}, format: {self.cd_format} , {self.tracks} songs)\"\n"
   ]
  },
  {
   "cell_type": "markdown",
   "metadata": {},
   "source": [
    "### c.\n",
    "A record company is characterized by its `name` and the number of released `records`.\n",
    "\n",
    "Create a class `RecordCompany` that includes:\n",
    "\n",
    "* A parameterized constructor method (`__init__`) that receives as parameter the `name` (`str`) of the record company. Additionally, a record company has different media to release `records` (`list` of records), which should be initialized as an empty list.\n",
    "* The method `add_record` which adds a given record to the list of released records of the company.\n",
    "* Override the method `__str__` to print a string representation of the record label that looks like this: \n",
    "\n",
    "\n",
    ">```El Dorado Records has the following 4 releases:   \n",
    "CD(id: 27, artist: B.B. King, name: Guess Who, format: Dual Disc, 10 songs)   \n",
    "Vinyl(id: 27, artist: Doe Maar, name: Skunk 12 inches, 10 songs)   \n",
    "Vinyl(id: 27, artist: Rolling Stones, name: Exile on Main St., 10 inches, 18 songs)   \n",
    "CD(id: 27, artist: The Beach Boys, name: Pet Sounds, format: Red Book Standard, 14 songs)```"
   ]
  },
  {
   "cell_type": "markdown",
   "metadata": {},
   "source": [
    "<div class=\"alert alert-block alert-warning\">\n",
    "    <span>Make sure you add type hints and add a docstring explaining all the methods.</span>\n",
    "</div>"
   ]
  },
  {
   "cell_type": "code",
   "execution_count": 6,
   "metadata": {},
   "outputs": [],
   "source": [
    "# Write here your Python code.\n",
    "\n",
    "from typing import List\n",
    "\n",
    "class RecordCompany:\n",
    "      \"\"\"This class represents a record company\"\"\"      \n",
    "\n",
    "      def __init__(self, name: str) -> None:\n",
    "            \"\"\"This method creates a Record company\n",
    "                  :param name name of the record company\n",
    "            \"\"\"\n",
    "            self.name: str = name\n",
    "            self.records: List[Record] = []\n",
    "\n",
    "      def add_record(self, record_p: Record) -> None:\n",
    "            \"\"\"\n",
    "            This method adds a new record to the list of records\n",
    "            :param  record_p record to be added to the list of records\n",
    "            \"\"\"\n",
    "            self.records.append(record_p)\n",
    "\n",
    "      def __str__(self) -> str:\n",
    "            \"\"\" This method prints a string representation of the records released by the RecordCompany\n",
    "            :return the string representation of all the records\n",
    "            \"\"\"\n",
    "            result: str = f\"{self.name} -> {len(self.records)} records\\n\"\n",
    "\n",
    "            for record in self.records:\n",
    "                  result += f\"{record.__str__()} \\n\"\n",
    "\n",
    "            return result\n",
    "\n"
   ]
  },
  {
   "cell_type": "markdown",
   "metadata": {},
   "source": [
    "### d.\n",
    "In the code cell below create instances of the following two record companies:\n",
    "\n",
    "| Record company name |\n",
    "| --- |\n",
    "| El Dorado Records |\n",
    "| Llorona Records  | \n",
    "\n",
    "* Write a code fragment that creates the two record companies (`el_dorado_records` and `llorona_records`).\n",
    "* Write a function `read_data()` that takes as input a `path` (`str`) to a CSV file (`records_data.csv`) and two record company objects (`RecordCompany`). This function reads the information from the CSV file (the structure of the contents is described below), creates the records, and adds each record to the respective record company (using the method `add_record`).\n",
    "* Write a code fragment that calls the `read_data()` function to add the records to the companies.\n",
    "* Print both record companies.\n",
    "\n",
    "#### Dataset\n",
    "\n",
    "| Column | Description |\n",
    "|:-------|:------------|\n",
    "| company | Name of the record company |\n",
    "| record_type | Type of the record |\n",
    "| artist | Name of the artist |\n",
    "| name | Name of the record |\n",
    "| size | Size of the vinyl |\n",
    "| tracks | Number of tracks |\n",
    "| format | Format of the CD |"
   ]
  },
  {
   "cell_type": "markdown",
   "metadata": {},
   "source": [
    "<div class=\"alert alert-block alert-warning\">\n",
    "    <span>Make sure you add type hints and add a docstring explaining all the methods.</span>\n",
    "</div>"
   ]
  },
  {
   "cell_type": "code",
   "execution_count": 7,
   "metadata": {},
   "outputs": [],
   "source": [
    "# Write here your Python code.\n",
    "el_dorado_records = RecordCompany(\"El Dorado Records\")\n",
    "llorona_records = RecordCompany(\"Llorona Records\")"
   ]
  },
  {
   "cell_type": "code",
   "execution_count": 8,
   "metadata": {},
   "outputs": [
    {
     "name": "stdout",
     "output_type": "stream",
     "text": [
      "El Dorado Records -> 11 records\n",
      "- CD (id: 93, artist: Bob Dylan, name: Highway 61 Revisited, format: COPY CONTROL , 13 songs) \n",
      "- CD (id: 149, artist: The Beatles, name: Rubber Soul, format: DUAL DISC , 15 songs) \n",
      "- CD (id: 76, artist: The Rolling Stones, name: Exile on Main St., format: DUAL DISC , 3 songs) \n",
      "- CD (id: 112, artist: The Clash, name: London Calling, format: COPY CONTROL , 4 songs) \n",
      "- CD (id: 65, artist: The Beatles, name: Abbey Road, format: RED BOOK STANDARD , 13 songs) \n",
      "- CD (id: 46, artist: The Jimi Hendrix Experience, name: Are You Experienced, format: RED BOOK STANDARD , 18 songs) \n",
      "- CD (id: 50, artist: Ramones, name: Ramones, format: RED BOOK STANDARD , 9 songs) \n",
      "- CD (id: 3, artist: The Band, name: Music From Big Pink, format: DUAL DISC , 18 songs) \n",
      "- CD (id: 25, artist: Eagles, name: Hotel California, format: RED BOOK STANDARD , 1 songs) \n",
      "- CD (id: 48, artist: Muddy Waters, name: The Anthology, format: RED BOOK STANDARD , 5 songs) \n",
      "- CD (id: 199, artist: The Beatles, name: Please Please Me, format: RED BOOK STANDARD , 13 songs) \n",
      "\n",
      "Llorona Records -> 28 records\n",
      "- Vinyl (id: 160, artist: The Beatles, name: Sgt. Pepper's Lonely Hearts Club Band, 10 inches, 7 songs) \n",
      "- Vinyl (id: 125, artist: The Beach Boys, name: Pet Sounds, 10 inches, 3 songs) \n",
      "- CD (id: 126, artist: The Beatles, name: Revolver, format: DUAL DISC , 5 songs) \n",
      "- CD (id: 72, artist: Marvin Gaye, name: What's Going On, format: RED BOOK STANDARD , 18 songs) \n",
      "- CD (id: 75, artist: Bob Dylan, name: Blonde on Blonde, format: COPY CONTROL , 6 songs) \n",
      "- Vinyl (id: 50, artist: The Beatles, name: The Beatles (\"The White Album\"), 7 inches, 4 songs) \n",
      "- Vinyl (id: 146, artist: Elvis Presley, name: The Sun Sessions, 7 inches, 17 songs) \n",
      "- Vinyl (id: 177, artist: Miles Davis, name: Kind of Blue, 7 inches, 2 songs) \n",
      "- Vinyl (id: 69, artist: The Velvet Underground, name: The Velvet Underground & Nico, 7 inches, 1 songs) \n",
      "- Vinyl (id: 104, artist: Bob Dylan, name: Blood on the Tracks, 12 inches, 11 songs) \n",
      "- Vinyl (id: 56, artist: Nirvana, name: Nevermind, 12 inches, 6 songs) \n",
      "- Vinyl (id: 30, artist: Bruce Springsteen, name: Born to Run, 12 inches, 6 songs) \n",
      "- Vinyl (id: 147, artist: Van Morrison, name: Astral Weeks, 12 inches, 12 songs) \n",
      "- Vinyl (id: 84, artist: Michael Jackson, name: Thriller, 12 inches, 14 songs) \n",
      "- Vinyl (id: 139, artist: Chuck Berry, name: The Great Twenty_Eight, 12 inches, 16 songs) \n",
      "- Vinyl (id: 145, artist: Robert Johnson, name: The Complete Recordings, 12 inches, 11 songs) \n",
      "- Vinyl (id: 79, artist: John Lennon / Plastic Ono Band, name: John Lennon/Plastic Ono Band, 12 inches, 13 songs) \n",
      "- Vinyl (id: 64, artist: Stevie Wonder, name: Innervisions, 12 inches, 12 songs) \n",
      "- Vinyl (id: 106, artist: James Brown, name: Live at the Apollo/ 1962, 12 inches, 14 songs) \n",
      "- Vinyl (id: 4, artist: Fleetwood Mac, name: Rumours, 12 inches, 14 songs) \n",
      "- Vinyl (id: 158, artist: U2, name: The Joshua Tree, 12 inches, 16 songs) \n",
      "- Vinyl (id: 73, artist: The Who, name: Who's Next, 12 inches, 5 songs) \n",
      "- CD (id: 103, artist: Led Zeppelin, name: Led Zeppelin, format: DUAL DISC , 8 songs) \n",
      "- CD (id: 186, artist: Joni Mitchell, name: Blue, format: RED BOOK STANDARD , 8 songs) \n",
      "- CD (id: 27, artist: Bob Dylan, name: Bringing It All Back Home, format: RED BOOK STANDARD , 17 songs) \n",
      "- CD (id: 89, artist: The Rolling Stones, name: Let It Bleed, format: RED BOOK STANDARD , 14 songs) \n",
      "- CD (id: 125, artist: David Bowie, name: The Rise and Fall of Ziggy Stardust and the Spiders From Mars, format: RED BOOK STANDARD , 6 songs) \n",
      "- CD (id: 77, artist: Carole King, name: Tapestry, format: RED BOOK STANDARD , 9 songs) \n",
      "\n"
     ]
    }
   ],
   "source": [
    "import csv\n",
    "\n",
    "cd_formats = {\"Red Book Standard\": CD.RED_BOOK_STANDARD, \"Dual Disc\": CD.DUAL_DISC, \"Copy Control\": CD.COPY_CONTROL}\n",
    "\n",
    "def read_data(path:str, record_company1: RecordCompany, record_company2: RecordCompany) -> None:\n",
    "      \"\"\"\n",
    "      This method reads the data from a file and creates the record objects\n",
    "      :param path path to the data file\n",
    "      :param record_company1 represents one record company\n",
    "      :param record_company2 represents one record company\n",
    "      \"\"\"\n",
    "\n",
    "      with open(path) as input_data:\n",
    "            file = csv.reader(input_data, delimiter=\";\")\n",
    "            next (file,None)\n",
    "\n",
    "            for line in file:\n",
    "                  type_r = line[1]\n",
    "                  \n",
    "                  if type_r == \"CD\":\n",
    "                        # artist;name;size;tracks;format\n",
    "                        record = CD(line[3], line[2], line[5], cd_formats [line[6]])\n",
    "                  else:\n",
    "                        # Use constants for the size\n",
    "                        record = Vinyl(line[3], line[2], line[5], int(line[4]))\n",
    "\n",
    "\n",
    "                  if line[0] == record_company1.name:\n",
    "                        record_company1.add_record(record)\n",
    "                  elif line[0] == record_company2.name:\n",
    "                        record_company2.add_record(record)\n",
    "\n",
    "read_data(\"datasets/records_data.csv\", el_dorado_records, llorona_records)\n",
    "\n",
    "print(el_dorado_records)\n",
    "print(llorona_records)"
   ]
  },
  {
   "cell_type": "markdown",
   "metadata": {},
   "source": [
    "---\n",
    "\n",
    "# (End of Notebook)\n",
    "\n",
    "&copy; 2022 - **VU Amsterdam**"
   ]
  }
 ],
 "metadata": {
  "anaconda-cloud": {},
  "kernelspec": {
   "display_name": "vuEnv",
   "language": "python",
   "name": "python3"
  },
  "language_info": {
   "codemirror_mode": {
    "name": "ipython",
    "version": 3
   },
   "file_extension": ".py",
   "mimetype": "text/x-python",
   "name": "python",
   "nbconvert_exporter": "python",
   "pygments_lexer": "ipython3",
   "version": "3.9.5"
  },
  "nteract": {
   "version": "0.27.0"
  },
  "vscode": {
   "interpreter": {
    "hash": "d148402d90db86385fb4c6090bff3e45c1f6ac5981117a7345044c5d76ebceee"
   }
  }
 },
 "nbformat": 4,
 "nbformat_minor": 1
}

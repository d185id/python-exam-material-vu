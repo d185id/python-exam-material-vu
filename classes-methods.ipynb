{
 "cells": [
  {
   "cell_type": "markdown",
   "id": "e67b1bf3-4311-44dc-8770-9c64ec9c5907",
   "metadata": {},
   "source": [
    "# Classes and Methods"
   ]
  },
  {
   "cell_type": "markdown",
   "id": "f60e9b85-4a75-4aa3-ad5a-2d4ef62d7d68",
   "metadata": {},
   "source": [
    "**In this notebook, we cover the following subjects:**\n",
    "- Classes Recap\n",
    "- Class Methods\n",
    "___________________________________________________________________________________________________________________________"
   ]
  },
  {
   "cell_type": "code",
   "execution_count": 1,
   "id": "73836810-4237-4d12-a9fd-375eeaf46208",
   "metadata": {
    "tags": []
   },
   "outputs": [],
   "source": [
    "# To enable type hints for lists, dicts, tuples, and sets we need to import the following:\n",
    "from typing import List, Dict, Tuple, Set"
   ]
  },
  {
   "cell_type": "markdown",
   "id": "be9069eb-c0a0-439d-aa05-7d6172f8ec11",
   "metadata": {},
   "source": [
    "If you've been following along, we’ve already dipped our toes into the world of Python `classes`. So far, we’ve covered what a `class` is, how to set up our trusty `__init__()` method, customized our object representations with `__str__()`, and explored how to create `objects` and access their `attributes`.This notebook will begin with a brief recap about these basics, then we will learn a key concept in **OOP** called `methods`"
   ]
  },
  {
   "cell_type": "markdown",
   "id": "c8a80dd6-2dfa-4ca2-9ddb-a61134447621",
   "metadata": {
    "tags": []
   },
   "source": [
    "## <span style=\"color:#4169E1\">Classes Recap</span>\n",
    "\n",
    "As we have already discussed, `classes` are a core concept in programming, often viewed as **blueprints** or **templates** for `creating objects`. This is important because, in Python, everything is an object—whether it’s an integer, a float, a list, or a string. Classes help you organize your code by bundling related data (**attributes**) with the functions (**methods**) that work with that data, making everything more logical and easier to manage."
   ]
  },
  {
   "cell_type": "markdown",
   "id": "6bf85c31-a2f8-43f5-85c9-1d155e79f46e",
   "metadata": {},
   "source": [
    "So, we’ve actually been working with classes all along, probably without you even realizing it. Take the `str` type, for example—it’s actually a class that handles strings of characters. Remember all those [methods][methods] you’ve used to manipulate string objects?\n",
    "\n",
    "[methods]:https://docs.python.org/3/library/stdtypes.html#string-methods"
   ]
  },
  {
   "cell_type": "code",
   "execution_count": 48,
   "id": "12b1715c-c75d-47dd-b50b-e216caf8453a",
   "metadata": {
    "tags": []
   },
   "outputs": [
    {
     "name": "stdout",
     "output_type": "stream",
     "text": [
      "Split string into words: ['Introduction', 'to', 'Python', 'Programming']\n",
      "\n",
      "You can also use the methods directly on string objects (i.e., not stored in variables).\n",
      "Split example: ['Python', 'Programming']\n"
     ]
    }
   ],
   "source": [
    "# Creating an instance of the str class\n",
    "my_string: str = \"Introduction to Python Programming\"  # 'my_string' is an instance of the str class\n",
    "\n",
    "# Using the split method to break the string into a list of words\n",
    "output: str = my_string.split(\" \")\n",
    "\n",
    "# Printing the result of the split method\n",
    "print(f\"Split string into words: {output}\\n\")\n",
    "\n",
    "# Demonstrating that methods can be used directly on string objects\n",
    "print(\"You can also use the methods directly on string objects (i.e., not stored in variables).\")\n",
    "print(f'Split example: {\"Python Programming\".split(\" \")}')"
   ]
  },
  {
   "cell_type": "markdown",
   "id": "761c371b-e2a7-433b-97b9-6f76abf9d616",
   "metadata": {},
   "source": [
    "The `str` class is built into Python, so it’s ready to use without any setup. You’ve already used its methods to work with strings, and you didn’t have to think about what’s happening behind the scenes. "
   ]
  },
  {
   "cell_type": "markdown",
   "id": "c9bc5dc3-afb9-4df0-882d-62447369cb93",
   "metadata": {},
   "source": [
    "```{admonition} Can you think of any other classes that we have worked with?\n",
    ":class: tip, dropdown\n",
    "Exactly, <code>Lists</code>, <code>Dictionaries</code>, <code>Integers</code> and so on are all classes.\n",
    "```"
   ]
  },
  {
   "cell_type": "markdown",
   "id": "d10e5f57-47a8-40dd-a305-7de0e63f8eef",
   "metadata": {},
   "source": [
    "### <span style=\"color:#B22222\">Defining a Class</span>\n",
    "\n",
    "We learnt to create a class with the `class` keyword, and we know that everything inside it becomes part of that class."
   ]
  },
  {
   "cell_type": "code",
   "execution_count": 50,
   "id": "b3059232-1464-441e-a1ac-4d19a5efb52d",
   "metadata": {},
   "outputs": [],
   "source": [
    "class Book:\n",
    "    def __init__(self, title: str, author: str) -> None:\n",
    "        \"\"\"\n",
    "        Sets up a new Book instance.\n",
    "\n",
    "        :param title: The book's title.\n",
    "        :param author: The book's author.\n",
    "        \"\"\"\n",
    "        # The __init__ method is the constructor that initializes the object\n",
    "        self.title: str = title # This is an attribute of the class\n",
    "        self.author: str = author # This is another attribute of the class\n",
    "\n",
    "\n",
    "# Creating an instance (object) of Book\n",
    "my_book = Book(\"Little Women\", \"Louisa May Alcott\")"
   ]
  },
  {
   "cell_type": "markdown",
   "id": "03628d8c-d837-4128-b417-52a940423bf8",
   "metadata": {},
   "source": [
    "```{note}\n",
    "A bit unintuitive, as we use <b>snake_case</b> in this course, but the name of a class should be written in <b>CamelCase</b>.\n",
    "```"
   ]
  },
  {
   "cell_type": "markdown",
   "id": "bd8162dc-2208-4bba-ab82-a6bd284fbeab",
   "metadata": {
    "tags": []
   },
   "source": [
    "### <span style=\"color:#B22222\">Attributes</span>\n",
    "\n",
    "\n",
    "We have seen that **attributes** are the characteristics or properties of an object. In a class, we define attributes to store data unique to each object created from that class. For example, the following class `Book` has two attributes, namely `title` and `author`. This means that every object we create from this class, representing a book, will have a title and an author.\n",
    "\n",
    "``` python\n",
    "# ... (class definition)\n",
    "    # ... (__init__ definition)\n",
    "        self.title: str = title  # This is an attribute of the class\n",
    "        self.author: str = author  # This is another attribute of the class\n",
    "```"
   ]
  },
  {
   "cell_type": "markdown",
   "id": "f3846a60-29fa-4c96-829a-9517a91e0be8",
   "metadata": {},
   "source": [
    "### <span style=\"color:#B22222\">The <code>__init__</code> Method</span>\n",
    "\n",
    "\n",
    "These attributes are set up in a special method called `__init__`. This method, known as a **constructor**, is essential in Python classes because it initializes everything when you create a new object. As soon as you make an instance of a class, `__init__` runs automatically to set up the attributes and other initial details for that object.\n",
    "\n",
    "```python\n",
    "# ... (class definition)\n",
    "    def __init__(self, title, author):\n",
    "        # The __init__ method is the constructor that initializes the object\n",
    "        self.title: str = title # This is an attribute of the class\n",
    "        self.author: str = author # This is another attribute of the class\n",
    "```"
   ]
  },
  {
   "cell_type": "markdown",
   "id": "a065f1f5-8bbc-4f26-b356-d4bc06aad34d",
   "metadata": {},
   "source": [
    "```{admonition} What is still missing from the class definition?\n",
    ":class: tip, dropdown\n",
    "The class definition is missing type hints for the attributes (<code>title</code>, <code>author</code>) and docstrings.\n",
    "```"
   ]
  },
  {
   "cell_type": "markdown",
   "id": "85f5a1e6-f59e-4b7d-93bd-2d4702177a14",
   "metadata": {},
   "source": [
    "### <span style=\"color:#B22222\">The <code>self</code> keyword</span>"
   ]
  },
  {
   "cell_type": "markdown",
   "id": "96274271-22ea-468c-98ff-22208b47df29",
   "metadata": {},
   "source": [
    "We've covered almost all the components of a class, but we’ve somewhat awkwardly avoided discussing `self`, which appears everywhere: in attribute definitions and as the first parameter of each method. \n",
    "\n",
    "The `self` keyword is crucial in classes because it allows an instance of a class to refer to itself. When we create an object from a class, `self` enables that object to access its own attributes and methods. For example, when you use `self.title = title`, you’re specifying, “For this particular instance (`self`), the `title` attribute should be set to the value provided during object creation.”"
   ]
  },
  {
   "cell_type": "markdown",
   "id": "9273105c-7939-4688-aba3-0dcb2564b9d6",
   "metadata": {},
   "source": [
    "### <span style=\"color:#B22222\">Class Instance</span>\n",
    "\n",
    "You should know this by hearth by now, but creating a new object is known as **instantiation**, and the object itself is called an **instance** of the class. Essentially, we use the blueprint provided by the class to create the object, and you can use this blueprint to create as many instances as you need.\n",
    "\n",
    "```python\n",
    "# ... (class definition)\n",
    "\n",
    "# Creating an instance (object) of Book\n",
    "my_book = Book(\"Little Women\", \"Louisa May Alcott\")\n",
    "```\n",
    "\n",
    "This code snippet, `Book(\"Little Women\", \"Louisa May Alcott\")`, calls the `Book` class constructor (the `__init__` method) with two arguments: `\"Little Women\"` and `\"Louisa May Alcott\"`. A new object is created using these arguments and assigned to the variable `my_book`."
   ]
  },
  {
   "cell_type": "markdown",
   "id": "591407c1-9a96-4b94-851a-0fbe93272c40",
   "metadata": {},
   "source": [
    "```{note}\n",
    "Since every object is an instance of some class, “object” and “instance” are interchangeable terms.\n",
    "```"
   ]
  },
  {
   "cell_type": "markdown",
   "id": "763b6c29-d402-498b-a58f-c25369ecc52a",
   "metadata": {},
   "source": [
    "### <span style=\"color:#B22222\">Accessing an Attribute</span>"
   ]
  },
  {
   "cell_type": "markdown",
   "id": "d71ad900-6cc7-4fa2-b605-5fe6673dafcc",
   "metadata": {},
   "source": [
    "Lastly, let's recap how we can access an attribute of an object. As we have seen, objects have stored attributes that are unique to each instance. To access these attributes, we use the following syntax (dot notation `.`):\n",
    "\n",
    "```python\n",
    "instance.attribute\n",
    "```\n",
    "\n",
    "In practise, this looks as follows:"
   ]
  },
  {
   "cell_type": "code",
   "execution_count": 52,
   "id": "6ddc7219-a05f-47c0-8f9e-15c4a54ddbc9",
   "metadata": {
    "tags": []
   },
   "outputs": [
    {
     "name": "stdout",
     "output_type": "stream",
     "text": [
      "Book title: Little Women\n",
      "Book author: €Louisa May Alcott\n"
     ]
    }
   ],
   "source": [
    "# Accessing attributes\n",
    "print(f'Book title: {my_book.title}')\n",
    "print(f'Book author: €{my_book.author}')"
   ]
  },
  {
   "cell_type": "markdown",
   "id": "d3b52a20-6fd5-4c4e-9151-d01fd3ee5e2b",
   "metadata": {},
   "source": [
    "There is one last thing that we need to touch upon before we can start talking about `class methods` and that thing is called **default values**."
   ]
  },
  {
   "cell_type": "markdown",
   "id": "a22d97b8-3a7a-4efb-856b-8e6ef9abf5ce",
   "metadata": {},
   "source": [
    "### <span style=\"color:#B22222\">Default Values</span>"
   ]
  },
  {
   "cell_type": "markdown",
   "id": "809b38f8-6d69-4caf-9d25-bb42ba0baef8",
   "metadata": {},
   "source": [
    "[`Default values`][default] are like the secret ingredient that can make your functions and classes much more user-friendly and flexible. Imagine having functions or methods that can handle different situations **without** requiring you to provide a value for every single parameter—sounds convenient, right?\n",
    "\n",
    "With [`default values`][default], you can specify a **\"fallback\"** that Python will use if **no argument** is provided for a parameter. It’s a great way to keep your code simple and reduce the chance of errors!\n",
    "\n",
    "Let’s explore how you can use default values, not just in regular functions but also in classes.\n",
    "\n",
    "[default]: https://www.geeksforgeeks.org/default-arguments-in-python/"
   ]
  },
  {
   "cell_type": "code",
   "execution_count": 6,
   "id": "c166b200-bb8e-45ac-95ea-159ff062b869",
   "metadata": {},
   "outputs": [
    {
     "name": "stdout",
     "output_type": "stream",
     "text": [
      "Hello, there!\n",
      "Hello, Alice!\n"
     ]
    }
   ],
   "source": [
    "def greet(name: str =\"there\") -> None:\n",
    "    print(f\"Hello, {name}!\")\n",
    "\n",
    "greet()\n",
    "greet(\"Alice\")"
   ]
  },
  {
   "cell_type": "markdown",
   "id": "cb855f5a-b372-4a36-bc76-d12fe0c8ca30",
   "metadata": {},
   "source": [
    "Here, the `name` parameter has a **default** value of `\"there\"`, so if we call `greet()` **without an argument**, it uses that `default`. But if we pass a name, it uses that instead without any problems."
   ]
  },
  {
   "cell_type": "markdown",
   "id": "07238503-d2cd-4265-835b-cf7c1466ea6b",
   "metadata": {},
   "source": [
    "Default values are super useful in `classes too`! One of the most common places to use them is in the `__init__()` method when initializing objects. Let’s take a look at an example:"
   ]
  },
  {
   "cell_type": "code",
   "execution_count": 16,
   "id": "638ea911-f4cc-4102-b64c-a9bab94f4729",
   "metadata": {},
   "outputs": [
    {
     "name": "stdout",
     "output_type": "stream",
     "text": [
      "My name is Buddy, I'm a Mixed Breed and I'm 1 years old!\n",
      "------------------------------------------------------------\n",
      "My name is Luna, I'm a Golden Retriever and I'm 3 years old!\n"
     ]
    }
   ],
   "source": [
    "class Dog:\n",
    "    def __init__(self, name: str, breed: str=\"Mixed Breed\", age: int =1) -> None:\n",
    "        self.name = name\n",
    "        self.breed = breed\n",
    "        self.age = age\n",
    "\n",
    "    def __str__(self) -> str:\n",
    "        return (f\"My name is {self.name}, I'm a {self.breed} and I'm {self.age} years old!\")\n",
    "\n",
    "# Creating instances with and without specifying all arguments\n",
    "dog1: Dog = Dog(\"Buddy\")\n",
    "dog2: Dog = Dog(\"Luna\", \"Golden Retriever\", 3)\n",
    "\n",
    "print(dog1)\n",
    "print('-'*60)\n",
    "print(dog2)"
   ]
  },
  {
   "cell_type": "markdown",
   "id": "7d43b725-16d5-42dc-bf8c-826354842d99",
   "metadata": {},
   "source": [
    "In this example:\n",
    "\n",
    "- If you don't specify a `breed`, it **defaults to** \"Mixed Breed\".\n",
    "- If you don’t specify an `age`, it **defaults to** 1.\n",
    "- \n",
    "By using default values in the `__init__()` method, we make it easier to create Dog objects without needing to provide every detail."
   ]
  },
  {
   "cell_type": "markdown",
   "id": "5d258fa0-cf63-43e9-b45f-da264f7a9e64",
   "metadata": {},
   "source": [
    "```{note}\n",
    "When using <code>default values</code>, remember: <b>parameters with default values must come after parameters without default values</b>. This is because Python needs to know which values are <b>required</b> and which are <b>optional.</b>\n",
    "```"
   ]
  },
  {
   "cell_type": "markdown",
   "id": "42dc79d6-8440-4498-b1f2-947780111d3f",
   "metadata": {},
   "source": [
    "For example, this works:\n",
    "```python\n",
    "def example(a: int, b: int=10) -> int:\n",
    "    return a + b\n",
    "```\n",
    "But this will cause an error:\n",
    "```python\n",
    "def example(a: int=10, b: int):\n",
    "    return a + b\n",
    "# ❌ SyntaxError: non-default argument follows default argument\n",
    "```"
   ]
  },
  {
   "cell_type": "markdown",
   "id": "55fbd0c3-deb2-4597-b14c-b46e14192c14",
   "metadata": {},
   "source": [
    "Now that we covered this as well, let's dive into `class methods`."
   ]
  },
  {
   "cell_type": "markdown",
   "id": "373e6ab8-bbb7-47cb-91e0-5fef11d0860a",
   "metadata": {
    "tags": []
   },
   "source": [
    "## <span style=\"color:#4169E1\">Class methods</span>\n",
    "\n",
    "You might be wondering, *\"Aren’t we already using methods inside our classes?\"* And you’re absolutely right! However, so far, the `methods` we've been using are tied to instances of a class. That means they work with individual objects we create, using their attributes and properties.\n",
    "\n",
    "But what if we want to do something that’s related to the class as a **whole** rather than any specific object? This is where `class methods` come in handy. Instead of focusing on a single instance, these methods can work at the **class level**, letting us access and modify the class itself.\n",
    "\n",
    "Before we dive deeper into [`class methods`][class], let's take a step back and think about how we’ve been using **functions** in Python. Functions are great because they allow us to encapsulate logic, reuse code, and make our programs more modular. But what happens when we use functions inside a class?\n",
    "\n",
    "[class]: https://www.geeksforgeeks.org/classmethod-in-python/"
   ]
  },
  {
   "cell_type": "markdown",
   "id": "bb3d30e7-98bc-4e95-97fc-35be51b15b27",
   "metadata": {},
   "source": [
    "### <span style=\"color:#B22222\">Functions vs. Methods</span>"
   ]
  },
  {
   "cell_type": "markdown",
   "id": "7f7727de-6230-49f2-a0e2-3546302e9120",
   "metadata": {},
   "source": [
    "When we define a **function inside a class**, it’s called a `method`. However, it’s still essentially a function — the difference is that it now **belongs to the class** and operates on the data (attributes) of the objects created from that class.\n",
    "\n",
    "Let’s see an example to refresh our understanding:"
   ]
  },
  {
   "cell_type": "code",
   "execution_count": 71,
   "id": "8ecc38ad-5da9-4c4b-a369-c4cad8dfbe88",
   "metadata": {},
   "outputs": [
    {
     "name": "stdout",
     "output_type": "stream",
     "text": [
      "The length of the hypotenuse is: 5.0\n"
     ]
    }
   ],
   "source": [
    "import math\n",
    "\n",
    "def calculate_hypotenuse(a: float, b: float) -> float:\n",
    "    \"\"\"\n",
    "    Calculate the length of the hypotenuse of a right triangle given the lengths \n",
    "    of the other two sides using the Pythagorean theorem.\n",
    "\n",
    "    Args:\n",
    "        a (float): The length of one side of the triangle.\n",
    "        b (float): The length of the other side of the triangle.\n",
    "\n",
    "    Returns:\n",
    "        float: The length of the hypotenuse.\n",
    "    \"\"\"\n",
    "    return math.sqrt(a ** 2 + b ** 2)\n",
    "\n",
    "side1: float = 3.0\n",
    "side2: float = 4.0\n",
    "hypotenuse: float = calculate_hypotenuse(side1, side2)\n",
    "print(f\"The length of the hypotenuse is: {hypotenuse}\")"
   ]
  },
  {
   "cell_type": "markdown",
   "id": "749638f9-b8e4-475f-8cd2-aa2be9d89a73",
   "metadata": {},
   "source": [
    "The function `calculate_hypotenuse()` takes two arguments, a and b, representing the lengths of the two shorter sides of a right triangle. It uses the Pythagorean theorem (a^2 + b^2 = c^2) to calculate the hypotenuse (c) and returns its value. Easy enough, right? \n",
    "\n",
    "Now, let’s take this concept into the context of a `class`. First things first, let’s define a `Cube` class:"
   ]
  },
  {
   "cell_type": "code",
   "execution_count": 84,
   "id": "9cd45356-d25b-46de-be7e-2f3b85b54095",
   "metadata": {
    "tags": []
   },
   "outputs": [
    {
     "name": "stdout",
     "output_type": "stream",
     "text": [
      "Cube with side length: 4, color: blue, material: plastic, solid: True\n"
     ]
    }
   ],
   "source": [
    "class Cube:\n",
    "    \"\"\"\n",
    "    A class to represent a cube with additional attributes.\n",
    "\n",
    "    Attributes:\n",
    "        side_length (float): The length of a side of the cube.\n",
    "        color (str): The color of the cube.\n",
    "        material (str): The material of which the cube is made.\n",
    "        is_solid (bool): Indicates whether the cube is solid or hollow.\n",
    "    \"\"\"\n",
    "    def __init__(self, side_length: float, color: str, material: str, is_solid: bool) -> None:\n",
    "        self.side_length = side_length\n",
    "        self.color = color\n",
    "        self.material = material\n",
    "        self.is_solid = is_solid\n",
    "\n",
    "    def __str__(self) -> str:\n",
    "        return (f\"Cube with side length: {self.side_length}, color: {self.color}, \"\n",
    "                f\"material: {self.material}, solid: {self.is_solid}\")\n",
    "\n",
    "\n",
    "my_cube = Cube(4, \"blue\", \"plastic\", True)\n",
    "\n",
    "print(my_cube)"
   ]
  },
  {
   "cell_type": "markdown",
   "id": "28299383-e9a7-4dcc-8640-bae5dd05aac5",
   "metadata": {},
   "source": [
    " So far nothing new. Now, let's add two **methods** to our class:\n",
    " \n",
    " - The first **method** will calculate the `volume` of the cube\n",
    " - While the second **method** will `calculate_surface_area` of the cube\n",
    "\n",
    "these will help us explore more of the capabilities of classes."
   ]
  },
  {
   "cell_type": "code",
   "execution_count": 90,
   "id": "61094560-f9f9-40ba-98aa-31070bf8810f",
   "metadata": {},
   "outputs": [],
   "source": [
    "class Cube:\n",
    "    \"\"\"\n",
    "    A class to represent a cube with additional attributes.\n",
    "\n",
    "    Attributes:\n",
    "        side_length (float): The length of a side of the cube.\n",
    "        color (str): The color of the cube.\n",
    "        material (str): The material of which the cube is made.\n",
    "        is_solid (bool): Indicates whether the cube is solid or hollow.\n",
    "    \"\"\"\n",
    "    def __init__(self, side_length: float, color: str, material: str, is_solid: bool):\n",
    "        self.side_length = side_length\n",
    "        self.color = color\n",
    "        self.material = material\n",
    "        self.is_solid = is_solid\n",
    "\n",
    "    def __str__(self) -> str:\n",
    "        return (f\"Cube with side length: {self.side_length}, color: {self.color}, \"\n",
    "                f\"material: {self.material}, solid: {self.is_solid}\")\n",
    "\n",
    "    # class method\n",
    "    def calculate_volume(self) -> float:\n",
    "        return self.side_length ** 3\n",
    "\n",
    "    # class method\n",
    "    def calculate_surface_area(self) -> float:\n",
    "        return 6 * (self.side_length ** 2)\n"
   ]
  },
  {
   "cell_type": "markdown",
   "id": "074697ab-e1ac-4b5a-b0dd-5401ed460803",
   "metadata": {},
   "source": [
    "So what did we do here?\n",
    "\n",
    "The `calculate_volume()` **method** calculates the volume of the cube. The volume of a cube is the amount of space it occupies, measured in cubic units. The formula to calculate the volume of a cube is: volume = side_length^3\n",
    "\n",
    "In this method, `self.side_length` refers to the `side_length` attribute of the specific cube on which the method is called. \n",
    "- If we call `cube1.calculate_volume()`, self refers to **cube1**, so it will **use cube1's side_length**. \n",
    "- If we call `cube2.calculate_volume()`, self will **refer to cube2** and use **cube2's side_length**.\n",
    "\n",
    "Let's see it in action:"
   ]
  },
  {
   "cell_type": "code",
   "execution_count": 98,
   "id": "edbb7b69-954e-403d-881b-91537ab75a17",
   "metadata": {},
   "outputs": [
    {
     "name": "stdout",
     "output_type": "stream",
     "text": [
      " The side length of cube1 is 4\n",
      " The side length of cube1 is 3\n",
      "----------------------------------------\n",
      " The surface area of cube1 is 96\n",
      " The surface area of cube1 is 54\n"
     ]
    }
   ],
   "source": [
    "cube1: Cube = Cube(4, \"red\", \"wood\", True)\n",
    "cube2: Cube = Cube(3, \"blue\", \"plastic\", False)\n",
    "\n",
    "print(f' The side length of cube1 is {cube1.side_length}')\n",
    "print(f' The side length of cube1 is {cube2.side_length}')\n",
    "print('--'*20)\n",
    "print(f' The surface area of cube1 is {cube1.calculate_surface_area()}')\n",
    "print(f' The surface area of cube1 is {cube2.calculate_surface_area()}')"
   ]
  },
  {
   "cell_type": "markdown",
   "id": "120f7536-edd1-4fa3-a914-9460b906153e",
   "metadata": {
    "tags": []
   },
   "source": [
    "<h4 style=\"color:#B22222\">Let's Think!</h4>"
   ]
  },
  {
   "cell_type": "markdown",
   "id": "cf9e6a3c-8d5f-4d94-bcc8-d9f987fec08e",
   "metadata": {},
   "source": [
    "```{admonition} What will be the output of the cell bellow?\n",
    ":class: tip, dropdown\n",
    "The message: <code>\"Cube 1 has a larger surface area\"</code> will be printed.\n",
    "```"
   ]
  },
  {
   "cell_type": "code",
   "execution_count": 107,
   "id": "9eea1bbe-5f97-42ce-b798-598f7506f0ae",
   "metadata": {
    "scrolled": true,
    "tags": []
   },
   "outputs": [
    {
     "name": "stdout",
     "output_type": "stream",
     "text": [
      "Cube 1 has a larger surface area\n"
     ]
    }
   ],
   "source": [
    "if cube1.calculate_surface_area() > cube2.calculate_surface_area():\n",
    "    print('Cube 1 has a larger surface area')\n",
    "else:\n",
    "    print(':(')"
   ]
  },
  {
   "cell_type": "markdown",
   "id": "3cdad7ea-f5ba-4967-b1f5-dc4d1ac5e2a1",
   "metadata": {},
   "source": [
    "Let's look at one last example..."
   ]
  },
  {
   "cell_type": "code",
   "execution_count": 33,
   "id": "710ef7e4-1f3d-435f-a225-0787c46ece48",
   "metadata": {},
   "outputs": [],
   "source": [
    "class Penguin:\n",
    "    \"\"\"\n",
    "    A class to represent a penguin.\n",
    "\n",
    "    Attributes:\n",
    "        name (str): The name of the penguin.\n",
    "        age (int): The age of the penguin in years.\n",
    "        species (str): The species of the penguin.\n",
    "        weight (float): The weight of the penguin in kilograms.\n",
    "        is_hungry (bool): Indicates if the penguin is hungry.\n",
    "    \"\"\"\n",
    "    def __init__(self, name: str, age: int, species: str, weight: float, is_hungry: bool = True) -> None:\n",
    "        self.name = name\n",
    "        self.age = age\n",
    "        self.species = species\n",
    "        self.weight = weight\n",
    "        self.is_hungry = is_hungry\n",
    "\n",
    "    def __str__(self) -> str:\n",
    "        return (f\"Penguin {self.name} (Species: {self.species}) - Age: {self.age} years, \"\n",
    "                f\"Weight: {self.weight} kg, Hungry: {self.is_hungry}\")\n",
    "\n",
    "    def swim(self) -> str:\n",
    "        return f\"{self.name} is happily swimming in the cold water! 🏊‍♂️❄️\"\n",
    "\n",
    "    def eat(self, food: str) -> str:\n",
    "        if self.is_hungry:\n",
    "            self.is_hungry = False\n",
    "            return f\"{self.name} ate the {food} and is now full. 🍽️\"\n",
    "        else:\n",
    "            return f\"{self.name} is not hungry right now.\"\n",
    "\n",
    "    def grow_older(self) -> None:\n",
    "        self.age += 1\n",
    "        return(f\"{self.name} has turned {self.age} years old! 🎂\")"
   ]
  },
  {
   "cell_type": "markdown",
   "id": "cfb7d91c-1e04-4d64-90b8-b86e43e9b02d",
   "metadata": {},
   "source": [
    "Let's break down each method one by one:\n",
    "\n",
    "- The `swim()` method simulates the penguin swimming. This method simply returns a message indicating that the penguin is happily swimming.\n",
    "- The `eat()` method feeds the penguin **if** it's hungry. This method checks if the `is_hungry` attribute is `True`.\n",
    "    - If the penguin is hungry, it changes `is_hungry` to `False` and returns a message that the penguin ate the given food.\n",
    "    - If the penguin is not hungry, it returns a different message.\n",
    "- The `grow_older()` method increases the `age` of the penguin by one year. This method **adds 1** to the `age` attribute of the penguin. It also returns a message to indicate the penguin's new age.\n",
    "\n",
    "Let's see some example code:"
   ]
  },
  {
   "cell_type": "code",
   "execution_count": 35,
   "id": "d9f08b22-118d-4873-89ad-fec790c73a17",
   "metadata": {},
   "outputs": [
    {
     "name": "stdout",
     "output_type": "stream",
     "text": [
      "Penguin Liv (Species: Emperor penguin) - Age: 2 years, Weight: 30.21 kg, Hungry: True\n",
      "------------------------------------------------------------\n",
      "Liv is happily swimming in the cold water! 🏊‍♂️❄️\n",
      "------------------------------------------------------------\n",
      "Liv ate the Antarctic silverfish and is now full. 🍽️\n",
      "------------------------------------------------------------\n"
     ]
    }
   ],
   "source": [
    "penguin_1 = Penguin('Liv', 2, 'Emperor penguin', 30.21)\n",
    "print(penguin_1)\n",
    "print('---'*20)\n",
    "print(penguin_1.swim())\n",
    "print('---'*20)\n",
    "print(penguin_1.eat('Antarctic silverfish'))\n",
    "print('---'*20)"
   ]
  },
  {
   "cell_type": "markdown",
   "id": "efdbd731-a503-4151-a231-f990a0a06141",
   "metadata": {},
   "source": [
    "Notice, that now the `is_hungry` attribute is set to `False`:"
   ]
  },
  {
   "cell_type": "code",
   "execution_count": 37,
   "id": "bcfcc1b9-0add-45f1-bc71-ce9cdc5a7e11",
   "metadata": {},
   "outputs": [
    {
     "name": "stdout",
     "output_type": "stream",
     "text": [
      "False\n"
     ]
    }
   ],
   "source": [
    "print(penguin_1.is_hungry)"
   ]
  },
  {
   "cell_type": "markdown",
   "id": "c2158759-0d50-4e88-a928-568df57158df",
   "metadata": {},
   "source": [
    "Lastly, let's increase our penguin's age."
   ]
  },
  {
   "cell_type": "code",
   "execution_count": 44,
   "id": "9f08912a-b702-4d70-9479-08056f1ec3de",
   "metadata": {},
   "outputs": [
    {
     "name": "stdout",
     "output_type": "stream",
     "text": [
      "2\n"
     ]
    }
   ],
   "source": [
    "current_age = penguin_1.age\n",
    "print(current_age)"
   ]
  },
  {
   "cell_type": "code",
   "execution_count": 145,
   "id": "70fe749e-2430-4f13-84ab-85d593b83f35",
   "metadata": {},
   "outputs": [
    {
     "name": "stdout",
     "output_type": "stream",
     "text": [
      "Liv has turned 3 years old! 🎂\n"
     ]
    }
   ],
   "source": [
    "print(penguin_1.grow_older())"
   ]
  },
  {
   "cell_type": "markdown",
   "id": "88ea9ec9-21b3-43aa-89ea-7eaf0a148184",
   "metadata": {},
   "source": [
    "Throughout this notebook, we used `self` to refer to the **current instance** of the class. It allowed us to **access** and **modify** the **attributes** and call **methods** specific to each object we created. For example, in our Penguin class, self was used to store each penguin's name, age, and species, making each penguin object unique."
   ]
  },
  {
   "cell_type": "markdown",
   "id": "37bbb523-2204-49dc-9282-2de7d3ce628b",
   "metadata": {},
   "source": [
    "```{note}\n",
    "Remember: self is what connects an object's data with its behavior, allowing each instance of a class to maintain its own state while sharing the same methods.\n",
    "```"
   ]
  },
  {
   "cell_type": "markdown",
   "id": "4d1da063-1a8e-4dd7-a1d6-d7ff025b182a",
   "metadata": {
    "tags": []
   },
   "source": [
    "## <span style=\"color:#3CB371\">Exercises</span>"
   ]
  },
  {
   "cell_type": "markdown",
   "id": "7e6f54ce-8e8e-4bed-981f-1884e86bc21f",
   "metadata": {},
   "source": [
    "Let's practice! Mind that each exercise is designed with multiple levels to help you progressively build your skills. <span style=\"color:darkorange;\"><strong>Level 1</strong></span> is the foundational level, designed to be straightforward so that everyone can successfully complete it. In <span style=\"color:darkorange;\"><strong>Level 2</strong></span>, we step it up a notch, expecting you to use more complex concepts or combine them in new ways. Finally, in <span style=\"color:darkorange;\"><strong>Level 3</strong></span>, we get closest to exam level questions, but we may use some concepts that are not covered in this notebook. However, in programming, you often encounter situations where you’re unsure how to proceed. Fortunately, you can often solve these problems by starting to work on them and figuring things out as you go. Practicing this skill is extremely helpful, so we highly recommend completing these exercises.\n",
    "\n",
    "For each of the exercises, make sure to add a `docstring` and `type hints`, and **do not** import any libraries unless specified otherwise.\n",
    "<br>"
   ]
  },
  {
   "cell_type": "markdown",
   "id": "5fb82376-1798-42ff-9912-960a401114b1",
   "metadata": {},
   "source": [
    "### Exercise 1\n",
    "\n",
    "First, let’s practice using default values in functions and classes! In this exercise, you will work with both functions and classes to get comfortable using default parameters.\n",
    "\n",
    "<span style=\"color:darkorange;\"><strong>Level 1</strong>:</span> Define a function `describe_pet()` that takes a `name` (a string) and an `optional species` (a string) with a **default value** of `\"Dog\"`. The function should **return** a description of the pet in the format: `\"This is [name], the [species].\"`\n",
    "\n",
    "**Example input:**\n",
    "```python\n",
    "describe_pet(\"Buddy\")\n",
    "describe_pet(\"Whiskers\", \"Cat\")\n",
    "```\n",
    "\n",
    "**Example output:**\n",
    "```python\n",
    "\"This is Buddy, the Dog.\"\n",
    "\"This is Whiskers, the Cat.\"\n",
    "```"
   ]
  },
  {
   "cell_type": "code",
   "execution_count": 6,
   "id": "0e321c54-90bf-46a1-9bbb-97c36028bd33",
   "metadata": {
    "tags": []
   },
   "outputs": [
    {
     "name": "stdout",
     "output_type": "stream",
     "text": [
      "This is Buddy, the Dog.\n",
      "This is Whiskers, the Cat.\n"
     ]
    }
   ],
   "source": [
    "def describe_pet(name, species=\"Dog\"):\n",
    "    return f\"This is {name}, the {species}.\"\n",
    "\n",
    "# Example input and output\n",
    "print(describe_pet(\"Buddy\"))          # Output: \"This is Buddy, the Dog.\"\n",
    "print(describe_pet(\"Whiskers\", \"Cat\"))"
   ]
  },
  {
   "cell_type": "markdown",
   "id": "bd84749c-05f6-4fba-978b-d43eace1b8ea",
   "metadata": {},
   "source": [
    "<span style=\"color:darkorange;\"><strong>Level 2</strong>:</span> Create a `class Pet with` an `__init__()` method that takes a `name` (string) and an optional `species` (default value \"Dog\"). Implement a `__str__()` method to provide a string representation of the pet in the format: `\"Pet(name=[name], species=[species])\"`. \n",
    "\n",
    "Additionally, add a `method change_species()` that allows updating the species **but** restricts it to a list of allowed species (\"Dog\", \"Cat\", \"Rabbit\", \"Parrot\").   \n",
    "If the user tries to set an unsupported species, raise a ValueError. (e.g. `Invalid species: Tiger`)\n",
    "\n",
    "**Example input:**\n",
    "```python\n",
    "pet1: Pet = Pet(\"Buddy\")\n",
    "print(pet1)\n",
    "\n",
    "pet1.change_species(\"Cat\")\n",
    "print(pet1)\n",
    "\n",
    "try:\n",
    "    pet1.change_species(\"Tiger\")  \n",
    "except ValueError as e:\n",
    "    print(e)\n",
    "```\n",
    "\n",
    "**Example output:**\n",
    "```python\n",
    "\"Pet(name=Buddy, species=Dog)\"\n",
    "\"Pet(name=Buddy, species=Cat)\"\n",
    "Invalid species: Tiger\n",
    "```"
   ]
  },
  {
   "cell_type": "code",
   "execution_count": 8,
   "id": "ce244b61-3c08-4ba9-ab6c-6ca297b250a1",
   "metadata": {},
   "outputs": [
    {
     "name": "stdout",
     "output_type": "stream",
     "text": [
      "Pet(name=Buddy, species=Dog)\n",
      "Pet(name=Buddy, species=Cat)\n",
      "Invalid species: Tiger\n"
     ]
    }
   ],
   "source": [
    "\n",
    "\n",
    "pet1: Pet = Pet(\"Buddy\")\n",
    "print(pet1)\n",
    "\n",
    "pet1.change_species(\"Cat\")\n",
    "print(pet1)\n",
    "\n",
    "try:\n",
    "    pet1.change_species(\"Tiger\")  \n",
    "except ValueError as e:\n",
    "    print(e)\n",
    "\n",
    "    \n",
    "\n",
    "\n",
    "        "
   ]
  },
  {
   "cell_type": "markdown",
   "id": "ee402585-b894-4d35-ad98-36d017cad270",
   "metadata": {},
   "source": [
    "<span style=\"color:darkorange;\"><strong>Level 3</strong>:</span> Extend the `Pet class` to include an optional `age` parameter in the `__init__()` method with a `default` value of 1. Update the `__str__()` method so that it returns a full description of the pet including its age in the format: \"This is [name], a [species] who is [age] years old.\". \n",
    "\n",
    "Additionally, add a `method birthday()` that increases the pet’s age by **1** each time it's called. **However**, if the pet’s age **exceeds 20**, the method should raise an **exception**: `\"Age limit reached\"`.\n",
    "\n",
    "**Example input:**\n",
    "```python\n",
    "pet1: Pet = Pet(\"Buddy\")\n",
    "print(pet1)\n",
    "\n",
    "pet1.birthday()\n",
    "print(pet1)\n",
    "\n",
    "try:\n",
    "    for _ in range(20):\n",
    "        pet1.birthday()\n",
    "except Exception as e:\n",
    "    print(e)\n",
    "```\n",
    "\n",
    "**Example output:**\n",
    "```python\n",
    "\"This is Buddy, a Dog who is 1 years old.\"\n",
    "\"This is Buddy, a Dog who is 2 years old.\"\n",
    "\"Age limit reached\"\n",
    "```"
   ]
  },
  {
   "cell_type": "code",
   "execution_count": 4,
   "id": "47f3edd0",
   "metadata": {},
   "outputs": [
    {
     "name": "stdout",
     "output_type": "stream",
     "text": [
      "This is Buddy, a Dog who is 1 years old.\n",
      "This is Buddy, a Dog who is 2 years old.\n",
      "age limit reached\n"
     ]
    }
   ],
   "source": [
    "class Pet:\n",
    "    def __init__(self, name:str, species:str = \"Dog\", age: int = 1):\n",
    "        self.name = name\n",
    "        self.species = species\n",
    "        self.age = age\n",
    "    \n",
    "    def __str__(self)-> str:\n",
    "        return f\"This is {self.name}, a {self.species} who is {self.age} years old.\"\n",
    "    \n",
    "\n",
    "    def change_species(self, change: str):\n",
    "        list_species = [\"Dog\", \"Cat\", \"Rabbit\", \"Parrot\"]\n",
    "        if change not in list_species:\n",
    "            raise ValueError(f\"Invalid species: {change}\")\n",
    "        else:\n",
    "            self.species = change \n",
    "    \n",
    "    def birthday(self):\n",
    "        if self.age > 20:\n",
    "            raise Exception(\"age limit reached\")\n",
    "        self.age += 1\n",
    "        \n",
    "\n",
    "pet1: Pet = Pet(\"Buddy\")\n",
    "print(pet1)\n",
    "\n",
    "pet1.birthday()\n",
    "print(pet1)\n",
    "\n",
    "try:\n",
    "    for _ in range(20):\n",
    "        pet1.birthday()\n",
    "except Exception as e:\n",
    "    print(e)"
   ]
  },
  {
   "cell_type": "markdown",
   "id": "fa32df3c-efde-489a-a8bb-9bdc8f44e43e",
   "metadata": {},
   "source": [
    "### Exercise 2\n",
    "\n",
    "Let’s take it up a notch! In this exercise, we’ll create a more complex class and combine multiple methods to manage data effectively.\n",
    "\n",
    "<span style=\"color:darkorange;\"><strong>Level 1</strong>:</span> Write a **function** `calculate_price()` that takes `base_price` (float) and an `optional tax_rate` (float) with a default value of **0.05**. The function should **return** the total price **including tax**.\n",
    "\n",
    "**Example input:**\n",
    "```python\n",
    "print(calculate_price(100.0))\n",
    "print(calculate_price(200.0, 0.1))\n",
    "```\n",
    "\n",
    "**Example output:**\n",
    "```python\n",
    "105.0\n",
    "220.0\n",
    "```"
   ]
  },
  {
   "cell_type": "code",
   "execution_count": 5,
   "id": "40b8ff4b-0f60-4080-b2f9-8f7b92e3c80d",
   "metadata": {},
   "outputs": [
    {
     "name": "stdout",
     "output_type": "stream",
     "text": [
      "105.0\n",
      "210.0\n"
     ]
    }
   ],
   "source": [
    "def calculate_price(base_price: float, tax_rate: float = 0.05) -> float:\n",
    "    taxed_price = base_price + (base_price * 0.05)\n",
    "    return taxed_price\n",
    "\n",
    "print(calculate_price(100.0))\n",
    "print(calculate_price(200.0, 0.1))"
   ]
  },
  {
   "cell_type": "markdown",
   "id": "316b34ee-9314-4580-994b-b0e746a6440c",
   "metadata": {},
   "source": [
    "<span style=\"color:darkorange;\"><strong>Level 2</strong>:</span> Create a class `Product` with an` __init__()` method that takes a `name` (string), `price` (float), and an optional `discount` (float, default is 0.1). Implement a `__str__()` method for a string representation. \n",
    "\n",
    "Add methods:\n",
    "- `final_price()`: Calculates the price **after** applying the discount.\n",
    "- `bulk_discount(quantity: int)`: If quantity is **more than 10**, apply an **additional 5%** discount. If more than **50**, apply additional **15% discount** (not chainable).\n",
    "\n",
    "**Example input:**\n",
    "```python\n",
    "product1: Product = Product(\"Laptop\", 1000.0)\n",
    "print(product1.final_price())\n",
    "\n",
    "print(product1.bulk_discount(12))\n",
    "print(product1.bulk_discount(60))\n",
    "```\n",
    "\n",
    "**Example output:**\n",
    "```python\n",
    "\"The product's final price is $900.0\"\n",
    "\"The product's price after the bulk discount is $855.0\"\n",
    "\"The product's price after the bulk discount is $765.0\"\n",
    "```"
   ]
  },
  {
   "cell_type": "code",
   "execution_count": null,
   "id": "94f16cda-e35c-4bba-93d6-8e2d8c657692",
   "metadata": {},
   "outputs": [],
   "source": [
    "class Product:\n",
    "    def __init__(self, name: str, price: float, discount: float = 0.1):\n",
    "        self.name = name\n",
    "        self.price = price\n",
    "        self.discount = discount\n",
    "    \n",
    "    def __str__(self):\n",
    "        pass\n",
    "\n",
    "    def final_price(self):\n",
    "        discount_price = self.price (self.price * self.discount)\n",
    "        return discount_price\n",
    "    \n",
    "    def bulk_discount(self, quantity: int):\n",
    "        if quantity > 10:\n",
    "            discount_price = self.price (self.price * 0.05)\n",
    "        \n"
   ]
  },
  {
   "cell_type": "markdown",
   "id": "0200a136-2659-4819-9626-05d64af3a49e",
   "metadata": {},
   "source": [
    "<span style=\"color:darkorange;\"><strong>Level 3</strong>:</span> Extend the `Product` class by adding a `method apply_tax()` that takes an optional `tax_rate` (float, default is 0.05) and **returns** the final price after applying **both** the discount and tax. \n",
    "\n",
    "Add a method `adjust_price()` which:\n",
    "- takes one parameter: `percentage` (a float), which can be positive (for a price increase) or negative (for a price decrease).\n",
    "- the method should update the product’s price based on this percentage:\n",
    "    - If the percentage is positive, it increases the price.\n",
    "    - If the percentage is negative, it decreases the price.\n",
    "- Moreover, ensure that the price **never drops below** a certain minimum threshold, such as **50.0**:\n",
    "    - If an adjustment would cause the price to go below this minimum, raise a `ValueError` with a message (`\"Price cannot go below 50.0\"`).\n",
    " \n",
    "**Example input:**\n",
    "```python\n",
    "product2: Product = Product(\"Phone\", 500.0, 0.2)\n",
    "print(product2.apply_tax())\n",
    "\n",
    "product2.adjust_price(-0.1)\n",
    "print(product2)\n",
    "```\n",
    "\n",
    "**Example output:**\n",
    "```python\n",
    "\"The product's final price after tax is $420.0\"\n",
    "\"The product's price after price adjustion is $450.0\"\n",
    "```"
   ]
  },
  {
   "cell_type": "code",
   "execution_count": null,
   "id": "9a963ddb-ac94-4f99-9bd1-5fa5dab9e3ae",
   "metadata": {},
   "outputs": [],
   "source": [
    "# TODO"
   ]
  },
  {
   "cell_type": "markdown",
   "id": "fe830d25-8b12-4486-a987-39834e83e457",
   "metadata": {},
   "source": [
    "### Exercise 3\n",
    "\n",
    "In this exercise, you'll create a system to manage a shopping cart filled with different LEGO pieces, each with limited stock.\n",
    "\n",
    "<span style=\"color:darkorange;\"><strong>Level 1</strong>:</span> Create a class `LegoBrick` to represent a LEGO piece. This class should include:\n",
    "\n",
    "- an `__init__()` method that takes:\n",
    "    - `name` (str): The name of the LEGO piece (e.g., \"2x4 Brick\", \"Round Plate\").\n",
    "    - `color` (str): The color of the LEGO piece (e.g., \"Red\", \"Blue\").\n",
    "    - `price` (float): The price of a single piece.\n",
    "    - An optional `quantity` (int) with a default value of 1.\n",
    "\n",
    "- A `__str__()` method that returns a string representation of the LEGO piece in the format:\n",
    "  - `\"LEGOBrick(name=[name], color=[color], price=[price], quantity=[quantity])\"`\n",
    "\n",
    "- A method `total_price()` that returns the total cost of the piece **based on its quantity**.\n",
    " \n",
    "**Example input:**\n",
    "```python\n",
    "brick1: LegoBrick = LegoBrick(\"2x4 Brick\", \"Red\", 0.30, 10)\n",
    "print(brick1\n",
    "print(brick1.total_price())\n",
    "```\n",
    "\n",
    "**Example output:**\n",
    "```python\n",
    "\"This Lego Brick is called 2x4 Brick, has color Red, costs $0.3/piece and has a total quantity of 10 pieces\"\n",
    "\"The total price of the Red 2x4 Brick is $3.0\"\n",
    "```"
   ]
  },
  {
   "cell_type": "code",
   "execution_count": null,
   "id": "12806cb8-c127-4f84-b3b4-08882205570e",
   "metadata": {},
   "outputs": [],
   "source": [
    "# TODO."
   ]
  },
  {
   "cell_type": "markdown",
   "id": "5528627b-4984-4fca-a848-5f991b5d0649",
   "metadata": {},
   "source": [
    "<span style=\"color:darkorange;\"><strong>Level 2</strong>:</span> Create a class `LegoInventory` to manage the stock of different `LEGO` parts. Make:\n",
    "\n",
    "- an `__init__()` method initializes an `empty dictionary` inventory to store `LegoBrick objects`.\n",
    "\n",
    "Add a method `add_brick()` that takes a `LegoBrick object` and adds it to the inventory. \n",
    "- If the brick already exists **(same name and color)**, increase its quantity.\n",
    "\n",
    "Add a method `check_stock()` that returns the current stock of a specific part **(by name and color)**.\n",
    "\n",
    "Add a method `remove_brick()` that **decrease** the quantity of a specific brick when an order is placed. \n",
    "- If the stock is **insufficient**, raise a `ValueError`. (e.g. `Insufficient stock for 1x1 Blue Round Plate`)\n",
    "\n",
    "**Example input:**\n",
    "```python\n",
    "inventory: LegoInventory = LegoInventory()\n",
    "\n",
    "brick1: LegoBrick = LegoBrick(\"2x4 Brick\", \"Red\", 0.30, 20)\n",
    "brick2: LegoBrick = LegoBrick(\"1x1 Round Plate\", \"Blue\", 0.15, 50)\n",
    "\n",
    "inventory.add_brick(brick1)\n",
    "inventory.add_brick(brick2)\n",
    "\n",
    "print(inventory.check_stock(\"2x4 Brick\", \"Red\"))\n",
    "\n",
    "inventory.remove_brick(\"2x4 Brick\", \"Red\", 5)\n",
    "print(inventory.check_stock(\"2x4 Brick\", \"Red\"))\n",
    "\n",
    "try:\n",
    "    inventory.remove_brick(\"1x1 Round Plate\", \"Blue\", 60)\n",
    "except ValueError as e:\n",
    "    print(e)\n",
    "\n",
    "```\n",
    "\n",
    "**Example output:**\n",
    "```python\n",
    "\"Currently in our stock, we have 20 Red 2x4 Brick\"\n",
    "\"Currently in our stock, we have 15 Red 2x4 Brick\"\n",
    "Insufficient stock for 1x1 Blue Round Plate\n",
    "```"
   ]
  },
  {
   "cell_type": "code",
   "execution_count": null,
   "id": "8143b7b0-15ee-4f01-826b-b1fec9e644b5",
   "metadata": {},
   "outputs": [],
   "source": [
    "# TODO"
   ]
  },
  {
   "cell_type": "markdown",
   "id": "3b530c4b-c1b7-430e-8381-ef278b3fd258",
   "metadata": {},
   "source": [
    "<span style=\"color:darkorange;\"><strong>Level 3</strong>:</span> Create a class `ShoppingCart` that allows customers to add LEGO parts to their cart and manage orders:\n",
    "\n",
    "- make an `__init__()` method initializes an **empty dictionary** cart where:\n",
    "    - `keys` are tuples of (name, color)\n",
    "    - and `values` are dictionaries with quantity and price.\n",
    "\n",
    "Add a method `add_to_cart()` that adds a specified quantity of a LEGO part to the cart. Ensure the quantity does not exceed the stock in the inventory. If the quantity would exceed the inventory, raise a `Valuerror`. (e.g. `Cannot add 100 pieces of Red 2x4 Brick to the cart. Only 50 available in stock.`)\n",
    "\n",
    "Add a method `calculate_total()` that calculates the total cost of **all** items in the cart.\n",
    "Add a method `apply_discount()` that takes an **optional** discount (default is 0.1) **if** the total is **above 100.0**.\n",
    "Add a method `checkout() `that finalizes the purchase, **updates** the inventory, and **clears** the cart.\n",
    "\n",
    "**Example input:**\n",
    "```python\n",
    "inventory: LegoInventory = LegoInventory()\n",
    "cart: ShoppingCart = ShoppingCart(inventory)\n",
    "\n",
    "# Add items to the inventory\n",
    "inventory.add_brick(LegoBrick(\"2x4 Brick\", \"Red\", 0.30, 50))\n",
    "inventory.add_brick(LegoBrick(\"1x1 Round Plate\", \"Blue\", 0.15, 100))\n",
    "\n",
    "# Add items to the cart (within stock limits)\n",
    "cart.add_to_cart(\"2x4 Brick\", \"Red\", 10)\n",
    "cart.add_to_cart(\"1x1 Round Plate\", \"Blue\", 20)\n",
    "\n",
    "print(cart.calculate_total())\n",
    "\n",
    "# Apply a discount if applicable\n",
    "print(cart.apply_discount())   # (no discount applied)\n",
    "\n",
    "# Attempt to add more than available stock (will raise ValueError)\n",
    "try:\n",
    "    cart.add_to_cart(\"2x4 Brick\", \"Red\", 100)  # Exceeds stock\n",
    "except ValueError as e:\n",
    "    print(f\"Error: {e}\")\n",
    "\n",
    "# Checkout and update the inventory\n",
    "cart.checkout()\n",
    "print(inventory.check_stock(\"2x4 Brick\", \"Red\"))\n",
    "print(inventory.check_stock(\"1x1 Round Plate\", \"Blue\"))\n",
    "\n",
    "```\n",
    "\n",
    "**Example output:**\n",
    "```python\n",
    "\"The total cost of the items in the shopping cart is $6.0 at the moment.\"\n",
    "\"The total cost of the items in the shopping cart is $6.0 after discount.\": Cannot add 100 pieces of Red 2x4 Brick to the cart. Only 50 available in stock.\n",
    "\"The current stock of the Red 2x4 Brick is 40 pieces.\"\n",
    "\"The current stock of the Blue 1x1 Round Plate is 80 pieces.\"\n",
    "\n",
    "```"
   ]
  },
  {
   "cell_type": "code",
   "execution_count": null,
   "id": "c84d8a0b-feca-47ac-9255-48c08ba671a1",
   "metadata": {},
   "outputs": [],
   "source": [
    "# TODO."
   ]
  },
  {
   "cell_type": "markdown",
   "id": "011d751d-8621-49e8-bc7c-1d5c181a91a3",
   "metadata": {},
   "source": [
    "___________________________________________________________________________________________________________________________\n",
    "\n",
    "*Material for the VU Amsterdam course “Introduction to Python Programming” for BSc Artificial Intelligence students. These notebooks are created using the following sources:*\n",
    "1. [Learning Python by Doing][learning python]: This book, developed by teachers of TU/e Eindhoven and VU Amsterdam, is the main source for the course materials. Code snippets or text explanations from the book may be used in the notebooks, sometimes with slight adjustments.\n",
    "2. [Think Python][think python]\n",
    "3. [GeekForGeeks][geekforgeeks]\n",
    "\n",
    "[learning python]: https://programming-pybook.github.io/introProgramming/intro.html\n",
    "[think python]: https://greenteapress.com/thinkpython2/html/\n",
    "[geekforgeeks]: https://www.geeksforgeeks.org"
   ]
  }
 ],
 "metadata": {
  "kernelspec": {
   "display_name": "d185id",
   "language": "python",
   "name": "python3"
  },
  "language_info": {
   "codemirror_mode": {
    "name": "ipython",
    "version": 3
   },
   "file_extension": ".py",
   "mimetype": "text/x-python",
   "name": "python",
   "nbconvert_exporter": "python",
   "pygments_lexer": "ipython3",
   "version": "3.10.14"
  }
 },
 "nbformat": 4,
 "nbformat_minor": 5
}

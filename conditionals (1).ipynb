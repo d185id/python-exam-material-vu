{
 "cells": [
  {
   "cell_type": "markdown",
   "metadata": {},
   "source": [
    "# Conditionals"
   ]
  },
  {
   "cell_type": "markdown",
   "metadata": {},
   "source": [
    "**In this notebook, we cover the following subjects:**\n",
    "- Boolean Values and Expressions;\n",
    "- Conditional Statements;\n",
    "- User-Input.\n",
    "___________________________________________________________________________________________________________________________"
   ]
  },
  {
   "cell_type": "markdown",
   "metadata": {},
   "source": [
    "## <span style=\"color:#4169E1\">Boolean Values and Expressions</span>\n",
    "\n",
    "Stemming from [Boolean Logic][boolean_logic], let's talk about another data type: **Boolean values**. This data type can only have two values, namely **True** or **False**, and is often used to represent the outcome of a condition or expression.\n",
    "\n",
    "[boolean_logic]:https://programming-pybook.github.io/introProgramming/chapters/conditionals.html#boolean-logic-a-class-anchor-id-boolean-logic-a"
   ]
  },
  {
   "cell_type": "code",
   "execution_count": null,
   "metadata": {
    "tags": []
   },
   "outputs": [],
   "source": [
    "is_sunny: bool = True\n",
    "is_raining: bool = False"
   ]
  },
  {
   "cell_type": "markdown",
   "metadata": {
    "tags": []
   },
   "source": [
    "A **boolean expression** is an expression that evaluates to <code> True </code> or `False`. "
   ]
  },
  {
   "cell_type": "markdown",
   "metadata": {},
   "source": [
    "```{note}\n",
    "The typehint for a variable that stores a boolean value is <code>bool</code> (see example code above).\n",
    "```"
   ]
  },
  {
   "cell_type": "code",
   "execution_count": 33,
   "metadata": {
    "tags": []
   },
   "outputs": [
    {
     "name": "stdout",
     "output_type": "stream",
     "text": [
      "False\n"
     ]
    }
   ],
   "source": [
    "num_x: int = 1\n",
    "num_y: int = 5\n",
    "\n",
    "result: bool = num_x > num_y\n",
    "\n",
    "print(result)"
   ]
  },
  {
   "cell_type": "markdown",
   "metadata": {},
   "source": [
    "```{note}\n",
    "The above code will print <b> False </b> since the variable <code>y</code> stores the value of 5, which is greater then the value 1 stored in variable <code>x</code>. In simple terms, 1 > 5 is <b>False</b>.\n",
    "```"
   ]
  },
  {
   "cell_type": "markdown",
   "metadata": {},
   "source": [
    "#### <span style=\"color:#B22222\">Comparison Operators</span>"
   ]
  },
  {
   "cell_type": "markdown",
   "metadata": {},
   "source": [
    "To perform comparisons between values or expressions, we use what are called **comparison operators**. While these operations might already be familiar to you, the symbols used in Python are different from the standard mathematical symbols.\n",
    "\n",
    "\n",
    "| **Operator** | **Purpose** |\n",
    "|:----------|:---------|\n",
    "| `==` | x is  equal to y |\n",
    "| `!=` | x is not equal to y |\n",
    "| `x > y` | x is greater than y |\n",
    "| `x < y` | x is less than y |\n",
    "| `x >= y` | x is greater than or equal to y | \n",
    "\n",
    "For example, using `==` we check whether the following expression is `True`. You can think of the `==` operator as a way of checking if the value on the left side is precisely equal (same) to the value on the right side."
   ]
  },
  {
   "cell_type": "code",
   "execution_count": 35,
   "metadata": {
    "tags": []
   },
   "outputs": [
    {
     "name": "stdout",
     "output_type": "stream",
     "text": [
      "True\n",
      "-------------------\n",
      "False\n"
     ]
    }
   ],
   "source": [
    "result: bool = (5 == 5)\n",
    "\n",
    "print(result)\n",
    "\n",
    "print('-------------------')\n",
    "\n",
    "result2: bool = (1 == 3)\n",
    "\n",
    "print(result2)"
   ]
  },
  {
   "cell_type": "markdown",
   "metadata": {},
   "source": [
    "```{note}\n",
    "There is a clear difference between the use of <code>=</code> and <code>==</code>: the former is an <b>assignment operator</b>, while the latter is a <b>relational operator</b>.\n",
    "```\n"
   ]
  },
  {
   "cell_type": "markdown",
   "metadata": {},
   "source": [
    "#### <span style=\"color:#B22222\">Logical Operators</span>\n",
    "\n",
    "Now, with **logical operators** we can combine multiple boolean expressions and return a `True` or `False` value. In Python, there are three logical operators: `and`, `or`, and `not`.\n",
    "\n",
    "| Operator | Technical name | Math symbol | Python construct | \n",
    "|:--------:|:--------------:|:------:|:------:|\n",
    "| And      | Conjunction    | $\\land$| `and`  |\n",
    "| Or       | Disjunction    | $\\lor$ | `or`   |\n",
    "| Not      | Negation       | $\\lnot$| `not`  |\n"
   ]
  },
  {
   "cell_type": "markdown",
   "metadata": {},
   "source": [
    "- **The `and` Operator**: returns `True` if **all** expressions are `True`."
   ]
  },
  {
   "cell_type": "markdown",
   "metadata": {},
   "source": [
    "| A     | B     | A ∧ B |\n",
    "|-------|-------|-------|\n",
    "| True  | True  | True  |\n",
    "| True  | False | False |\n",
    "| False | True  | False |\n",
    "| False | False | False |"
   ]
  },
  {
   "cell_type": "code",
   "execution_count": null,
   "metadata": {},
   "outputs": [],
   "source": [
    "age: int = 17\n",
    "\n",
    "is_adult: bool = (age >= 18) and (age < 65)\n",
    "\n",
    "print(is_adult)"
   ]
  },
  {
   "cell_type": "markdown",
   "metadata": {},
   "source": [
    "- **The `or` Operator**: returns `True` if **at least one** expression holds `True`."
   ]
  },
  {
   "cell_type": "markdown",
   "metadata": {},
   "source": [
    "| A     | B     | A ∨ B |\n",
    "|-------|-------|-------|\n",
    "| True  | True  | True  |\n",
    "| True  | False | True  |\n",
    "| False | True  | True  |\n",
    "| False | False | False |"
   ]
  },
  {
   "cell_type": "code",
   "execution_count": null,
   "metadata": {},
   "outputs": [],
   "source": [
    "day: str = \"Saturday\"\n",
    "\n",
    "is_weekend: bool = (day == \"Saturday\") or (day == \"Sunday\")\n",
    "\n",
    "print(is_weekend)"
   ]
  },
  {
   "cell_type": "markdown",
   "metadata": {},
   "source": [
    "- **The `not` Operator**: negates a boolean expression."
   ]
  },
  {
   "cell_type": "markdown",
   "metadata": {},
   "source": [
    "| A     | ¬A    |\n",
    "|-------|-------|\n",
    "| True  | False |\n",
    "| False | True  |\n",
    "\n",
    "| B     | ¬B    |\n",
    "|-------|-------|\n",
    "| True  | False |\n",
    "| False | True  |\n"
   ]
  },
  {
   "cell_type": "code",
   "execution_count": 64,
   "metadata": {},
   "outputs": [
    {
     "name": "stdout",
     "output_type": "stream",
     "text": [
      "False\n"
     ]
    }
   ],
   "source": [
    "is_sunny: bool = True\n",
    "\n",
    "not_sunny: bool = not is_sunny\n",
    "\n",
    "print(not_sunny)"
   ]
  },
  {
   "cell_type": "markdown",
   "metadata": {
    "tags": []
   },
   "source": [
    "## <span style=\"color:#4169E1\">Conditional Statements</span>\n",
    "\n",
    "\n",
    "Now that we’ve covered boolean values and expressions, let’s move on to a new concept: **conditional statements**. In order to write useful code, we want to be able to change the behavior of the program based on the fulfillment of certain conditions. Conditional statements allow us to do this, as Boolean expressions are used to determine which blocks of code to execute. The three types of conditional statements are `if`, `elif`, and `else`."
   ]
  },
  {
   "cell_type": "markdown",
   "metadata": {},
   "source": [
    "**1. if-statement**: this is the simplest form of a conditional statement. If the condition after the `if` holds `True`, then the following statement is executed. The syntax is as follows:\n",
    "\n",
    "```python\n",
    "if condition:\n",
    "    # Code block executes if condition is True\n",
    "```"
   ]
  },
  {
   "cell_type": "markdown",
   "metadata": {},
   "source": [
    "```{note}\n",
    " Python is <b>indentation-sensitive</b>, meaning that indentation is used to show the hierarchy and structure of your code.\n",
    "```"
   ]
  },
  {
   "cell_type": "markdown",
   "metadata": {},
   "source": [
    "An example:"
   ]
  },
  {
   "cell_type": "code",
   "execution_count": null,
   "metadata": {
    "tags": []
   },
   "outputs": [],
   "source": [
    "# What happens when we run this cell?\n",
    "\n",
    "temperature: int = 5\n",
    "\n",
    "if temperature < 0:\n",
    "    print(\"It's freezing.\")"
   ]
  },
  {
   "cell_type": "markdown",
   "metadata": {},
   "source": [
    "As you might notice, an **if-statement** is very useful when you want to run a specific piece of code only if a condition is true. However, this approach is limited because the code stops executing if the condition is not true, reducing flexibility. To account for this problem, we introduce the **else-statement**."
   ]
  },
  {
   "cell_type": "markdown",
   "metadata": {},
   "source": [
    "\n",
    "**2. else-statement**: if the condition is of the **if-statement** is `False`, the body of the `else` section will be executed. Together, we call this an **if-else statement**, and it has the following syntax:\n",
    "```python\n",
    "if condition:\n",
    "    # Code block if condition is True\n",
    "else:\n",
    "    # Code block if condition is False\n",
    "```"
   ]
  },
  {
   "cell_type": "code",
   "execution_count": null,
   "metadata": {
    "tags": []
   },
   "outputs": [],
   "source": [
    "temperature: int = 5\n",
    "\n",
    "if temperature < 0:\n",
    "    print(\"It's freezing.\")\n",
    "else:\n",
    "    print(\"No frostbite today! Maybe go for a brisk walk?\")"
   ]
  },
  {
   "cell_type": "markdown",
   "metadata": {},
   "source": [
    "You might be thinking that the additional **else-statement** still limits the response to only two possibilities. To overcome this issue, you can use the **elif-statement** and check for multiple conditions."
   ]
  },
  {
   "cell_type": "markdown",
   "metadata": {},
   "source": [
    "3. **elif-statement**: `elif` is an abbreviation of *else if* and allows you to check multiple conditions. If the preceeding conditions evaluate to `False`, the first `elif` block that holds `True` gets executed. Note: in contrast to the else-statement, after the `elif` keyword you should always define a new Boolean expression.\n",
    "\n",
    "```python\n",
    "if condition1:\n",
    "    # Code block if condition1 is True\n",
    "elif condition2:\n",
    "    # Code block if condition2 is True\n",
    "else:\n",
    "    # Code block if all conditions are False\n",
    "```"
   ]
  },
  {
   "cell_type": "code",
   "execution_count": null,
   "metadata": {
    "tags": []
   },
   "outputs": [],
   "source": [
    "temperature: int = 5\n",
    "\n",
    "if temperature < 0:\n",
    "    print(\"It's freezing! Time to build a snowman!\")\n",
    "elif 0 <= temperature < 15:\n",
    "    print(\"It's a bit chilly, perfect weather for a cozy sweater.\")\n",
    "else:\n",
    "    print(\"Nice weather! How about a picnic in the park?\")"
   ]
  },
  {
   "cell_type": "markdown",
   "metadata": {},
   "source": [
    "<img src=\"assets/python-elif.png\" width=700 height=500>"
   ]
  },
  {
   "cell_type": "markdown",
   "metadata": {},
   "source": [
    "When there are more than two alternatives, therefore using `if`, `else`, and `elif`, we refer to this as a **chained conditional**. As shown above, chained conditions are are checked from top to bottom, and if more than one condition evaluates to `True` only the first branch for which the condition succeeds is executed."
   ]
  },
  {
   "cell_type": "markdown",
   "metadata": {},
   "source": [
    "```{note}\n",
    "There is no limit to the amount of <code>elif</code> blocks you wish to use, but remember to start with an <code>if</code> statement. While an <code>else</code> block at the end is optional, you can also end the statement with an <code>elif</code>.\n",
    "```"
   ]
  },
  {
   "cell_type": "markdown",
   "metadata": {},
   "source": [
    "#### <span style=\"color:#B22222\">Importance of Indentation</span>\n",
    "\n",
    "As you will see in the code snippet bellow, we used different levels of indentation. You have already used indentation in the previous chapter (Functions), but it is very important that you fully understand its meaning and power.\n",
    "\n",
    "So what is indentation?\n",
    "\n",
    "- In Python, **indentation** isn't just for making code look nice—it's how the language knows what code belongs together. When you write a `loop`, `function`, or `conditional` (like an `if statement`), everything that should happen inside it needs to be indented.<br>\n",
    "- If you forget or mix up spaces and tabs, Python will give you an error. \n",
    "\n",
    "Here's an example:\n",
    "```python\n",
    "if x > 5:\n",
    "    print(\"x is greater than 5\")  # This line is indented, so it's part of the if-statement\n",
    "print(\"This runs no matter what\")  # No indentation, so it's outside the if-statement\n",
    "```\n",
    "The indented part runs only if the condition is true, while the non-indented code runs regardless. So, Python uses indentation to tell what should happen inside or outside certain blocks of code.\n",
    "\n",
    "Keep it neat and consistent, and you'll be good!\n"
   ]
  },
  {
   "cell_type": "markdown",
   "metadata": {},
   "source": [
    "```{note}\n",
    "In Python, we usually use 4 spaces or 1 tab to indent.\n",
    "```"
   ]
  },
  {
   "cell_type": "markdown",
   "metadata": {},
   "source": [
    "#### <span style=\"color:#B22222\">Let's think</span>\n",
    "\n",
    "\n",
    "Let's test our understanding! Answer the following questions regarding the piece of code underneath:\n",
    "\n",
    "- Question 1: Would the output change if I changed `elif` to `if`?\n",
    "\n",
    "- Question 2: What would happen if we set each character `trait = False`? (e.g., `brave = False`)\n",
    "\n",
    "- Question 3: What would happen if we set only the `brave` variable to false: `brave = False?`"
   ]
  },
  {
   "cell_type": "code",
   "execution_count": null,
   "metadata": {
    "tags": []
   },
   "outputs": [],
   "source": [
    "MINIMUM_AGE: int = 11\n",
    "\n",
    "house: str = \"?\"\n",
    "\n",
    "brave: bool = True\n",
    "smart: bool = True\n",
    "friendly: bool = True\n",
    "\n",
    "age: int = 12\n",
    "\n",
    "if age > MINIMUM_AGE:\n",
    "    if brave and friendly:\n",
    "        house = \"Gryffindor\"\n",
    "    elif smart:\n",
    "        house = \"Slytherin\"\n",
    "        \n",
    "    print(\"You belong in {housename}!\".format(housename = house))\n",
    "        \n",
    "else:\n",
    "    print(\"Wait till you're old enough to get your letter.\")"
   ]
  },
  {
   "cell_type": "markdown",
   "metadata": {},
   "source": [
    "And what will be the output of the following cell?"
   ]
  },
  {
   "cell_type": "code",
   "execution_count": 102,
   "metadata": {
    "tags": []
   },
   "outputs": [
    {
     "name": "stdout",
     "output_type": "stream",
     "text": [
      "Welcome to the team!\n"
     ]
    }
   ],
   "source": [
    "can_fly_a_Firebolt: bool = True\n",
    "can_catch_a_Snitch: bool = True\n",
    "can_hit_a_Bludger: bool = True\n",
    "has_vertigo: bool = False\n",
    "\n",
    "qualified: bool = not has_vertigo and can_fly_a_Firebolt and (can_catch_a_Snitch or can_hit_a_Bludger)\n",
    "\n",
    "message: str = \"Welcome to the team!\" if qualified else \"Better luck next time!\"\n",
    "print(message)"
   ]
  },
  {
   "cell_type": "markdown",
   "metadata": {},
   "source": [
    "#### <span style=\"color:#B22222\">Nested Conditionals</span>\n",
    "One conditional can also be nested within another. That is, you can have a conditional statement within the body of one of the alternative executions of a conditional."
   ]
  },
  {
   "cell_type": "markdown",
   "metadata": {},
   "source": [
    "```python\n",
    "if condition1:\n",
    "    if condition2:\n",
    "        # Code block for both condition1 and condition2 being True\n",
    "    else:\n",
    "        # Code block for condition1 being True and condition2 being False\n",
    "else:\n",
    "    # Code block for condition1 being False\n",
    "```"
   ]
  },
  {
   "cell_type": "code",
   "execution_count": null,
   "metadata": {
    "tags": []
   },
   "outputs": [],
   "source": [
    "day: str = \"Saturday\"\n",
    "weather: str = \"sunny\"\n",
    "\n",
    "if day == \"Saturday\" or day == \"Sunday\":\n",
    "    print(\"It's the weekend!\")\n",
    "    if weather == \"sunny\":\n",
    "        print(\"Perfect day for a hike!\")\n",
    "    else:\n",
    "        print(\"Maybe visit a museum or watch a movie.\")\n",
    "else:\n",
    "    print(\"It's a weekday.\")\n",
    "    if weather == \"rainy\":\n",
    "        print(\"Good day to stay in and read a book.\")\n",
    "    else:\n",
    "        print(\"How about a nice walk after work?\")"
   ]
  },
  {
   "cell_type": "markdown",
   "metadata": {},
   "source": [
    "## <span style=\"color:#4169E1\">User input</span>\n",
    "\n",
    "A program in Python can interact with the user using the [`input()`][magic] function. This function asks the user for input and returns the written answer as a string. \n",
    "\n",
    "[magic]: https://www.w3schools.com/python/ref_func_input.asp"
   ]
  },
  {
   "cell_type": "code",
   "execution_count": null,
   "metadata": {
    "tags": []
   },
   "outputs": [],
   "source": [
    "age = int(input(\"Enter your age: \"))\n",
    "\n",
    "if age >= 18:\n",
    "    print(\"You are an adult.\")\n",
    "else:\n",
    "    print(\"You are a minor.\")"
   ]
  },
  {
   "cell_type": "markdown",
   "metadata": {},
   "source": [
    "```{admonition} Why do we use the <code>int()</code> in the first line of the code-cell?\n",
    ":class: tip, dropdown\n",
    "<b> input() </b>: This function prompts the user for input, and whatever the user types is returned as a string by default.<br>\n",
    "    <b> int(input()) </b>: This converts the user's input (which is a string) into an integer. It is used when you expect a number to be entered. If the user types something that can't be converted to an integer, it will raise a <code>ValueError</code>. <br>\n",
    "    <b> Answer </b>: Therefore, we use <code>int(input()) </code>code, since we want the user to enter an integer. Moreover, we do not want to accept any other data type apart from integers.</code>\n",
    "```"
   ]
  },
  {
   "cell_type": "markdown",
   "metadata": {
    "tags": []
   },
   "source": [
    "## <span style=\"color:#3CB371\">Exercises</span>"
   ]
  },
  {
   "cell_type": "markdown",
   "metadata": {},
   "source": [
    "Let's practice! Mind that each exercise is designed with multiple levels to help you progressively build your skills. <span style=\"color:darkorange;\"><strong>Level 1</strong></span> is the foundational level, designed to be straightforward so that everyone can successfully complete it. In <span style=\"color:darkorange;\"><strong>Level 2</strong></span>, we step it up a notch, expecting you to use more complex concepts or combine them in new ways. Finally, in <span style=\"color:darkorange;\"><strong>Level 3</strong></span>, we get closest to exam level questions, but we may use some concepts that are not covered in this notebook. However, in programming, you often encounter situations where you’re unsure how to proceed. Fortunately, you can often solve these problems by starting to work on them and figuring things out as you go. Practicing this skill is extremely helpful, so we highly recommend completing these exercises.\n",
    "\n",
    "For each of the exercises, make sure to add `type hints`,  and `docstrings` (if applicable), moreover **do not** import any libraries unless specified otherwise. \n",
    "<br>"
   ]
  },
  {
   "cell_type": "markdown",
   "metadata": {},
   "source": [
    "### Exercise 1\n",
    "\n",
    "<span style=\"color:darkorange;\"><strong>Level 1</strong>:</span> Using `input()`, ask the user of your program to enter an integer number and checks whether it is a multiple of 6, 8, or both. You can assume that the input is a valid positive integer. The program should output a message using an **f-string** to indicate the result.\n",
    "\n",
    "<img src=\"assets/divide.jpg\" width=200 height=350>\n",
    "\n",
    "**Example 1 input:**\n",
    "```python\n",
    "user_input: int = 24  # note that 24 is the obtained value from the user input\n",
    "```\n",
    "\n",
    "\n",
    "**Example 1 output:**\n",
    "\n",
    "```python\n",
    "\"The number 24 is a multiple of both 6 and 8.\"\n",
    "```\n",
    "\n",
    "**Example 2 input:**\n",
    "```python\n",
    "user_input: int = 16  # note that 16 is the obtained value from the user input\n",
    "```\n",
    "\n",
    "**Example 2 output:**\n",
    "\n",
    "```python\n",
    "\"The number 16 is a multiple of 8 but not of 6.\"\n",
    "\n",
    "```"
   ]
  },
  {
   "cell_type": "code",
   "execution_count": null,
   "metadata": {},
   "outputs": [],
   "source": [
    "# TODO."
   ]
  },
  {
   "cell_type": "markdown",
   "metadata": {},
   "source": [
    "<span style=\"color:darkorange;\"><strong>Level 2</strong>:</span> Write a script that asks the user to enter a number representing the current temperature in Celsius, then converts it to Fahrenheit. Based on the converted temperature, give a recommendation on whether the user should wear a jacket.\n",
    "\n",
    "Follow these steps:\n",
    "\n",
    "- Convert the Celsius input to Fahrenheit using this formula: F = (C * 9/5) + 32.\n",
    "- If the Fahrenheit temperature is below 50°F, print: `It’s pretty cold! Definitely wear a jacket.`\n",
    "- If it’s between 50°F and 68°F (inclusive), print: `It’s cool out. A light jacket is a good idea.`\n",
    "- If it’s above 68°F, print: `It’s warm enough. No jacket needed!`\n",
    "\n",
    "Be sure to include exception handling to catch cases where the user enters something that’s not a number. If that happens, print: `Invalid input. Please enter a numeric value for the temperature.`\n",
    "\n",
    "<img src=\"assets/celsius.jpg\" width=400 height=300>\n",
    "\n",
    "\n",
    "**Example input:**\n",
    "```python\n",
    "Enter the temperature using Celsius: -5\n",
    "```\n",
    "\n",
    "**Example output:**\n",
    "\n",
    "```python\n",
    "'It’s pretty cold! Definitely wear a jacket.'\n",
    "```"
   ]
  },
  {
   "cell_type": "code",
   "execution_count": null,
   "metadata": {},
   "outputs": [],
   "source": [
    "# TODO."
   ]
  },
  {
   "cell_type": "markdown",
   "metadata": {},
   "source": [
    "<span style=\"color:darkorange;\"><strong>Level 3</strong>:</span> Write a function called `is_prime_number()` that:\n",
    "\n",
    "1) Prompts the user to input a number.\n",
    "2) Checks if the number is prime.\n",
    "3) If the number is prime, print \"The number is prime!\".\n",
    "4) If the number is not prime, print \"The number is not prime!\".\n",
    "\n",
    "**Hint:**\n",
    "A number is prime if it is greater than 1 and has no divisors other than 1 and itself.\n",
    "\n",
    "\n",
    "**Example input:**\n",
    "```python\n",
    "Enter a number: 29\n",
    "```\n",
    "\n",
    "**Example output:**\n",
    "\n",
    "```python\n",
    "'The number is prime!'\n",
    "```"
   ]
  },
  {
   "cell_type": "code",
   "execution_count": null,
   "metadata": {},
   "outputs": [],
   "source": [
    "# TODO."
   ]
  },
  {
   "cell_type": "markdown",
   "metadata": {},
   "source": [
    "### Exercise 2\n",
    "\n",
    "<span style=\"color:darkorange;\"><strong>Level 1</strong>:</span> Write a program that prints `“Hello World”` if both of the following conditions are met:\n",
    "\n",
    "1. The variable `a` is greater than the variable `b`.\n",
    "2. The variable `a` is an even number.\n",
    "\n",
    "If either condition is not met, print `“Bye World”` instead.\n",
    "\n",
    "**Example input:**\n",
    "```python\n",
    "a: int = 26\n",
    "b: int = 20\n",
    "```\n",
    "\n",
    "\n",
    "**Example output:**\n",
    "\n",
    "```python\n",
    "'Hello World'\n",
    "```"
   ]
  },
  {
   "cell_type": "code",
   "execution_count": null,
   "metadata": {},
   "outputs": [],
   "source": [
    "# TODO."
   ]
  },
  {
   "cell_type": "markdown",
   "metadata": {},
   "source": [
    "<span style=\"color:darkorange;\"><strong>Level 2</strong>:</span> Imagine that ChatGPT can handle different types of conversation topics. Create a function `chatgpt_topic_assist()` that takes three integer parameters:\n",
    "\n",
    "1) seriousness (1-10): how serious the conversation is (1 is very casual, 10 is very serious).<br> \n",
    "2) length (in minutes): how long the conversation is expected to last).<br>\n",
    "3) randomness (1-10): how random the conversation is (1 is very structured, 10 is very unpredictable).<br>\n",
    "\n",
    "The function should classify ChatGPT's \"conversation type\" based on these inputs:\n",
    "\n",
    "- \"Deep philosophical debate\" if seriousness >= 8 and length > 30 and randomness <= 3.<br>\n",
    "- \"Casual chit-chat\" if seriousness <= 3 and length <= 15.<br>\n",
    "- \"Creative brainstorming\" if randomness >= 7 and length > 20.<br>\n",
    "- \"Focused technical discussion\" if seriousness >= 7 and randomness <= 4 and length <= 30.<br>\n",
    "\n",
    "Otherwise, return \"General conversation\".\n",
    "\n",
    "Add checks to ensure seriousness, length, and randomness fall within the appropriate ranges, and return \"Invalid input\" if they don't.\n",
    "\n",
    "**Example input:**\n",
    "```python\n",
    "\n",
    "seriousness: int  = 9\n",
    "length: int = 45\n",
    "randomness: int = 2\n",
    "\n",
    "```\n",
    "\n",
    "**Example output:**\n",
    "\n",
    "```python\n",
    "'Deep philosophical debate'"
   ]
  },
  {
   "cell_type": "code",
   "execution_count": null,
   "metadata": {},
   "outputs": [],
   "source": [
    "# TODO."
   ]
  },
  {
   "cell_type": "markdown",
   "metadata": {},
   "source": [
    "<span style=\"color:darkorange;\"><strong>Level 3</strong>:</span> Create a Python function called `guess_number()` that implements a number guessing game with a maximum of 3 attempts. The function should:\n",
    "\n",
    "1) Generate a Random Number: Use the random module to generate a random integer between 1 and 10 (inclusive) - info about the random module [here][magic].\n",
    "2) Allow Multiple Attempts: The user has a maximum of 3 guesses to find the correct number.\n",
    "3) Ask for User Input: Prompt the user to guess the number.\n",
    "4) Check the Guess: Compare the user's guess to the generated number.\n",
    "    - If the guess is correct, print a congratulatory message. (<code> 'Congratulations! You guessed the correct number.'</code>)\n",
    "    - If the guess is incorrect, print a message indicating whether the guess was too high or too low. (<code>'Too high/low! Try again.'</code>)\n",
    "\n",
    "After the maximum number of attempts is reached, reveal the correct number and inform the user they have run out of attempts. (<code>'Better luck next time, you guessed too high/low and ran out of attempts. The correct number was x.'</code>)\n",
    "\n",
    "**Example input:**\n",
    "```python\n",
    "\n",
    "Guess a number between 1 and 10: 3\n",
    "\n",
    "Guess a number between 1 and 10: 8\n",
    "\n",
    "Guess a number between 1 and 10: 7\n",
    "\n",
    "```\n",
    "\n",
    "**Example output:**\n",
    "\n",
    "```python\n",
    "'Too low! Try again.'\n",
    "'Too high! Try again.'\n",
    "'Congratulations! You guessed the correct number.'\n",
    "\n",
    "\n",
    "```\n",
    "[magic]: https://docs.python.org/3/library/random.html"
   ]
  },
  {
   "cell_type": "code",
   "execution_count": null,
   "metadata": {},
   "outputs": [],
   "source": [
    "# TODO."
   ]
  },
  {
   "cell_type": "markdown",
   "metadata": {},
   "source": [
    "### Exercise 3\n",
    "\n",
    "<span style=\"color:darkorange;\"><strong>Level 1</strong>:</span> Write a script that asks the user to rate a restaurant between 0 and 5. Depending on the rating, the program should give a specific recommendation. Here are the rating categories and the corresponding messages:\n",
    "\n",
    "- If the rating falls between 3.5 (inclusive) and 5 (inclusive), print: `Definitely worth your time! Give it a go.`\n",
    "- If the rating is between 2.5 (inclusive) and 3.5 (exclusive), print: `It’s probably worth a shot.`\n",
    "- If the rating is less than 2.5 (exclusive), print: `You might want to consider other options.`\n",
    "\n",
    "Ensure your program handles the ratings appropriately and uses **f-strings** for output if needed.  \n",
    "\n",
    "**Hint:**\n",
    "Think about wether you should use `int(input())` or just `input()`. Which one would allow you to deal with both floats and integers?\n",
    "\n",
    "\n",
    "**Example input:**\n",
    "```python\n",
    "rating_restaurant: float = 4.6  # note that 4.6 is the obtained value from the user input\n",
    "```\n",
    "\n",
    "\n",
    "**Example output:**\n",
    "\n",
    "```python\n",
    "'Definitely worth your time! Give it a go.'\n",
    "```"
   ]
  },
  {
   "cell_type": "code",
   "execution_count": null,
   "metadata": {},
   "outputs": [],
   "source": [
    "# TODO."
   ]
  },
  {
   "cell_type": "markdown",
   "metadata": {},
   "source": [
    "<span style=\"color:darkorange;\"><strong>Level 2</strong>:</span> Write a function called `basic_calculator()` that:\n",
    "\n",
    "1) Prompts the user for two numbers.\n",
    "2) Prompts the user to choose an operation: addition (+), subtraction (-), multiplication (*), or division (/).\n",
    "3) Uses conditionals to determine which arithmetic operation to perform.\n",
    "4) Performs the chosen arithmetic operation on the two numbers.\n",
    "5) Returns the result of the operation.\n",
    "6) If the user enters an invalid operation, it should print an error message.\n",
    "\n",
    "**Example input:**\n",
    "```python\n",
    "Enter the first number: 10\n",
    "Enter the second number: 5\n",
    "Choose an operation (+, -, *, /): *\n",
    "```\n",
    "\n",
    "**Example output:**\n",
    "\n",
    "```python\n",
    "'The result is: 50'\n",
    "```"
   ]
  },
  {
   "cell_type": "code",
   "execution_count": null,
   "metadata": {},
   "outputs": [],
   "source": [
    "# TODO."
   ]
  },
  {
   "cell_type": "markdown",
   "metadata": {},
   "source": [
    "<span style=\"color:darkorange;\"><strong>Level 3</strong>:</span> Write a function called <code>custom_leap_year_validator()</code> that takes 1 parameter (<code>year</code>) and checks whether the given year is a leap year based on the following custom rules:\n",
    "\n",
    "1. A year is a leap year if:\n",
    "   - It is divisible by 4 **but** not divisible by 100, **or**\n",
    "   - It is divisible by 400, **and**\n",
    "   - It is **not** divisible by 3200.\n",
    "<br>\n",
    "2. Additionally, for years divisible by 2000:\n",
    "   - The year is **not** a leap year, even if it satisfies the above conditions.\n",
    "\n",
    "<br>\n",
    "\n",
    "Return `True` if the year is a leap year, and `False` otherwise.\n",
    "\n",
    "\n",
    "**Example inputs**: you pass this in a function call.\n",
    "\n",
    "```python\n",
    "custom_leap_year_validator(2024)\n",
    "custom_leap_year_validator(2100)\n",
    "custom_leap_year_validator(2000)\n",
    "custom_leap_year_validator(2400)\n",
    "custom_leap_year_validator(2404)\n",
    "\n",
    "```\n",
    "\n",
    "**Example output**:\n",
    "```python\n",
    "True (leap year)\n",
    "False (not a leap year)\n",
    "False (because of the special rule for divisible by 2000)\n",
    "False (divisible by 100)\n",
    "True (leap year)\n",
    "```\n",
    "[magic]:https://www.youtube.com/watch?v=SjSHVDfXHQ4"
   ]
  },
  {
   "cell_type": "code",
   "execution_count": null,
   "metadata": {},
   "outputs": [],
   "source": [
    "# TODO."
   ]
  },
  {
   "cell_type": "markdown",
   "metadata": {},
   "source": [
    "___________________________________________________________________________________________________________________________\n",
    "\n",
    "*Material for the VU Amsterdam course “Introduction to Python Programming” for BSc Artificial Intelligence students. These notebooks are created using the following sources:*\n",
    "1. [Learning Python by Doing][learning python]: This book, developed by teachers of TU/e Eindhoven and VU Amsterdam, is the main source for the course materials. Code snippets or text explanations from the book may be used in the notebooks, sometimes with slight adjustments.\n",
    "2. [Think Python][think python]\n",
    "3. [GeekForGeeks][geekforgeeks]\n",
    "\n",
    "[learning python]: https://programming-pybook.github.io/introProgramming/intro.html\n",
    "[think python]: https://greenteapress.com/thinkpython2/html/\n",
    "[geekforgeeks]: https://www.geeksforgeeks.org"
   ]
  }
 ],
 "metadata": {
  "kernelspec": {
   "display_name": "Python 3 (ipykernel)",
   "language": "python",
   "name": "python3"
  },
  "language_info": {
   "codemirror_mode": {
    "name": "ipython",
    "version": 3
   },
   "file_extension": ".py",
   "mimetype": "text/x-python",
   "name": "python",
   "nbconvert_exporter": "python",
   "pygments_lexer": "ipython3",
   "version": "3.11.4"
  },
  "vscode": {
   "interpreter": {
    "hash": "9451767feaf7925185bf37009af3205aec0103dc88a66dc09d267eb54aa4b1c3"
   }
  }
 },
 "nbformat": 4,
 "nbformat_minor": 4
}

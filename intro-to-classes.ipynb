{
 "cells": [
  {
   "cell_type": "markdown",
   "id": "a0c4df2e-070d-45c9-a1a2-f6673f2b984b",
   "metadata": {},
   "source": [
    "# Intro to Classes"
   ]
  },
  {
   "cell_type": "markdown",
   "id": "d23f3f99-cdbc-492d-976c-bc7328640ad9",
   "metadata": {},
   "source": [
    "**In this notebook, we cover the following subjects:**\n",
    "- What is a `class`,\n",
    "- The `__init__()` method,\n",
    "- The `__str__()` method\n",
    "___________________________________________________________________________________________________________________________"
   ]
  },
  {
   "cell_type": "code",
   "execution_count": 3,
   "id": "8596247a-1a24-4eb9-90dd-258d398ed03f",
   "metadata": {},
   "outputs": [],
   "source": [
    "# To enable type hints for lists, dicts, and tuples, we need to import the following:\n",
    "from typing import List, Dict, Tuple"
   ]
  },
  {
   "cell_type": "markdown",
   "id": "c9127e9e-2cbb-4f2c-a25d-bd03f0b9bcd8",
   "metadata": {},
   "source": [
    "In this notebook, we're diving into something that will take your programming skills to the next level: **[Object-Oriented Programming (OOP)][o] with [classes][c]**!\n",
    "\n",
    "Object-Oriented Programming (OOP) is a programming paradigm that helps you structure your code by grouping related properties and behaviors into individual objects. OOP makes it easier to model real-world things in code, reuse components, and manage complexity. In Python, `classes` are the foundation of OOP, allowing you to create your own custom objects that have both data (attributes) and behaviors (methods).\n",
    "\n",
    "You've already learned so much about Python—functions, variables, loops, and data structures. Now, we're going to bring all of that knowledge together in a new and exciting way. **Classes** are a fundamental part of Object-Oriented Programming (OOP) and will help you organize your code, making it easier to work with and more powerful. Think of classes as blueprints. Just like how a blueprint of a house lets you create many houses, a class in Python lets you create many similar objects.\n",
    "\n",
    "Let's start by understanding what a class is.\n",
    "\n",
    "\n",
    "[o]: https://www.geeksforgeeks.org/python-oops-concepts/\n",
    "\n",
    "\n",
    "[c]: https://www.geeksforgeeks.org/python-classes-and-objects/"
   ]
  },
  {
   "cell_type": "markdown",
   "id": "8754baf7-cad7-402a-b2f8-6042a1797a0b",
   "metadata": {},
   "source": [
    "## <span style=\"color:#4169E1\">What is a `class`</span>"
   ]
  },
  {
   "cell_type": "markdown",
   "id": "76735122-cba6-4674-92a3-c58182937b9b",
   "metadata": {},
   "source": [
    "A **class** is like a template or a recipe for creating things in Python. These \"things\" are called **objects**. Imagine you want to describe a cat. You could describe it by its color, age, name, and personality. Instead of describing each cat over and over again, you can create a class called `Cat` that defines these attributes, and then use it to make individual cats. Let's see this in action!"
   ]
  },
  {
   "cell_type": "markdown",
   "id": "3e4f2ca5-1387-4f59-aa5e-89cc184038fe",
   "metadata": {},
   "source": [
    "#### <span style=\"color:#B22222\">Defining a `class`</span>"
   ]
  },
  {
   "cell_type": "markdown",
   "id": "e4ee1064-6cb0-4c7a-a40c-13892171694a",
   "metadata": {},
   "source": [
    "Here, we'll define a class called `Cat`. \n",
    "\n",
    "```python\n",
    "class Cat:\n",
    "    pass\n",
    "```\n",
    "\n",
    "This is the most basic form of a class. The keyword `class` is used to create it, and `Cat` is the name we chose. The keyword `pass` just means \"do nothing\" for now. This is a placeholder.\n",
    "\n",
    "But... a class without any features isn't very interesting, right? Let's make it more useful!"
   ]
  },
  {
   "cell_type": "markdown",
   "id": "74adc6e7-e169-45f7-896a-7b9c6cd0b6d7",
   "metadata": {},
   "source": [
    "#### <span style=\"color:#B22222\">The `__init__()` Method</span>"
   ]
  },
  {
   "cell_type": "markdown",
   "id": "48b6c509-c1b8-4835-acb3-95a7289e435c",
   "metadata": {},
   "source": [
    "```python\n",
    "class Cat:\n",
    "    def __init__(self, name:str, age:int) -> None:\n",
    "        self.name = name  # This assigns the name to the cat (attribute)\n",
    "        self.age = age    # This assigns the age to the cat (attribute)\n",
    "```\n",
    "\n",
    "Here's what's happening:\n",
    "- [`__init__()`][i] is a special method called a **constructor**.\n",
    "- `self` is like the cat itself. It's a reference to the object we are creating.\n",
    "- `name` and `age` are the things we want to store about each cat (attributes of a cat).\n",
    "- `self.name = name` stores the `name` given to the `Cat` object (same with the age).\n",
    "\n",
    "Let’s make our first cat!\n",
    "\n",
    "[i]: https://www.geeksforgeeks.org/__init__-in-python/"
   ]
  },
  {
   "cell_type": "code",
   "execution_count": 11,
   "id": "ad38ed53-32f9-432c-a478-59356e178680",
   "metadata": {},
   "outputs": [
    {
     "name": "stdout",
     "output_type": "stream",
     "text": [
      "<__main__.Cat object at 0x000001BF9CFB9BD0>\n"
     ]
    }
   ],
   "source": [
    "class Cat:\n",
    "    def __init__(self, name:str, age:int) -> None:\n",
    "        self.name = name\n",
    "        self.age = age\n",
    "\n",
    "\n",
    "my_cat: Cat = Cat(\"Whiskers\", 3)\n",
    "print(my_cat)"
   ]
  },
  {
   "cell_type": "markdown",
   "id": "5ab0e117-35f4-4ba0-919b-8e72b3c67a8c",
   "metadata": {},
   "source": [
    "This looks a bit weird, right? That's because Python doesn't know how to nicely print out your `Cat` object yet. By default, it just shows you the class name (Cat) and where it's stored in memory (0x000002630A190A10).\n",
    "\n",
    "Let's check out two ways to print it nicely. For instance, we could do something like this:"
   ]
  },
  {
   "cell_type": "code",
   "execution_count": 13,
   "id": "ad1cbf18-9d72-48de-bfbe-6f9468a5c18a",
   "metadata": {},
   "outputs": [
    {
     "name": "stdout",
     "output_type": "stream",
     "text": [
      "My cat's name is Whiskers and it is 3 years old.\n"
     ]
    }
   ],
   "source": [
    "print(f\"My cat's name is {my_cat.name} and it is {my_cat.age} years old.\")"
   ]
  },
  {
   "cell_type": "markdown",
   "id": "de83b865-c764-49b6-94e3-dd350bea4e5f",
   "metadata": {},
   "source": [
    "Way better right? But what's happening here?\n",
    "\n",
    "Instead of printing the whole object (my_cat) directly, we used its **attributes** (name and age) to create a friendly sentence.\n",
    "\n",
    "`my_cat.name` is accessing the name we gave our cat (which is \"Whiskers\").\n",
    "`my_cat.age` is getting the age we set (which is 3)."
   ]
  },
  {
   "cell_type": "markdown",
   "id": "3a97b006-59b2-43d7-883b-e702b43abfe2",
   "metadata": {},
   "source": [
    "But why does this work?\n",
    "\n",
    "In Python, every time we use the dot (`'.'`) (like my_cat.name), you're telling Python to reach into your Cat object and get a specific piece of information. **This is called accessing an attribute.**\n",
    "\n",
    "So, while printing the object (my_cat) by itself looks weird because Python doesn’t know how to display it nicely, using its attributes gives you more control over what gets printed."
   ]
  },
  {
   "cell_type": "markdown",
   "id": "be7f7515-c86b-4dec-812f-440d599342d9",
   "metadata": {},
   "source": [
    "Remember I told you will will check 2 different ways to print our cat nicely? Well, I do! So here is the 2nd option."
   ]
  },
  {
   "cell_type": "markdown",
   "id": "368c9972-2542-4f07-9a31-3d6e691b0b15",
   "metadata": {},
   "source": [
    "```{note}\n",
    "When you define a new <code>class</code>, make sure that the name of the class (like Cat) starts with a <b>capital letter</b> (C in this case).\n",
    "```"
   ]
  },
  {
   "cell_type": "markdown",
   "id": "922c9dd2-b21e-404a-bb61-a6419200e259",
   "metadata": {},
   "source": [
    "#### <span style=\"color:#B22222\">The `__str__()` Method</span>"
   ]
  },
  {
   "cell_type": "markdown",
   "id": "aded677f-6b1e-4695-9dde-9d6d4ea1c2f9",
   "metadata": {},
   "source": [
    "Instead of printing the attributes manually every time, we can \"teach\" Python how to print our Cat objects automatically by adding a [`__str__()`][s] method. The `__str__()` method is a special method that tells Python how to represent an object as a string. By default, if you print an object without defining `__str__()`, you get a message like `<__main__.Cat object at 0x000002>`, which is not very informative (as we have seen). The `__str__()` method allows you to define a meaningful, human-readable string that describes the object in a clear way.\n",
    "\n",
    "Here's how it works:\n",
    "- `__str__()` is called automatically when you use the `print()` function on an object that has a `__str__()` defined, or when you try to convert an object to a string using `str()`. \n",
    "- Inside the `__str__()` method, you need to return a string that represents the object in the way you want it to appear.\n",
    "\n",
    "Let’s add it to our `Cat` class to see how it improves the output.\n",
    "\n",
    "[s]: https://www.digitalocean.com/community/tutorials/python-str-repr-functions"
   ]
  },
  {
   "cell_type": "code",
   "execution_count": 19,
   "id": "ed5ee943-4828-4e8c-bb79-e6c213eadd9e",
   "metadata": {},
   "outputs": [],
   "source": [
    "class Cat:\n",
    "    \"\"\"\n",
    "    A class to represent a cat.    \n",
    "    Attributes:\n",
    "        name : str ->The name of the cat.\n",
    "        age : int -> The age of the cat.\n",
    "    Methods:\n",
    "        __str__() -> Returns a string representation of the cat.\n",
    "    \"\"\"\n",
    "\n",
    "    def __init__(self, name: str, age: int) -> None:\n",
    "        self.name = name\n",
    "        self.age = age\n",
    "        \n",
    "    def __str__(self) -> str:\n",
    "        return f\"Cat named {self.name} who is {self.age} years old.\"\n"
   ]
  },
  {
   "cell_type": "markdown",
   "id": "38d11f60-2eb4-462f-a203-d7972eb52cb3",
   "metadata": {},
   "source": [
    "Now, when we print `my_cat`, it will look much nicer:"
   ]
  },
  {
   "cell_type": "code",
   "execution_count": 28,
   "id": "7b01064c-331f-4aa1-a929-27bc03be2a74",
   "metadata": {},
   "outputs": [
    {
     "name": "stdout",
     "output_type": "stream",
     "text": [
      "Cat named Whiskers who is 3 years old.\n"
     ]
    }
   ],
   "source": [
    "my_cat = Cat(\"Whiskers\", 3)\n",
    "print(my_cat)"
   ]
  },
  {
   "cell_type": "markdown",
   "id": "b17d62e3-10e8-48c1-bb86-1c544c7499b3",
   "metadata": {},
   "source": [
    "```{note}\n",
    "Remember, you need to add <b>typehints</b> and <b>docstrings</b> to classes as well. This means that bellow the class definition there should be a docstring (see code above) and all other methods inside the class must only have typehints.\n",
    "```"
   ]
  },
  {
   "cell_type": "markdown",
   "id": "18d8aab2-f146-40c5-9243-a9f9d5b231ce",
   "metadata": {},
   "source": [
    "#### <span style=\"color:#B22222\">A few more example `classes`</span>"
   ]
  },
  {
   "cell_type": "markdown",
   "id": "f1764d9f-a181-4ce9-a776-df28a26fba4e",
   "metadata": {},
   "source": [
    "In this example, we'll define a `Panda class`. We'll use the` __str__()` method to format a readable message about the panda, including its favorite food and activity."
   ]
  },
  {
   "cell_type": "code",
   "execution_count": 33,
   "id": "01f16f63-fedf-4c3f-a332-3cd730b8eef1",
   "metadata": {},
   "outputs": [
    {
     "name": "stdout",
     "output_type": "stream",
     "text": [
      "Bao Bao is a 5-year-old panda who loves eating bamboo shoots.\n"
     ]
    }
   ],
   "source": [
    "class Panda:\n",
    "    \"\"\"\n",
    "    A class to represent a panda.\n",
    "    \n",
    "    Attributes:\n",
    "        name (str): The name of the panda.\n",
    "        age (int): The age of the panda.\n",
    "        favorite_food (str): The panda's favorite food.\n",
    "    \"\"\"\n",
    "    def __init__(self, name: str, age: int, favorite_food: str) -> None:\n",
    "        self.name = name\n",
    "        self.age = age\n",
    "        self.favorite_food = favorite_food\n",
    "\n",
    "    def __str__(self) -> str:\n",
    "        return f\"{self.name} is a {self.age}-year-old panda who loves eating {self.favorite_food}.\"\n",
    "\n",
    "# Creating an instance of Panda\n",
    "panda1 = Panda(\"Bao Bao\", 5, \"bamboo shoots\")\n",
    "print(panda1)\n"
   ]
  },
  {
   "cell_type": "markdown",
   "id": "65a30840-394d-4758-ac9d-b627da024570",
   "metadata": {},
   "source": [
    "Explanation:\n",
    "\n",
    "We created a Panda class with **attributes**: \n",
    "- name\n",
    "- age\n",
    "- and favorite_food.\n",
    "\n",
    "The `__str__()` method returns a sentence that includes all these details.\n",
    "\n",
    "Let's see one more example:"
   ]
  },
  {
   "cell_type": "markdown",
   "id": "d0bce71e-4851-44be-bb89-0df48681b886",
   "metadata": {},
   "source": [
    "Now let's create a `Jungle class`. This one will be a bit different: it will describe the jungle by listing the types of animals and the number of trees in it. We'll use the `__str__()` method to format this information in a more structured way."
   ]
  },
  {
   "cell_type": "code",
   "execution_count": 43,
   "id": "47b3654b-9c2a-4b34-9d65-4e11896c61c2",
   "metadata": {},
   "outputs": [
    {
     "name": "stdout",
     "output_type": "stream",
     "text": [
      "Welcome to the Amazon Jungle!\n",
      "Animals here: tigers, monkeys, parrots.\n",
      "Number of trees: 15000.\n"
     ]
    }
   ],
   "source": [
    "class Jungle:\n",
    "    \"\"\"\n",
    "    A class to represent a jungle.\n",
    "    \n",
    "    Attributes:\n",
    "        name (str): The name of the jungle.\n",
    "        animals (list[str]): A list of animal species found in the jungle.\n",
    "        tree_count (int): The number of trees in the jungle.\n",
    "    \"\"\"\n",
    "    def __init__(self, name: str, animals: list, tree_count: int) -> None:\n",
    "        self.name = name\n",
    "        self.animals = animals\n",
    "        self.tree_count = tree_count\n",
    "\n",
    "    def __str__(self) -> str:\n",
    "        animal_list = \", \".join(self.animals)\n",
    "        return (f\"Welcome to the {self.name} Jungle!\\n\"\n",
    "                f\"Animals here: {animal_list}.\\n\"\n",
    "                f\"Number of trees: {self.tree_count}.\")\n",
    "\n",
    "jungle1 = Jungle(\"Amazon\", [\"tigers\", \"monkeys\", \"parrots\"], 15000)\n",
    "print(jungle1)\n"
   ]
  },
  {
   "cell_type": "markdown",
   "id": "0b13b68e-6abf-46c3-8b95-62b9ed471ffb",
   "metadata": {},
   "source": [
    "Explanation:\n",
    "\n",
    "This Jungle class includes **attributes**: \n",
    "- name\n",
    "- animals (a list)\n",
    "- and tree_count\n",
    "\n",
    "The `__str__()` method combines the attributes into a multi-line string for a nice, clear description."
   ]
  },
  {
   "cell_type": "markdown",
   "id": "74f9dff5-0762-4795-9ed4-164af1de1a80",
   "metadata": {},
   "source": [
    "That's it about classes for now. Let's Practice!"
   ]
  },
  {
   "cell_type": "markdown",
   "id": "f6f641fb-7b81-4ec0-9d37-2b231214f665",
   "metadata": {},
   "source": [
    "## <span style=\"color:#3CB371\">Exercises</span>"
   ]
  },
  {
   "cell_type": "markdown",
   "id": "8d2eb154-6ccb-4273-9acf-05fd77379d3a",
   "metadata": {},
   "source": [
    "Let's practice! Mind that each exercise is designed with multiple levels to help you progressively build your skills. <span style=\"color:darkorange;\"><strong>Level 1</strong></span> is the foundational level, designed to be straightforward so that everyone can successfully complete it. In <span style=\"color:darkorange;\"><strong>Level 2</strong></span>, we step it up a notch, expecting you to use more complex concepts or combine them in new ways. Finally, in <span style=\"color:darkorange;\"><strong>Level 3</strong></span>, we get closest to exam level questions, but we may use some concepts that are not covered in this notebook. However, in programming, you often encounter situations where you’re unsure how to proceed. Fortunately, you can often solve these problems by starting to work on them and figuring things out as you go. Practicing this skill is extremely helpful, so we highly recommend completing these exercises.\n",
    "\n",
    "For each of the exercises, make sure to add a `docstring` and `type hints`, and **do not** import any libraries unless specified otherwise.\n",
    "<br>"
   ]
  },
  {
   "cell_type": "markdown",
   "id": "d7c40cfa-fcb5-49ec-b701-94ba61ec75d4",
   "metadata": {},
   "source": [
    "### Exercise 1\n",
    "\n",
    "<span style=\"color:darkorange;\"><strong>Level 1</strong>:</span> Create a `Book class` with attributes for `title`, `author`, and `year`. Implement the `__str__()` method to print the book details in a readable format.\n",
    "**Example input**:\n",
    "```python\n",
    "book1: Book = Book(\"To Kill a Mockingbird\", \"Harper Lee\", 1960)\n",
    "\n",
    "```\n",
    "\n",
    "**Example output**:\n",
    "```python\n",
    "\"To Kill a Mockingbird\" by Harper Lee (1960)\n",
    "```"
   ]
  },
  {
   "cell_type": "code",
   "execution_count": 58,
   "id": "0d994faa-2e6b-40b4-a1c2-73c277fc43dc",
   "metadata": {},
   "outputs": [],
   "source": [
    "# TODO."
   ]
  },
  {
   "cell_type": "markdown",
   "id": "dec2ace6-857b-4805-ad29-76a85cb7bccc",
   "metadata": {},
   "source": [
    "<span style=\"color:darkorange;\"><strong>Level 2</strong>:</span> Extend your class to handle a **list of books**. Create a list of `Book objects` and write a function that loops over theese objects and prints out the details of each book.\n",
    "\n",
    "**Example input**:\n",
    "```python\n",
    "books: List[Book] = [\n",
    "    Book(\"1984\", \"George Orwell\", 1949),\n",
    "    Book(\"Pride and Prejudice\", \"Jane Austen\", 1813),\n",
    "    Book(\"The Great Gatsby\", \"F. Scott Fitzgerald\", 1925)\n",
    "]\n",
    "\n",
    "```\n",
    "\n",
    "**Example output**:\n",
    "```python\n",
    "\"1984\" by George Orwell (1949)\n",
    "\"Pride and Prejudice\" by Jane Austen (1813)\n",
    "\"The Great Gatsby\" by F. Scott Fitzgerald (1925)\n",
    "\n",
    "```"
   ]
  },
  {
   "cell_type": "code",
   "execution_count": 61,
   "id": "52d4d434-4e51-4bbb-8553-3675900d2d37",
   "metadata": {},
   "outputs": [],
   "source": [
    "# TODO."
   ]
  },
  {
   "cell_type": "markdown",
   "id": "bceae3a3-2234-4186-9513-b0f7fd9da262",
   "metadata": {},
   "source": [
    "<span style=\"color:darkorange;\"><strong>Level 3</strong>:</span>  Add a feature to your `Book class` to store a **list of keywords** for each book. Modify the `__str__()` method to include these keywords **if** they are available. If no keyword is available, add `None`.\n",
    "\n",
    "**Example input**:\n",
    "```python\n",
    "book2: Book = Book(\"Brave New World\", \"Aldous Huxley\", 1932, [\"dystopia\", \"science fiction\", \"totalitarianism\"])\n",
    "\n",
    "```\n",
    "\n",
    "**Example output**:\n",
    "```python\n",
    "\"Brave New World\" by Aldous Huxley (1932) - Keywords: dystopia, science fiction, totalitarianism\n",
    "\n",
    "```"
   ]
  },
  {
   "cell_type": "code",
   "execution_count": 63,
   "id": "6fa67040-c575-4f1a-87bb-86de23e85e81",
   "metadata": {},
   "outputs": [],
   "source": [
    "# TODO."
   ]
  },
  {
   "cell_type": "markdown",
   "id": "687bb9f1-4497-4300-9c74-20c345c535b1",
   "metadata": {},
   "source": [
    "### Exercise 2\n",
    "\n",
    "<span style=\"color:darkorange;\"><strong>Level 1</strong>:</span> Create a `Recipe class` with attributes for `name`, `ingredients` (a list), and `time` (in minutes). Implement the `__str__()` method to print the recipe details in a readable format.\n",
    "    \n",
    "**Example input**:\n",
    "```python\n",
    "recipe1: Recipe = Recipe(\"Pasta Carbonara\", [\"pasta\", \"eggs\", \"cheese\", \"bacon\"], 20)\n",
    "\n",
    "```\n",
    "\n",
    "**Example output**:\n",
    "```python\n",
    "Pasta Carbonara (20 mins) - Ingredients: pasta, eggs, cheese, bacon\n",
    "\n",
    "```"
   ]
  },
  {
   "cell_type": "code",
   "execution_count": null,
   "id": "f351f31f-67e7-46e1-9c3d-4837640acb6d",
   "metadata": {},
   "outputs": [],
   "source": [
    "# TODO."
   ]
  },
  {
   "cell_type": "markdown",
   "id": "5699f471-755d-4992-ae09-0f3eb01855cd",
   "metadata": {},
   "source": [
    "<span style=\"color:darkorange;\"><strong>Level 2</strong>:</span> Write a program that takes a **list** of `Recipe objects` and prints only the recipes that can be prepared in **less than 30** minutes.\n",
    "\n",
    "**Example input**:\n",
    "```python\n",
    "recipes: List[Recipe] = [\n",
    "    Recipe(\"Salad\", [\"lettuce\", \"tomatoes\", \"cucumber\"], 10),\n",
    "    Recipe(\"Lasagna\", [\"pasta\", \"cheese\", \"tomato sauce\", \"ground beef\"], 60),\n",
    "    Recipe(\"Omelette\", [\"eggs\", \"cheese\", \"ham\"], 15)\n",
    "]\n",
    "\n",
    "```\n",
    "\n",
    "**Example output**:\n",
    "```python\n",
    "Salad (10 mins) - Ingredients: lettuce, tomatoes, cucumber\n",
    "Omelette (15 mins) - Ingredients: eggs, cheese, ham\n",
    "\n",
    "```"
   ]
  },
  {
   "cell_type": "code",
   "execution_count": null,
   "id": "6355368b-0f6b-4add-9dbc-5c4a1ee782b2",
   "metadata": {},
   "outputs": [],
   "source": [
    "# TODO."
   ]
  },
  {
   "cell_type": "markdown",
   "id": "ae0dc975-fa56-48c5-b41f-1a2813277ab9",
   "metadata": {},
   "source": [
    "<span style=\"color:darkorange;\"><strong>Level 3</strong>:</span> Enhance the `Recipe class` to include a **difficulty level** (\"Easy\", \"Medium\", \"Hard\") based on the **number of ingredients**: \n",
    "- less than 4 ingredients is \"Easy\"\n",
    "- 4-6 is \"Medium\"\n",
    "- and more than 6 is \"Hard\".\n",
    "\n",
    "Update the `__str__()` method to include this information.\n",
    "\n",
    "**Example input**:\n",
    "```python\n",
    "recipe2: Recipe = Recipe(\"Chocolate Cake\", [\"flour\", \"sugar\", \"eggs\", \"chocolate\", \"butter\", \"milk\"], 45)\n",
    "\n",
    "\n",
    "```\n",
    "\n",
    "**Example output**:\n",
    "```python\n",
    "Chocolate Cake (45 mins) - Ingredients: flour, sugar, eggs, chocolate, butter, milk (Difficulty: Medium)\r\n",
    "\n",
    "```"
   ]
  },
  {
   "cell_type": "code",
   "execution_count": null,
   "id": "ffeb7b00-c6b5-4ce9-adeb-ac7c11dfe963",
   "metadata": {},
   "outputs": [],
   "source": [
    "# TODO."
   ]
  },
  {
   "cell_type": "markdown",
   "id": "b9d60b33-979d-440e-9aa4-41941cbedbb9",
   "metadata": {},
   "source": [
    "### Exercise 3\n",
    "\n",
    "<span style=\"color:darkorange;\"><strong>Level 1</strong>:</span> Create a `Movie class` with attributes for `title`, `director`, and `actors` (a list). Implement the `__str__()` method to print the movie details in a readable format.\n",
    "\n",
    "\n",
    "**Example input**:\n",
    "```python\n",
    "movie1: Movie = Movie(\"Inception\", \"Christopher Nolan\", [\"Leonardo DiCaprio\", \"Joseph Gordon-Levitt\"])\n",
    "\n",
    "```\n",
    "\n",
    "**Example output**:\n",
    "```python\n",
    "\"Inception\" directed by Christopher Nolan. Starring: Leonardo DiCaprio, Joseph Gordon-Levitt\n",
    "\n",
    "```"
   ]
  },
  {
   "cell_type": "code",
   "execution_count": null,
   "id": "de28b663-0924-4a26-90d8-adf8fee51ae9",
   "metadata": {},
   "outputs": [],
   "source": [
    "# TODO."
   ]
  },
  {
   "cell_type": "markdown",
   "id": "f6d89420-b573-4b8e-bc3d-4a8b941bb3a2",
   "metadata": {},
   "source": [
    "<span style=\"color:darkorange;\"><strong>Level 2</strong>:</span> Create a list of `Movie objects` and make a function called `filter_by_director()` that takes as input a `director` (str) and filters out only the movies which were directed by that director. Print the filtered movies. \n",
    "\n",
    "\n",
    "**Example input**:\n",
    "```python\n",
    "movies: List[Movie] = [\n",
    "    Movie(\"Interstellar\", \"Christopher Nolan\", [\"Matthew McConaughey\", \"Anne Hathaway\"]),\n",
    "    Movie(\"Pulp Fiction\", \"Quentin Tarantino\", [\"John Travolta\", \"Uma Thurman\"]),\n",
    "    Movie(\"The Dark Knight\", \"Christopher Nolan\", [\"Christian Bale\", \"Heath Ledger\"])\n",
    "]\n",
    "\n",
    "director: str = 'Christopher Nolan'\n",
    "```\n",
    "\n",
    "**Example output**:\n",
    "```python\n",
    "\"Interstellar directed by Christopher Nolan. Starring: Matthew McConaughey, Anne Hathaway\"\n",
    "\"The Dark Knight\" directed by Christopher Nolan. Starring: Christian Bale, Heath Ledger\"\n",
    "\n",
    "```\n",
    "\n"
   ]
  },
  {
   "cell_type": "code",
   "execution_count": null,
   "id": "b997013b-cc56-40c8-a5aa-ca0d14a61a42",
   "metadata": {},
   "outputs": [],
   "source": [
    "# TODO."
   ]
  },
  {
   "cell_type": "markdown",
   "id": "cd699eb0-562f-4d2d-9fc5-25efee2f7f24",
   "metadata": {},
   "source": [
    "<span style=\"color:darkorange;\"><strong>Level 3</strong>:</span> Expand your `Movie class` to include more attributes and functionality. You'll be handling multiple movies and performing advanced filtering and grouping operations.\n",
    "\n",
    "Expand the Movie class to include the following **attributes**:\n",
    "\n",
    "- `title` (str): The name of the movie.\n",
    "- `director` (str): The director of the movie.\n",
    "- `actors` (list of str): A list of the main actors.\n",
    "- `release_year` (int): The year the movie was released.\n",
    "- `genre` (str): The genre of the movie.\n",
    "- `ratings` (list of float): A list of ratings from different critics (values between 1 and 10).\n",
    "\n",
    "Implement a `__str__()` method to return a formatted description of the movie, including the **average rating** (rounded to **2 decimal** places).\n",
    "\n",
    "Then create a list of `Movie objects` and perform the **following tasks** (make functions for all):\n",
    "\n",
    "- Filter movies based on **genre and average rating** (greater than a given threshold).\n",
    "- Group the movies by director, and print out each director's filmography. (think of an appropriate data type)\n",
    "- Find the **highest-rated** movie for a **given genre** (based on average rating).\n",
    "- Calculate the **average rating** of all movies released in a **specific decade** (e.g., 1990s, 2000s).\n",
    "\n",
    "**Example input:**\n",
    "```python\n",
    "movies: List[Movies] = [\n",
    "    Movie(\"Inception\", \"Christopher Nolan\", [\"Leonardo DiCaprio\", \"Joseph Gordon-Levitt\"], 2010, \"Sci-Fi\", [9.2, 8.9, 9.5]),\n",
    "    Movie(\"Pulp Fiction\", \"Quentin Tarantino\", [\"John Travolta\", \"Uma Thurman\"], 1994, \"Crime\", [9.0, 8.8, 9.3]),\n",
    "    Movie(\"The Dark Knight\", \"Christopher Nolan\", [\"Christian Bale\", \"Heath Ledger\"], 2008, \"Action\", [9.7, 9.4, 9.8]),\n",
    "    Movie(\"The Matrix\", \"The Wachowskis\", [\"Keanu Reeves\", \"Laurence Fishburne\"], 1999, \"Sci-Fi\", [8.7, 8.5, 8.9]),\n",
    "    Movie(\"Interstellar\", \"Christopher Nolan\", [\"Matthew McConaughey\", \"Anne Hathaway\"], 2014, \"Sci-Fi\", [9.1, 9.3, 9.2]),\n",
    "    Movie(\"Kill Bill\", \"Quentin Tarantino\", [\"Uma Thurman\"], 2003, \"Action\", [8.3, 8.0, 8.5])\n",
    "]\n",
    "```\n",
    "**Expected Output:**\n",
    "```python\n",
    "# Print the average rating for each movie:\n",
    "\"Inception (2010) directed by Christopher Nolan. Avg. Rating: 9.2\"\n",
    "\"Pulp Fiction (1994) directed by Quentin Tarantino. Avg. Rating: 9.03\"\n",
    "\"The Dark Knight (2008) directed by Christopher Nolan. Avg. Rating: 9.63\"\n",
    "\"The Matrix (1999) directed by The Wachowskis. Avg. Rating: 8.7\"\n",
    "\"Interstellar (2014) directed by Christopher Nolan. Avg. Rating: 9.2\"\n",
    "\"Kill Bill (2003) directed by Quentin Tarantino. Avg. Rating: 8.27\"\n",
    "\n",
    "\n",
    "# Filter Sci-Fi movies with an average rating > 9.0:\n",
    "\"Interstellar (2014) directed by Christopher Nolan. Starring: Matthew McConaughey, Anne Hathaway (Genre: Sci-Fi) - Avg. Rating: 9.20\"\n",
    "\n",
    "# Group movies by director:\n",
    "{\n",
    "    'Christopher Nolan': [('Inception', 2010), ('The Dark Knight', 2008), ('Interstellar', 2014)]\n",
    "    'Quentin Tarantino': ['Pulp Fiction', 1994), ('Kill Bill', 2003)]\n",
    "    'The Wachowskis': [('The Matrix', 1999)]\n",
    "}\n",
    "\n",
    "# Find the highest-rated movie in the \"Sci-Fi\" genre:\n",
    "\"Highest-rated Sci-Fi movie: Interstellar with an average rating of 9.20\"\n",
    "\n",
    "# Average rating of movies released in the 2000s:\n",
    "\"Average rating for movies in the 2000s: 8.93\"\n",
    "```"
   ]
  },
  {
   "cell_type": "code",
   "execution_count": null,
   "id": "10273027-1027-459b-988d-bddd54e9d283",
   "metadata": {},
   "outputs": [],
   "source": [
    "# TODO."
   ]
  }
 ],
 "metadata": {
  "kernelspec": {
   "display_name": "Python 3 (ipykernel)",
   "language": "python",
   "name": "python3"
  },
  "language_info": {
   "codemirror_mode": {
    "name": "ipython",
    "version": 3
   },
   "file_extension": ".py",
   "mimetype": "text/x-python",
   "name": "python",
   "nbconvert_exporter": "python",
   "pygments_lexer": "ipython3",
   "version": "3.11.4"
  }
 },
 "nbformat": 4,
 "nbformat_minor": 5
}

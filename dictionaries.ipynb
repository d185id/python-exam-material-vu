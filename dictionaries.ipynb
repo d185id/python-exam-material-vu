{
 "cells": [
  {
   "cell_type": "markdown",
   "metadata": {},
   "source": [
    "# Dictionaries"
   ]
  },
  {
   "cell_type": "markdown",
   "metadata": {},
   "source": [
    "**In this notebook, we cover the following subjects:**\n",
    "- Defining a Dictionary;\n",
    "- Accessing Key-Value Pairs;\n",
    "- Modifying a Dictionary;\n",
    "- Iterating Through a Dictionary;\n",
    "- Nested Dictionaries.\n",
    "___________________________________________________________________________________________________________________________"
   ]
  },
  {
   "cell_type": "code",
   "execution_count": 1,
   "metadata": {
    "tags": []
   },
   "outputs": [],
   "source": [
    "# To enable type hints for lists and dicts, we need to import the following:\n",
    "from typing import List, Dict"
   ]
  },
  {
   "cell_type": "markdown",
   "metadata": {
    "tags": []
   },
   "source": [
    "## <span style=\"color:#4169E1\">Defining a Dictionary</span>\n",
    "\n",
    "\n",
    "In Python, a [dictionary][dict], shortened as `dict`, is a data type that stores collections of **mappings** between **keys** and **values**. Each key is associated with a single value, forming a **key-value pair** or **item**.\n",
    "\n",
    "A dictionary uses curly brackets `{}` and defines each entry with a `key:value` pair, separated by commas. The syntax looks as follows:\n",
    "\n",
    "```python\n",
    "my_dict: Dict[str, str] = {\n",
    "    'key1': 'value1', # item 1\n",
    "    'key2': 'value2', # item 2\n",
    "    'key3': 'value3', # item 2\n",
    "    # Add more key-value pairs as needed\n",
    "}\n",
    "```\n",
    "\n",
    "[dict]:https://programming-pybook.github.io/introProgramming/chapters/dictionaries.html"
   ]
  },
  {
   "cell_type": "markdown",
   "metadata": {},
   "source": [
    "```{note}\n",
    "A dictionary is a collection that is <b>ordered</b>, <b>mutable</b>, and does <b>not</b> allow duplicate keys.\n",
    "```"
   ]
  },
  {
   "cell_type": "markdown",
   "metadata": {},
   "source": [
    "To create an empty dictionary we can either used `{}` or the `dict()` function."
   ]
  },
  {
   "cell_type": "code",
   "execution_count": null,
   "metadata": {
    "tags": []
   },
   "outputs": [],
   "source": [
    "# Using {}\n",
    "an_empty_dict: Dict = {}\n",
    "print(an_empty_dict)"
   ]
  },
  {
   "cell_type": "code",
   "execution_count": null,
   "metadata": {},
   "outputs": [],
   "source": [
    "# Using dict()\n",
    "an_other_empty_dict: Dict = dict()\n",
    "print(an_other_empty_dict)"
   ]
  },
  {
   "cell_type": "markdown",
   "metadata": {},
   "source": [
    "Here's an example of a dictionary with some key-value pairs:"
   ]
  },
  {
   "cell_type": "code",
   "execution_count": null,
   "metadata": {},
   "outputs": [],
   "source": [
    "my_dict: Dict[str, str] = {\n",
    "    'name': 'John',\n",
    "    'age': 30,\n",
    "    'city': 'New York',\n",
    "    'is_student': False\n",
    "}\n",
    "\n",
    "print(my_dict)"
   ]
  },
  {
   "cell_type": "markdown",
   "metadata": {},
   "source": [
    "```{note}\n",
    "The type hint for a dictionary is <code>Dict</code> (imported from <code>typing</code>). Like lists, you need to specify the type hints for the data inside the dictionary. The syntax is <code>Dict[key_typehint, value_typehint]\n",
    "```"
   ]
  },
  {
   "cell_type": "markdown",
   "metadata": {},
   "source": [
    "So far, we've seen that a dictionary is quite similar to a list. However, while lists associate elements with an integer index, dictionaries use keys that can be of almost any type. Here's and overview of the properties of dictionaries and lists to understand their differences."
   ]
  },
  {
   "cell_type": "markdown",
   "metadata": {},
   "source": [
    "| Property                              | List            | Dict Keys              | Dict Values              | \n",
    "|-------------------------------------- |-----------------|------------------------|--------------------------|\n",
    "| **Mutable** (can you add add/remove?) | yes             | yes                    | yes                      |      \n",
    "| **Can** contain duplicates            | yes             | no                     | yes                      |\n",
    "| **Ordered**                           | yes             | yes (since Python 3.7) | yes (follows key order) |\n",
    "| **Can** contain                       | all             | immutables             |  all                     |\n",
    "\n"
   ]
  },
  {
   "cell_type": "markdown",
   "metadata": {
    "tags": []
   },
   "source": [
    "## <span style=\"color:#4169E1\">Accessing Key-Value Pairs</span>\n",
    "\n",
    "\n",
    "Now, how do we access values inside a dictionary? Well, that's what keys are for. You can find a specific value by its key, the same way in which you can access list elements by their index. Let's look at an example, but first, we initialise a dict."
   ]
  },
  {
   "cell_type": "code",
   "execution_count": null,
   "metadata": {
    "tags": []
   },
   "outputs": [],
   "source": [
    "pets: Dict[str, str] = {\"dog\" : \"Max\", \"cat\" : \"Lou-Lou\", \"bird\" : \"Marco\"}"
   ]
  },
  {
   "cell_type": "markdown",
   "metadata": {},
   "source": [
    "You can access the values in a dictionary using square brackets (`[]`) and the key, like this:"
   ]
  },
  {
   "cell_type": "code",
   "execution_count": null,
   "metadata": {
    "tags": []
   },
   "outputs": [],
   "source": [
    "# What will the output be of this cell?\n",
    "print(f\"I have a dog, his name is {pets['dog']}.\")"
   ]
  },
  {
   "cell_type": "markdown",
   "metadata": {},
   "source": [
    "There are aslo some methods we can use to access all the keys [(`.keys()`)][k] or all the values [(`.values()`)][v] of a dictionary.\n",
    "\n",
    "[k]: https://www.geeksforgeeks.org/python-dictionary-keys-method/\n",
    "[v]: https://www.geeksforgeeks.org/python-dictionary-values/"
   ]
  },
  {
   "cell_type": "code",
   "execution_count": null,
   "metadata": {
    "tags": []
   },
   "outputs": [],
   "source": [
    "print(pets.keys())"
   ]
  },
  {
   "cell_type": "code",
   "execution_count": null,
   "metadata": {
    "tags": []
   },
   "outputs": [],
   "source": [
    "print(pets.values())"
   ]
  },
  {
   "cell_type": "markdown",
   "metadata": {},
   "source": [
    "#### <span style=\"color:#B22222\">Let's think!</span>"
   ]
  },
  {
   "cell_type": "markdown",
   "metadata": {},
   "source": [
    "Can we still use indices to access elements? Each key-value pair is placed at a certain position, and dictionaries are ordered, so why not? What do you think will happen?"
   ]
  },
  {
   "cell_type": "code",
   "execution_count": null,
   "metadata": {
    "tags": []
   },
   "outputs": [],
   "source": [
    "# What happens?\n",
    "\n",
    "lion_data: Dict[str, int] = {\"weight\" : 185, \"length\" : 200, \"lifeSpan\" : 14}\n",
    "print(lion_data[0])"
   ]
  },
  {
   "cell_type": "code",
   "execution_count": null,
   "metadata": {
    "tags": []
   },
   "outputs": [],
   "source": [
    "# Then how do we access the first element?\n",
    "\n",
    "lion_data: Dict[str, int] = {\"weight\" : 185, \"length\" : 200, \"lifeSpan\" : 14}\n",
    "print(lion_data[\"weight\"])"
   ]
  },
  {
   "cell_type": "code",
   "execution_count": null,
   "metadata": {
    "tags": []
   },
   "outputs": [],
   "source": [
    "# Extra: Can we do this?\n",
    "\n",
    "print(lion_data[185])"
   ]
  },
  {
   "cell_type": "markdown",
   "metadata": {},
   "source": [
    "And what about duplicate keys?"
   ]
  },
  {
   "cell_type": "code",
   "execution_count": null,
   "metadata": {
    "tags": []
   },
   "outputs": [],
   "source": [
    "# What's going on here?\n",
    "\n",
    "example_dict: Dict[str, int] = {\"a\": 1, \"a\" : 2}\n",
    "print(example_dict[\"a\"])\n",
    "print(example_dict)"
   ]
  },
  {
   "cell_type": "markdown",
   "metadata": {
    "tags": []
   },
   "source": [
    "## <span style=\"color:#4169E1\">Modifying a Dictionary</span>"
   ]
  },
  {
   "cell_type": "markdown",
   "metadata": {},
   "source": [
    "#### <span style=\"color:#B22222\">Adding</span>\n",
    "\n",
    "You already know quite a lot about lists and how you use `.append()` to add new elements. Do you think you can use `.append()` to insert a new entry into a dictionary?"
   ]
  },
  {
   "cell_type": "code",
   "execution_count": null,
   "metadata": {
    "tags": []
   },
   "outputs": [],
   "source": [
    "# First we initialise a dict\n",
    "capitals: Dict[str, str] = {\"The Netherlands\": \"Amsterdam\", \"France\": \"Paris\", \"England\": \"London\"}"
   ]
  },
  {
   "cell_type": "code",
   "execution_count": null,
   "metadata": {
    "tags": []
   },
   "outputs": [],
   "source": [
    "# Will this work?\n",
    "capitals.append({\"Morocco\": \"Rabat\"})"
   ]
  },
  {
   "cell_type": "markdown",
   "metadata": {},
   "source": [
    "```{note}\n",
    "Remember that the functions <code>dir()</code> and <code>help()</code> can also be used for dictionaries.\n",
    "```"
   ]
  },
  {
   "cell_type": "markdown",
   "metadata": {},
   "source": [
    "What can we do instead? There are two ways:\n",
    "\n",
    "**1.** Use the [`.update()`][u] method to insert a new dictionary entry.\n",
    "\n",
    "[u]: https://www.w3schools.com/python/ref_dictionary_update.asp"
   ]
  },
  {
   "cell_type": "code",
   "execution_count": null,
   "metadata": {
    "tags": []
   },
   "outputs": [],
   "source": [
    "capitals.update({\"Morocco\" : \"Rabat\"})\n",
    "print(capitals)"
   ]
  },
  {
   "cell_type": "markdown",
   "metadata": {},
   "source": [
    "**2.** Assign a value to a new key directly as if it were already part of the dictionary."
   ]
  },
  {
   "cell_type": "code",
   "execution_count": null,
   "metadata": {
    "tags": []
   },
   "outputs": [],
   "source": [
    "# Remember: dict values can be of any type\n",
    "\n",
    "capitals[\"South-Africa\"] = [\"Pretoria\", \"Cape Town\", \"Bloemfontein\"]\n",
    "print(capitals)"
   ]
  },
  {
   "cell_type": "markdown",
   "metadata": {},
   "source": [
    "#### <span style=\"color:#B22222\">Deleting</span>"
   ]
  },
  {
   "cell_type": "markdown",
   "metadata": {},
   "source": [
    "Just as we can insert elements into a dictionary, we should also be able to delete elements. How can we do that? There are multiple ways:\n",
    "\n",
    "1. Use the [`del`][d] keyword (also works for lists).\n",
    "2. Use the [`.pop()`][d] method to delete an element by its key (also works for lists).\n",
    "2. Use the [`.popitem()`][d] method to delete the last element.\n",
    "\n",
    "[d]: https://www.w3schools.com/python/gloss_python_remove_dictionary_items.asp"
   ]
  },
  {
   "cell_type": "code",
   "execution_count": null,
   "metadata": {
    "tags": []
   },
   "outputs": [],
   "source": [
    "# First, we initialise a dict of LOTR characters and their roles\n",
    "\n",
    "lotr_characters: Dict[str, str] = {\n",
    "    'Frodo': 'Ring Bearer',\n",
    "    'Sam': 'Gardener',\n",
    "    'Aragorn': 'Ranger',\n",
    "    'Legolas': 'Elf Prince',\n",
    "    'Gimli': 'Dwarf Warrior'\n",
    "}"
   ]
  },
  {
   "cell_type": "markdown",
   "metadata": {},
   "source": [
    "**1.** Use of [`del`][d]\n",
    "\n",
    "[d]: https://www.w3schools.com/python/gloss_python_remove_dictionary_items.asp"
   ]
  },
  {
   "cell_type": "code",
   "execution_count": null,
   "metadata": {
    "tags": []
   },
   "outputs": [],
   "source": [
    "# Delete the character 'Aragorn'\n",
    "del lotr_characters['Aragorn']\n",
    "\n",
    "# Dictionary after deletion\n",
    "print(\"Dictionary after del:\", lotr_characters)"
   ]
  },
  {
   "cell_type": "markdown",
   "metadata": {},
   "source": [
    "**2.** Use of [`.pop()`][d]\n",
    "\n",
    "[d]: https://www.w3schools.com/python/gloss_python_remove_dictionary_items.asp"
   ]
  },
  {
   "cell_type": "code",
   "execution_count": null,
   "metadata": {
    "tags": []
   },
   "outputs": [],
   "source": [
    "# Pop the character 'Sam'\n",
    "popped_role = lotr_characters.pop('Sam')\n",
    "\n",
    "# Dictionary after pop\n",
    "print(\"Dictionary after pop:\", lotr_characters)\n",
    "print(\"Popped role:\", popped_role)"
   ]
  },
  {
   "cell_type": "markdown",
   "metadata": {},
   "source": [
    "**3.** Use of [`.popitem()`][d]\n",
    "\n",
    "[d]: https://www.w3schools.com/python/gloss_python_remove_dictionary_items.asp"
   ]
  },
  {
   "cell_type": "code",
   "execution_count": null,
   "metadata": {
    "tags": []
   },
   "outputs": [],
   "source": [
    "# Pop the last inserted element\n",
    "last_item = lotr_characters.popitem()\n",
    "\n",
    "# Dictionary after popping the last element\n",
    "print(\"Dictionary after popping last item:\", lotr_characters)\n",
    "print(\"Popped last item:\", last_item)"
   ]
  },
  {
   "cell_type": "markdown",
   "metadata": {},
   "source": [
    "#### <span style=\"color:#B22222\">Copying</span>"
   ]
  },
  {
   "cell_type": "markdown",
   "metadata": {},
   "source": [
    "Just like with lists, we can use either the [`.copy()`][c] method or the `=` operator to copy a dictionary. However, you may remember that there's a difference between these two approaches.\n",
    "\n",
    "**Let's think!** Here is a piece of code that aims to start off with one dictionary but save it in two separate variables to make different changes to each, to then print the two different dictionaries. However, something is not quite right. What’s going on? How can we fix it?\n",
    "\n",
    "[c]: https://www.w3schools.com/python/python_dictionaries_copy.asp"
   ]
  },
  {
   "cell_type": "code",
   "execution_count": null,
   "metadata": {
    "tags": []
   },
   "outputs": [],
   "source": [
    "# The Dictionaries\n",
    "dict1: Dict[str, int] = {\"a\" : 1, \"b\" : 2, \"c\" : 3, \"d\" : 4, \"e\" : 5, \"f\" : 6}\n",
    "dict2: Dict[str, int] = dict1\n",
    "\n",
    "# Changing dict1\n",
    "dict1.pop(\"b\")\n",
    "dict1.pop(\"d\")\n",
    "dict1.pop(\"f\")\n",
    "\n",
    "#Changing dict2\n",
    "dict2.pop(\"a\")\n",
    "dict2.pop(\"c\")\n",
    "dict2.pop(\"e\")\n",
    "\n",
    "# Printing the resulting dictionaries\n",
    "print(f\"dict1 is {dict1}.\")\n",
    "print(f\"dict2 is {dict2}.\")"
   ]
  },
  {
   "cell_type": "markdown",
   "metadata": {
    "tags": []
   },
   "source": [
    "## <span style=\"color:#4169E1\">Iterating Through a Dictionary</span>\n",
    "\n",
    "Just like we can iterate through lists, we can also iterate through dictionaries. Let's look at an example."
   ]
  },
  {
   "cell_type": "code",
   "execution_count": null,
   "metadata": {
    "tags": []
   },
   "outputs": [],
   "source": [
    "# Initialise a dict of Florence Pugh movies and their release years\n",
    "florence_pugh_movies: Dict[str, int] = {\n",
    "    'Lady Macbeth': 2016,\n",
    "    'Fighting with My Family': 2019,\n",
    "    'Midsommar': 2019,\n",
    "    'Little Women': 2019,\n",
    "    'Black Widow': 2021,\n",
    "    'Don’t Worry Darling': 2022,\n",
    "    'The Wonder': 2022,\n",
    "    'Oppenheimer': 2023\n",
    "}\n",
    "\n",
    "# Let's loop over the dict in a similar way as we would with a list\n",
    "for item in florence_pugh_movies:\n",
    "    print(item)"
   ]
  },
  {
   "cell_type": "markdown",
   "metadata": {},
   "source": [
    "You probably noticed that the output only shows the keys and not the values. How can we print both?"
   ]
  },
  {
   "cell_type": "markdown",
   "metadata": {},
   "source": [
    "#### <span style=\"color:#B22222\">Using the Methods <code>.keys()</code> and <code>.values()</code></span>"
   ]
  },
  {
   "cell_type": "markdown",
   "metadata": {},
   "source": [
    "First, as aforementioned, you can access the keys or values separately using the `.keys()` and `.values()` methods, respectively:"
   ]
  },
  {
   "cell_type": "code",
   "execution_count": null,
   "metadata": {
    "tags": []
   },
   "outputs": [],
   "source": [
    "# Access keys\n",
    "for movie in florence_pugh_movies.keys():\n",
    "    print(f\"Key: {movie}\")\n",
    "\n",
    "# Access values\n",
    "for release_year in florence_pugh_movies.values():\n",
    "    print(f\"Value: {release_year}\")"
   ]
  },
  {
   "cell_type": "markdown",
   "metadata": {},
   "source": [
    "#### <span style=\"color:#B22222\">Using the Method <code>.items()</code></span>"
   ]
  },
  {
   "cell_type": "markdown",
   "metadata": {},
   "source": [
    "If you want to access both keys and values simultaneously in a loop, you use the `.items()` method:"
   ]
  },
  {
   "cell_type": "code",
   "execution_count": null,
   "metadata": {
    "tags": []
   },
   "outputs": [],
   "source": [
    "for movie, release_year in florence_pugh_movies.items():\n",
    "    print(f\"{movie} came out in {release_year}.\")    "
   ]
  },
  {
   "cell_type": "markdown",
   "metadata": {},
   "source": [
    "```{admonition} Can you think of another built in function that requires 2 variables to loop with ?\n",
    ":class: tip, dropdown\n",
    "Good job! Indeed, <code>enumerate()</code> requires 2 variables (index, value) as we discussed when we talked about <code>for loops</code> and <code> while loops</code>.\n",
    "```"
   ]
  },
  {
   "cell_type": "markdown",
   "metadata": {
    "tags": []
   },
   "source": [
    "## <span style=\"color:#4169E1\">Nested Dictionaries</span>\n",
    "\n",
    "\n",
    "The great thing about dictionaries in Python is that you can create complex data structures using **nested dictionaries**. This allows you to add layers to your data."
   ]
  },
  {
   "cell_type": "code",
   "execution_count": null,
   "metadata": {
    "tags": []
   },
   "outputs": [],
   "source": [
    "gymnastics_data: Dict[str, int] = {\n",
    "    'Simone Biles': {\n",
    "        'birth_year': 1997,\n",
    "        'olympic_medals': {\n",
    "            'gold': 7,\n",
    "            'silver': 2,\n",
    "            'bronze': 2\n",
    "        },\n",
    "        'events': {\n",
    "            '2016': ['Rio Olympics', '4 Gold Medals', '1 Bronze Medal'],\n",
    "            '2020': ['Tokyo Olympics', '1 Silver Medal', '1 Bronze Medal'],\n",
    "            '2024': ['Paris Olympics', '3 Gold Medals', '1 Silver Medal']\n",
    "        }\n",
    "    }\n",
    "}"
   ]
  },
  {
   "cell_type": "markdown",
   "metadata": {},
   "source": [
    "We can access the values in nested dicts by using the keys in sequence. The syntax of this looks as follows:\n",
    "\n",
    "```python\n",
    "data = {\n",
    "    'outer': {\n",
    "        'middle': {\n",
    "            'inner': 'value'\n",
    "        }\n",
    "    }\n",
    "}\n",
    "```\n",
    "\n",
    "To access `'value'`, you would use:\n",
    "\n",
    "```python\n",
    "inner_value = data['outer']['middle']['inner']\n",
    "```\n",
    "\n",
    "Now, let’s apply this to the dictionary about Simone Biles."
   ]
  },
  {
   "cell_type": "code",
   "execution_count": null,
   "metadata": {
    "tags": []
   },
   "outputs": [],
   "source": [
    "print(f\"Simone Biles was born in {gymnastics_data['Simone Biles']['birth_year']}.\")\n",
    "print(f\"In the 2016 Rio Olympics, she won {gymnastics_data['Simone Biles']['events']['2016'][1]}.\")\n",
    "print(f\"Total gold medals won: {gymnastics_data['Simone Biles']['olympic_medals']['gold']}.\")"
   ]
  },
  {
   "cell_type": "markdown",
   "metadata": {},
   "source": [
    "```{note}\n",
    "Since dictionary values can be of any type, it’s possible for a value within a dictionary to be another dictionary. Just remember, keys have to be immutable, so you can’t use a dictionary as a key.\n",
    "```"
   ]
  },
  {
   "cell_type": "markdown",
   "metadata": {
    "tags": []
   },
   "source": [
    "## <span style=\"color:#3CB371\">Exercises</span>"
   ]
  },
  {
   "cell_type": "markdown",
   "metadata": {},
   "source": [
    "Let's practice! Mind that each exercise is designed with multiple levels to help you progressively build your skills. <span style=\"color:darkorange;\"><strong>Level 1</strong></span> is the foundational level, designed to be straightforward so that everyone can successfully complete it. In <span style=\"color:darkorange;\"><strong>Level 2</strong></span>, we step it up a notch, expecting you to use more complex concepts or combine them in new ways. Finally, in <span style=\"color:darkorange;\"><strong>Level 3</strong></span>, we get closest to exam level questions, but we may use some concepts that are not covered in this notebook. However, in programming, you often encounter situations where you’re unsure how to proceed. Fortunately, you can often solve these problems by starting to work on them and figuring things out as you go. Practicing this skill is extremely helpful, so we highly recommend completing these exercises.\n",
    "\n",
    "For each of the exercises, make sure to add a `docstring` and `type hints`, and **do not** import any libraries unless specified otherwise.\n",
    "<br>"
   ]
  },
  {
   "cell_type": "markdown",
   "metadata": {
    "tags": []
   },
   "source": [
    "### Exercise 1\n",
    "\n",
    "You have a list of dictionaries, each representing a student. Each dictionary contains the student’s full name, year, and a list of seven grades.\n",
    "\n",
    "<span style=\"color:darkorange;\"><strong>Level 1</strong>:</span> Use a `for`loop to calculate the average grade for each student and **print** the student’s information in the following format. Note that you only need to print the student’s first name, and that the average should be formatted to two digits only:\n",
    "\n",
    "**Format output**:\n",
    "```Python\n",
    "\"Student [First Name]'s average grade is [Average Grade]\"\n",
    "```"
   ]
  },
  {
   "cell_type": "code",
   "execution_count": 2,
   "metadata": {
    "tags": []
   },
   "outputs": [],
   "source": [
    "students: List[Dict[str, any]] = [\n",
    "    {\"name\": \"LeBron James\", \"year\": 2024, \"grades\": [68, 65, 62, 71, 47, 69, 33]},\n",
    "    {\"name\": \"Serena Williams\", \"year\": 2024, \"grades\": [81, 77, 89, 80, 87, 73, 90]},\n",
    "    {\"name\": \"Lionel Messi\", \"year\": 2024, \"grades\": [74, 80, 67, 72, 81, 89, 65]},\n",
    "    {\"name\": \"Usain Bolt\", \"year\": 2024, \"grades\": [83, 87, 83, 89, 88, 84, 98]},\n",
    "    {\"name\": \"Tom Brady\", \"year\": 2024, \"grades\": [67, 71, 61, 60, 82, 54, 71]},\n",
    "    {\"name\": \"Simone Biles\", \"year\": 2024, \"grades\": [95, 92, 97, 91, 99, 92, 98]},\n",
    "    {\"name\": \"Michael Phelps\", \"year\": 2024, \"grades\": [35, 48, 52, 41, 66, 40, 59]}\n",
    "]"
   ]
  },
  {
   "cell_type": "code",
   "execution_count": 78,
   "metadata": {
    "tags": []
   },
   "outputs": [
    {
     "name": "stdout",
     "output_type": "stream",
     "text": [
      "Student LeBron's average grade is 59.29\n",
      "Student Serena's average grade is 82.43\n",
      "Student Lionel's average grade is 75.43\n",
      "Student Usain's average grade is 87.43\n",
      "Student Tom's average grade is 66.57\n",
      "Student Simone's average grade is 94.86\n",
      "Student Michael's average grade is 48.71\n"
     ]
    }
   ],
   "source": [
    "# TODO.\n",
    "\n",
    "for dicts in students:\n",
    "    name = dicts[\"name\"].split()[0]\n",
    "\n",
    "    sum_grade = sum(dicts[\"grades\"])\n",
    "    average_grade = sum_grade/len(dicts[\"grades\"])\n",
    "    print(f\"Student {name}'s average grade is {average_grade:.2f}\")\n"
   ]
  },
  {
   "cell_type": "markdown",
   "metadata": {
    "tags": []
   },
   "source": [
    "<span style=\"color:darkorange;\"><strong>Level 2</strong>:</span> Expanding on the previous exercise, write a function `class_info()` that takes a list of student dictionaries as input (same format as Level 1) and **returns** the following information:\n",
    "\n",
    "- The average grade for the entire class;\n",
    "- The student with the highest average grade, including their name and grade;\n",
    "- The student with the lowest average grade, including their name and grade.\n",
    "\n",
    "**Print** this information **outside** the function in a clear and readable format. Again, note that you only need to print the student’s first name, and that the average should be formatted to two digits only:\n",
    "\n",
    "**Format output**:\n",
    "```Python\n",
    "\"Average grade for the entire class: [Class Average Grade]\"\n",
    "\n",
    "\"Student with the highest average grade: [Highest Student Name] with an average grade of [Highest Average Grade]\"\n",
    "\n",
    "\"Student with the lowest average grade: [Lowest Student Name] with an average grade of [Lowest Average Grade]\"\n",
    "```"
   ]
  },
  {
   "cell_type": "code",
   "execution_count": 44,
   "metadata": {},
   "outputs": [
    {
     "name": "stdout",
     "output_type": "stream",
     "text": [
      "Average grade for the entire class: 73.53\n",
      "Student with the highest average grade: Simone with an average grade of 94.86\n",
      "Student with the lowest average grade: Michael with an average grade of 48.71\n"
     ]
    }
   ],
   "source": [
    "students: List[Dict[str, any]] = [\n",
    "    {\"name\": \"LeBron James\", \"year\": 2024, \"grades\": [68, 65, 62, 71, 47, 69, 33]},\n",
    "    {\"name\": \"Serena Williams\", \"year\": 2024, \"grades\": [81, 77, 89, 80, 87, 73, 90]},\n",
    "    {\"name\": \"Lionel Messi\", \"year\": 2024, \"grades\": [74, 80, 67, 72, 81, 89, 65]},\n",
    "    {\"name\": \"Usain Bolt\", \"year\": 2024, \"grades\": [83, 87, 83, 89, 88, 84, 98]},\n",
    "    {\"name\": \"Tom Brady\", \"year\": 2024, \"grades\": [67, 71, 61, 60, 82, 54, 71]},\n",
    "    {\"name\": \"Simone Biles\", \"year\": 2024, \"grades\": [95, 92, 97, 91, 99, 92, 98]},\n",
    "    {\"name\": \"Michael Phelps\", \"year\": 2024, \"grades\": [35, 48, 52, 41, 66, 40, 59]}\n",
    "]\n",
    "# TODO.\n",
    "def class_info(student_info) -> tuple:\n",
    "    highest_grade = 0\n",
    "    best_student = \"\"\n",
    "    lowest_grade = 100\n",
    "    worst_student= \"\"\n",
    "    total_avg = 0 \n",
    "    for student in student_info:\n",
    "        first_name = student[\"name\"].split()[0]\n",
    "        average_grade = sum(student[\"grades\"])/len(student[\"grades\"])\n",
    "        total_avg += average_grade\n",
    "        if average_grade > highest_grade:\n",
    "            highest_grade = average_grade\n",
    "            best_student = first_name\n",
    "        if average_grade < lowest_grade:\n",
    "                    lowest_grade = average_grade\n",
    "                    worst_student = first_name\n",
    "    class_average = total_avg / len(student_info)\n",
    "    return best_student, highest_grade, worst_student, lowest_grade, class_average\n",
    "\n",
    "best, best_avg, worst, worst_avg, average_all = class_info(students)\n",
    "\n",
    "print(f\"Average grade for the entire class: {average_all:.2f}\")\n",
    "print(f\"Student with the highest average grade: {best} with an average grade of {best_avg:.2f}\")\n",
    "print(f\"Student with the lowest average grade: {worst} with an average grade of {worst_avg:.2f}\")\n",
    "\n",
    "\n",
    "\n"
   ]
  },
  {
   "cell_type": "markdown",
   "metadata": {},
   "source": [
    "<span style=\"color:darkorange;\"><strong>Level 3</strong>:</span> Ready for a real challange? We will extend the previous exercise with 3 new functions.\n",
    "\n",
    "**Function 1**: Write a function `performance_category()` that classifies each student into one of three categories based on their average grade:\n",
    "\n",
    "- \"Excellent\": Average grade ≥ 85\n",
    "- \"Good\": 70 ≤ Average grade < 85\n",
    "- \"Needs Improvement\": Average grade < 70\n",
    "\n",
    "The function should print each student’s name and their performance category in this format:\n",
    "\n",
    "```python\n",
    "[First Name] is in the [Performance Category] category\n",
    "```\n",
    "\n",
    "**Expected output:**\n",
    "\n",
    "```python\n",
    "'LeBron is in the Needs Improvement category'\n",
    "'Serena is in the Good category'\n",
    "'Lionel is in the Good category'\n",
    "'Usain is in the Excellent category'\n",
    "'Tom is in the Needs Improvement category'\n",
    "'Simone is in the Excellent category'\n",
    "'Michael is in the Needs Improvement category'\n",
    "\n",
    "```\n",
    "\n",
    "**Function 2**: Write a function `class_std_dev()` that calculates and returns the standard deviation of all students' grades combined.  \n",
    "\n",
    "Standard Deviation Explanation:  \n",
    "It measures how much the grades vary from the average grade. A low standard deviation means grades are close to the average, while a high standard deviation indicates grades are spread out.\n",
    "\n",
    "<img src=\"assets/std.svg\" width=200 height=150>\n",
    "\n",
    "σ = standard deviation  \n",
    "xi = each student's grade  \n",
    "μ = mean of all grades  \n",
    "N = total number of grades  \n",
    "\n",
    "**Expected output:**\n",
    "\n",
    "```python\n",
    "\n",
    "'Standard deviation of class grades: 19.46'\n",
    "```\n",
    "\n",
    "**Function3**: Write a function `class_percentiles()` to compute and print the 25th percentile, 50th percentile (median), and 75th percentile of the class grades.\n",
    "\n",
    "Percentile Explanation:  \n",
    "Percentiles show the grade distribution. \n",
    "- The 25th percentile (Q1) means 25% of grades are below that value,  \n",
    "- the 50th percentile (median) means half of the grades are below,  \n",
    "- and the 75th percentile (Q3) means 75% of grades are below that value.\n",
    "\n",
    "**Hint:**\n",
    "\n",
    "To calculate the 25 percentile use: 25th percentile: \n",
    "- P25 = 25/100*𝑁\n",
    "\n",
    "N = total number of grades  \n",
    "\n",
    "**Expected output:**\n",
    "\n",
    "```python\n",
    "\n",
    "'25th percentile (Q1): 61'\n",
    "'50th percentile (Median): 71'\n",
    "'75th percentile (Q3): 85'\n",
    "```\n",
    "\n"
   ]
  },
  {
   "cell_type": "code",
   "execution_count": null,
   "metadata": {
    "tags": []
   },
   "outputs": [],
   "source": [
    "# TODO."
   ]
  },
  {
   "cell_type": "markdown",
   "metadata": {
    "tags": []
   },
   "source": [
    "### Exercise 2\n",
    "\n",
    "A classic, well-known exercise with dictionaries is to implement a word frequency counter.\n",
    "\n",
    "<span style=\"color:darkorange;\"><strong>Level 1</strong>:</span> Your task is to create a Python function called `word_frequency()` that takes a string as input (use `sentence` as the argument in the function call). The function should count the frequency of each word and return a dictionary where the keys are words and the values are their corresponding frequencies.\n",
    "\n",
    "**Print** the dictionary **outside** the function in a clear and readable format. For this Level, you do not need to worry about uppercase and lowercase variations or punctuation marks.\n",
    "\n",
    "**Input:** you pass this argument to the parameter in the function call.\n",
    "```python\n",
    "sentence: str = \"Wow! The quick, quick brown fox—yes, the very quick fox—jumps over the lazy dog, and the quick fox runs quickly. Quickly, quickly, quickly!\"\n",
    "```\n",
    "\n",
    "**Output:**\n",
    "```python\n",
    "{'Wow!': 1, 'The': 1, 'quick,': 1, 'quick': 3, 'brown': 1, 'fox—yes,': 1, 'the': 3, 'very': 1, 'fox—jumps': 1, 'over': 1, 'lazy': 1, 'dog,': 1, 'and': 1, 'fox': 1, 'runs': 1, 'quickly.': 1, 'Quickly,': 1, 'quickly,': 1, 'quickly!': 1}\n",
    "```"
   ]
  },
  {
   "cell_type": "code",
   "execution_count": 45,
   "metadata": {
    "tags": []
   },
   "outputs": [],
   "source": [
    "sentence: str = \"Wow! The quick, quick brown fox—yes, the very quick fox—jumps over the lazy dog, and the quick fox runs quickly. Quickly, quickly, quickly!\""
   ]
  },
  {
   "cell_type": "code",
   "execution_count": 49,
   "metadata": {
    "tags": []
   },
   "outputs": [
    {
     "name": "stdout",
     "output_type": "stream",
     "text": [
      "{'Wow!': 1, 'The': 1, 'quick,': 1, 'quick': 3, 'brown': 1, 'fox—yes,': 1, 'the': 3, 'very': 1, 'fox—jumps': 1, 'over': 1, 'lazy': 1, 'dog,': 1, 'and': 1, 'fox': 1, 'runs': 1, 'quickly.': 1, 'Quickly,': 1, 'quickly,': 1, 'quickly!': 1}\n"
     ]
    }
   ],
   "source": [
    "# TODO.\n",
    "def word_frequency(input: str) -> dict:\n",
    "    freq_dict = {}\n",
    "    \n",
    "    listed_sentence = input.split()\n",
    "    for words in listed_sentence:\n",
    "        if words in freq_dict:\n",
    "            freq_dict[words] += 1\n",
    "        else:\n",
    "            freq_dict[words] = 1\n",
    "    return freq_dict\n",
    "\n",
    "\n",
    "result = word_frequency(sentence)\n",
    "print(result)\n",
    "\n"
   ]
  },
  {
   "cell_type": "markdown",
   "metadata": {},
   "source": [
    "<span style=\"color:darkorange;\"><strong>Level 2</strong>:</span> Copy and adjust the function `word_frequency()` so that it does **not** include punctuation and treats words as case-insensitive. For instance, ‘Love’ and ‘love’ should both be counted as ‘love’.\n",
    "\n",
    "**Print** the dictionary **outside** the function in a clear and readable format.\n",
    "\n",
    "**Input:** you pass this argument to the parameter in the function call.\n",
    "```python\n",
    "sentence: str = \"Wow! The quick, quick brown fox—yes, the very quick fox—jumps over the lazy dog, and the quick fox runs quickly. Quickly, quickly, quickly!\"\n",
    "```\n",
    "\n",
    "**Output:**\n",
    "```python\n",
    "{'wow': 1, 'the': 4, 'quick': 4, 'brown': 1, 'fox': 3, 'yes': 1, 'very': 1, 'jumps': 1, 'over': 1, 'lazy': 1, 'dog': 1, 'and': 1, 'runs': 1, 'quickly': 4}\n",
    "```"
   ]
  },
  {
   "cell_type": "code",
   "execution_count": 76,
   "metadata": {
    "tags": []
   },
   "outputs": [
    {
     "name": "stdout",
     "output_type": "stream",
     "text": [
      "wow the quick quick brown fox yes the very quick fox jumps over the lazy dog and the quick fox runs quickly quickly quickly quickly\n",
      "['wow', 'the', 'quick', 'quick', 'brown', 'fox', 'yes', 'the', 'very', 'quick', 'fox', 'jumps', 'over', 'the', 'lazy', 'dog', 'and', 'the', 'quick', 'fox', 'runs', 'quickly', 'quickly', 'quickly', 'quickly']\n",
      "{'wow': 1, 'the': 4, 'quick': 4, 'brown': 1, 'fox': 3, 'yes': 1, 'very': 1, 'jumps': 1, 'over': 1, 'lazy': 1, 'dog': 1, 'and': 1, 'runs': 1, 'quickly': 4}\n"
     ]
    }
   ],
   "source": [
    "# TODO.c\n",
    "sentence: str = \"Wow! The quick, quick brown fox—yes, the very quick fox—jumps over the lazy dog, and the quick fox runs quickly. Quickly, quickly, quickly!\"\n",
    "\n",
    "def word_frequency(input: str) -> dict:\n",
    "    freq_dict = {}\n",
    "    input = input.lower()\n",
    "    clean_sentence=''\n",
    "    for char in input:\n",
    "        if char.isalpha() or char == ' ':\n",
    "            clean_sentence += char\n",
    "        elif char == \"—\":\n",
    "            clean_sentence += ' '\n",
    "    print(clean_sentence)\n",
    "    listed_sentence = clean_sentence.split()[0]\n",
    "    print(listed_sentence)\n",
    "\n",
    "\n",
    "\n",
    "    for words in listed_sentence:\n",
    "        if words in freq_dict:\n",
    "            freq_dict[words] += 1\n",
    "        else:\n",
    "            freq_dict[words] = 1\n",
    "    return freq_dict\n",
    "\n",
    "\n",
    "result = word_frequency(sentence)\n",
    "print(result)\n",
    "\n",
    "\n"
   ]
  },
  {
   "cell_type": "code",
   "execution_count": null,
   "metadata": {},
   "outputs": [],
   "source": []
  },
  {
   "cell_type": "markdown",
   "metadata": {},
   "source": [
    "<span style=\"color:darkorange;\"><strong>Level 3</strong>:</span> Let's turn it up by one notch! Create a function called `advanced_analyzer()` that processes a given sentence and returns a detailed analysis, including:\n",
    "\n",
    "A dictionary that maps each unique word to another dictionary containing: (again, we do **not** include punctuation and treat words as case-insensitive)\n",
    "- The count of occurrences of the word.\n",
    "- The length of the word.\n",
    "- A list of positions (indices) in the sentence where the word appears.\n",
    "\n",
    "**Hint:** Use the explanation and helper output snippet between the dashed lines to get inspiration.\n",
    "\n",
    "**Example Input:**:\n",
    "```python\n",
    "sentence: str = \"Wow! The quick, quick brown fox—yes, the very quick fox—jumps over the lazy dog, and the quick fox runs quickly. Quickly, quickly, quickly!\"\n",
    "```\n",
    "\n",
    "**---------------------------------------------------------------------------------------**\n",
    "\n",
    "**The function should return a dictionary structured like this:**\n",
    "\n",
    "```python\n",
    "{\n",
    "    \"word\": {\n",
    "        \"count\": n,\n",
    "        \"length\": m,\n",
    "        \"positions\": [index1, index2, ...]\n",
    "    }\n",
    "}\n",
    "\n",
    "```\n",
    "\n",
    "**For example, for the word `\"quick\"`, the structure might look like:**\n",
    "\n",
    "```python\n",
    "\"quick\": {\n",
    "    \"count\": 5,\n",
    "    \"length\": 5,\n",
    "    \"positions\": [3, 4, 11, 13, 17]\n",
    "}\n",
    "\n",
    "```\n",
    "\n",
    "**---------------------------------------------------------------------------------------**\n",
    "\n",
    "**Expected output:**\n",
    "```python\n",
    "{\n",
    "    'wow': {'count': 1, 'length': 3, 'positions': [0]},\n",
    "    'the': {'count': 4, 'length': 3, 'positions': [1, 6, 10, 15]},\n",
    "    'quick': {'count': 5, 'length': 5, 'positions': [2, 3, 8, 11, 14]},\n",
    "    'brown': {'count': 1, 'length': 5, 'positions': [4]},\n",
    "    'fox': {'count': 4, 'length': 3, 'positions': [5, 9, 12, 18]},\n",
    "    'yes': {'count': 1, 'length': 3, 'positions': [6]},\n",
    "    'very': {'count': 1, 'length': 4, 'positions': [7]},\n",
    "    'jumps': {'count': 1, 'length': 5, 'positions': [8]},\n",
    "    'over': {'count': 1, 'length': 4, 'positions': [9]},\n",
    "    'lazy': {'count': 1, 'length': 4, 'positions': [10]},\n",
    "    'dog': {'count': 1, 'length': 3, 'positions': [11]},\n",
    "    'and': {'count': 1, 'length': 3, 'positions': [12]},\n",
    "    'runs': {'count': 1, 'length': 4, 'positions': [13]},\n",
    "    'quickly': {'count': 4, 'length': 7, 'positions': [14, 17, 18, 19]}\n",
    "}\n",
    "\n",
    "```"
   ]
  },
  {
   "cell_type": "markdown",
   "metadata": {
    "tags": []
   },
   "source": [
    "### Exercise 3\n",
    "\n",
    "<span style=\"color:darkorange;\"><strong>Level 1</strong>:</span> Create a list of book dictionaries called `my_books` with the following information: title, year published, and number of pages. Then, write a function called `find_books_by_year()` that takes two arguments: a list of book dictionaries and a year. The function should **return** a list of book titles published in that year. If no books were published in that year, the function should **return** “No books found\".\n",
    "\n",
    "**Print** the result **outside** the function in a clear and readable format.\n",
    "\n",
    "**Example input:** you pass these arguments to the parameters in the function call.\n",
    "\n",
    "```python\n",
    "my_books: List[Dict[str, any]] = [\n",
    "    {'title': 'To Kill a Mockingbird', 'year': 1960, 'pages': 281},\n",
    "    {'title': '1984', 'year': 1949, 'pages': 328},\n",
    "    {'title': 'Pride and Prejudice', 'year': 1813, 'pages': 432},\n",
    "    {'title': 'The Great Gatsby', 'year': 1925, 'pages': 180},\n",
    "    {'title': 'The Catcher in the Rye', 'year': 1951, 'pages': 277}\n",
    "]\n",
    "\n",
    "year: int = 1960\n",
    "```\n",
    "\n",
    "**Example output:**\n",
    "```python\n",
    "['To Kill a Mockingbird']\n",
    "```"
   ]
  },
  {
   "cell_type": "code",
   "execution_count": 53,
   "metadata": {},
   "outputs": [
    {
     "name": "stdout",
     "output_type": "stream",
     "text": [
      "Help on class list in module builtins:\n",
      "\n",
      "class list(object)\n",
      " |  list(iterable=(), /)\n",
      " |  \n",
      " |  Built-in mutable sequence.\n",
      " |  \n",
      " |  If no argument is given, the constructor creates a new empty list.\n",
      " |  The argument must be an iterable if specified.\n",
      " |  \n",
      " |  Methods defined here:\n",
      " |  \n",
      " |  __add__(self, value, /)\n",
      " |      Return self+value.\n",
      " |  \n",
      " |  __contains__(self, key, /)\n",
      " |      Return key in self.\n",
      " |  \n",
      " |  __delitem__(self, key, /)\n",
      " |      Delete self[key].\n",
      " |  \n",
      " |  __eq__(self, value, /)\n",
      " |      Return self==value.\n",
      " |  \n",
      " |  __ge__(self, value, /)\n",
      " |      Return self>=value.\n",
      " |  \n",
      " |  __getattribute__(self, name, /)\n",
      " |      Return getattr(self, name).\n",
      " |  \n",
      " |  __getitem__(...)\n",
      " |      x.__getitem__(y) <==> x[y]\n",
      " |  \n",
      " |  __gt__(self, value, /)\n",
      " |      Return self>value.\n",
      " |  \n",
      " |  __iadd__(self, value, /)\n",
      " |      Implement self+=value.\n",
      " |  \n",
      " |  __imul__(self, value, /)\n",
      " |      Implement self*=value.\n",
      " |  \n",
      " |  __init__(self, /, *args, **kwargs)\n",
      " |      Initialize self.  See help(type(self)) for accurate signature.\n",
      " |  \n",
      " |  __iter__(self, /)\n",
      " |      Implement iter(self).\n",
      " |  \n",
      " |  __le__(self, value, /)\n",
      " |      Return self<=value.\n",
      " |  \n",
      " |  __len__(self, /)\n",
      " |      Return len(self).\n",
      " |  \n",
      " |  __lt__(self, value, /)\n",
      " |      Return self<value.\n",
      " |  \n",
      " |  __mul__(self, value, /)\n",
      " |      Return self*value.\n",
      " |  \n",
      " |  __ne__(self, value, /)\n",
      " |      Return self!=value.\n",
      " |  \n",
      " |  __repr__(self, /)\n",
      " |      Return repr(self).\n",
      " |  \n",
      " |  __reversed__(self, /)\n",
      " |      Return a reverse iterator over the list.\n",
      " |  \n",
      " |  __rmul__(self, value, /)\n",
      " |      Return value*self.\n",
      " |  \n",
      " |  __setitem__(self, key, value, /)\n",
      " |      Set self[key] to value.\n",
      " |  \n",
      " |  __sizeof__(self, /)\n",
      " |      Return the size of the list in memory, in bytes.\n",
      " |  \n",
      " |  append(self, object, /)\n",
      " |      Append object to the end of the list.\n",
      " |  \n",
      " |  clear(self, /)\n",
      " |      Remove all items from list.\n",
      " |  \n",
      " |  copy(self, /)\n",
      " |      Return a shallow copy of the list.\n",
      " |  \n",
      " |  count(self, value, /)\n",
      " |      Return number of occurrences of value.\n",
      " |  \n",
      " |  extend(self, iterable, /)\n",
      " |      Extend list by appending elements from the iterable.\n",
      " |  \n",
      " |  index(self, value, start=0, stop=9223372036854775807, /)\n",
      " |      Return first index of value.\n",
      " |      \n",
      " |      Raises ValueError if the value is not present.\n",
      " |  \n",
      " |  insert(self, index, object, /)\n",
      " |      Insert object before index.\n",
      " |  \n",
      " |  pop(self, index=-1, /)\n",
      " |      Remove and return item at index (default last).\n",
      " |      \n",
      " |      Raises IndexError if list is empty or index is out of range.\n",
      " |  \n",
      " |  remove(self, value, /)\n",
      " |      Remove first occurrence of value.\n",
      " |      \n",
      " |      Raises ValueError if the value is not present.\n",
      " |  \n",
      " |  reverse(self, /)\n",
      " |      Reverse *IN PLACE*.\n",
      " |  \n",
      " |  sort(self, /, *, key=None, reverse=False)\n",
      " |      Sort the list in ascending order and return None.\n",
      " |      \n",
      " |      The sort is in-place (i.e. the list itself is modified) and stable (i.e. the\n",
      " |      order of two equal elements is maintained).\n",
      " |      \n",
      " |      If a key function is given, apply it once to each list item and sort them,\n",
      " |      ascending or descending, according to their function values.\n",
      " |      \n",
      " |      The reverse flag can be set to sort in descending order.\n",
      " |  \n",
      " |  ----------------------------------------------------------------------\n",
      " |  Class methods defined here:\n",
      " |  \n",
      " |  __class_getitem__(...) from builtins.type\n",
      " |      See PEP 585\n",
      " |  \n",
      " |  ----------------------------------------------------------------------\n",
      " |  Static methods defined here:\n",
      " |  \n",
      " |  __new__(*args, **kwargs) from builtins.type\n",
      " |      Create and return a new object.  See help(type) for accurate signature.\n",
      " |  \n",
      " |  ----------------------------------------------------------------------\n",
      " |  Data and other attributes defined here:\n",
      " |  \n",
      " |  __hash__ = None\n",
      "\n"
     ]
    }
   ],
   "source": [
    "my_books = []\n",
    "\n",
    "# TODO. \n",
    "help(list)"
   ]
  },
  {
   "cell_type": "markdown",
   "metadata": {},
   "source": [
    "<span style=\"color:darkorange;\"><strong>Level 2</strong>:</span> Copy `find_books_by_year()` and modify in such a way that it takes a list of book dictionaries and a list of years as input. The function should **return** a dictionary where each year in the input list is a key, and the corresponding value is a list of book titles published in that year. If no books were published in a given year, that year should be **included** in the dictionary with an empty list as the value.\n",
    "\n",
    "**Print** the result **outside** the function in a clear and readable format.\n",
    "\n",
    "\n",
    "**Example input:** you pass these arguments to the parameters in the function call.\n",
    "\n",
    "```python\n",
    "my_books: List[Dict[str, any]] = [\n",
    "    {'title': 'To Kill a Mockingbird', 'year': 1960, 'pages': 281},\n",
    "    {'title': '1984', 'year': 1949, 'pages': 328},\n",
    "    {'title': 'Pride and Prejudice', 'year': 1813, 'pages': 432},\n",
    "    {'title': 'The Great Gatsby', 'year': 1925, 'pages': 180},\n",
    "    {'title': 'The Catcher in the Rye', 'year': 1951, 'pages': 277}\n",
    "]\n",
    "\n",
    "target_years: List[int] = [1932, 1960, 2021]\n",
    "```\n",
    "\n",
    "**Example output:**\n",
    "```python\n",
    "{\n",
    "    1932: ['Brave New World'],\n",
    "    1960: ['To Kill a Mockingbird'],\n",
    "    2021: []\n",
    "}\n",
    "```"
   ]
  },
  {
   "cell_type": "code",
   "execution_count": null,
   "metadata": {
    "tags": []
   },
   "outputs": [],
   "source": [
    "# TODO."
   ]
  },
  {
   "cell_type": "markdown",
   "metadata": {},
   "source": [
    "<span style=\"color:darkorange;\"><strong>Level 3</strong>:</span> Create a function called `find_books_advanced()` that takes two parameters:\n",
    "\n",
    "- `books`: A list of dictionaries, where each dictionary contains information about a book (title, year, and pages).  \n",
    "- `criteria`: A dictionary where the keys are search parameters, which can include any combination of the following:  \n",
    "    - `\"year\"`: The year the book was published.  \n",
    "    - `\"min_pages\"`: The minimum number of pages the book should have.  \n",
    "    - `\"max_pages\"`: The maximum number of pages the book should have.  \n",
    "    - `\"title_keywords\"`: A list of keywords. The book's title must contain all of these keywords (case-insensitive).  \n",
    "\n",
    "The function should **return** a list of book titles that match all the given criteria. If no books match the criteria, return `\"No books found\"`.\n",
    "\n",
    "Additional requirements:\n",
    "\n",
    "- If the criteria dictionary is empty, the function should return a list of all book titles.\n",
    "- The matching for the \"title_keywords\" should be case-insensitive, and the title must include all the keywords provided.\n",
    "- If both `\"min_pages\"` and `\"max_pages\"` are provided, ensure that the book's number of pages falls between these two values (inclusive).\n",
    "\n",
    "\n",
    "**Example input:** you pass these arguments to the parameters in the function call.\n",
    "\n",
    "```python\n",
    "my_books: List[Dict[str, any]] = [\n",
    "    {'title': 'To Kill a Mockingbird', 'year': 1960, 'pages': 281},\n",
    "    {'title': '1984', 'year': 1949, 'pages': 328},\n",
    "    {'title': 'Pride and Prejudice', 'year': 1813, 'pages': 432},\n",
    "    {'title': 'The Great Gatsby', 'year': 1925, 'pages': 180},\n",
    "    {'title': 'The Catcher in the Rye', 'year': 1951, 'pages': 277}\n",
    "]\n",
    "\n",
    "criteria: Dict[str, any] = {\n",
    "    \"year\": 1949,\n",
    "    \"min_pages\": 300,\n",
    "    \"max_pages\": 350,\n",
    "    \"title_keywords\": [\"1984\"]\n",
    "}\n",
    "```\n",
    "\n",
    "**Example output:**\n",
    "```python\n",
    "['1984']\n",
    "\n",
    "```\n",
    "\n",
    "If no criteria are provided:\n",
    "\n",
    "```python\n",
    "find_books_advanced(my_books, criteria={})\n",
    "\n",
    "```\n",
    "\n",
    "**Example output:**\n",
    "```python\n",
    "['To Kill a Mockingbird', '1984', 'Pride and Prejudice', 'The Great Gatsby', 'The Catcher in the Rye']\n",
    "\n",
    "```"
   ]
  },
  {
   "cell_type": "code",
   "execution_count": null,
   "metadata": {},
   "outputs": [],
   "source": [
    "# TODO."
   ]
  },
  {
   "cell_type": "markdown",
   "metadata": {},
   "source": [
    "___________________________________________________________________________________________________________________________\n",
    "\n",
    "*Material for the VU Amsterdam course “Introduction to Python Programming” for BSc Artificial Intelligence students. These notebooks are created using the following sources:*\n",
    "1. [Learning Python by Doing][learning python]: This book, developed by teachers of TU/e Eindhoven and VU Amsterdam, is the main source for the course materials. Code snippets or text explanations from the book may be used in the notebooks, sometimes with slight adjustments.\n",
    "2. [Think Python][think python]\n",
    "3. [GeekForGeeks][geekforgeeks]\n",
    "\n",
    "[learning python]: https://programming-pybook.github.io/introProgramming/intro.html\n",
    "[think python]: https://greenteapress.com/thinkpython2/html/\n",
    "[geekforgeeks]: https://www.geeksforgeeks.org"
   ]
  }
 ],
 "metadata": {
  "kernelspec": {
   "display_name": "Python 3 (ipykernel)",
   "language": "python",
   "name": "python3"
  },
  "language_info": {
   "codemirror_mode": {
    "name": "ipython",
    "version": 3
   },
   "file_extension": ".py",
   "mimetype": "text/x-python",
   "name": "python",
   "nbconvert_exporter": "python",
   "pygments_lexer": "ipython3",
   "version": "3.10.14"
  },
  "vscode": {
   "interpreter": {
    "hash": "9451767feaf7925185bf37009af3205aec0103dc88a66dc09d267eb54aa4b1c3"
   }
  }
 },
 "nbformat": 4,
 "nbformat_minor": 4
}
